{
  "nbformat": 4,
  "nbformat_minor": 0,
  "metadata": {
    "colab": {
      "name": "rnn-returning-sequence-shape-fundamentals.ipynb",
      "provenance": [],
      "toc_visible": true,
      "authorship_tag": "ABX9TyOLnl038f9f1AEJucvrI0Pi",
      "include_colab_link": true
    },
    "kernelspec": {
      "name": "python3",
      "display_name": "Python 3"
    },
    "accelerator": "GPU"
  },
  "cells": [
    {
      "cell_type": "markdown",
      "metadata": {
        "id": "view-in-github",
        "colab_type": "text"
      },
      "source": [
        "<a href=\"https://colab.research.google.com/github/rahiakela/deep-learning--from-basics-to-practice/blob/24-keras-part-2/rnn_returning_sequence_shape_fundamentals.ipynb\" target=\"_parent\"><img src=\"https://colab.research.google.com/assets/colab-badge.svg\" alt=\"Open In Colab\"/></a>"
      ]
    },
    {
      "cell_type": "markdown",
      "metadata": {
        "id": "GjhIFip1RCIZ",
        "colab_type": "text"
      },
      "source": [
        "# RNN Returning Sequence Shape Fundamentals"
      ]
    },
    {
      "cell_type": "markdown",
      "metadata": {
        "id": "oGG9BVrYRdvt",
        "colab_type": "text"
      },
      "source": [
        "In our deep networks, we use the output of one RNN as the input of another RNN. We saw that the earlier RNN layer (the one providing the input to the next) needed a new argument. Its name was return_sequences and we set it to True (the default is False). \n",
        "\n",
        "Now it’s time to make good on our promise to discuss what that argument\n",
        "is about.\n",
        "\n",
        "Let’s take this simple network of an RNN that followed by a dense layer.Our goal was to hand the network a sequence of time steps, and then have it predict the next value after the sequence.\n",
        "\n",
        "<img src='https://github.com/rahiakela/img-repo/blob/master/returning-sequences-shape-0.png?raw=1' width='800'/>\n",
        "\n",
        "Our samples contained just one feature, which held a series of values\n",
        "from a 1D curve. These made up the time steps.\n",
        "\n",
        "When we gave the RNN our sample, it read the first time step and produced\n",
        "an output. This output was the contents of the internal state,\n",
        "after passing through the RNN’s internal selection gate. The output\n",
        "could be thought of as the RNN’s prediction of the next value of the\n",
        "curve.\n",
        "\n",
        "<img src='https://github.com/rahiakela/img-repo/blob/master/returning-sequences-shape-1.png?raw=1' width='800'/>\n",
        "\n",
        "But we didn’t care about that prediction, because we already knew the\n",
        "second time step. Keras knew we had more time steps to come, so it\n",
        "automatically ignored that output, and didn’t even send it to the dense\n",
        "layer.\n",
        "\n",
        "Instead, it gave the RNN the second time step. Again, the RNN\n",
        "produced an output, and again, Keras ignored it.\n",
        "\n",
        "Here we’ve handed the RNN the third time step, and it’s produced the third output, which we’re ignoring.\n",
        "\n",
        "We did this over and over, handing the RNN sequential time steps and\n",
        "ignoring the outputs, until we gave it the last time step in the sample.\n",
        "The output of that time step was the prediction for the value of the\n",
        "sequence after the end of our inputs, so that output was the value we\n",
        "were after all along. We fed that to our dense layer, and the output was\n",
        "the prediction.\n",
        "\n",
        "Suppose our inputs had more than one feature. If our data held\n",
        "weather measurements at the top of a mountain, maybe each sample\n",
        "held temperature, wind speed, and humidity.\n",
        "\n",
        "<img src='https://github.com/rahiakela/img-repo/blob/master/returning-sequences-shape-2.png?raw=1' width='800'/>\n",
        "\n",
        "So at each time step we give the RNN the values for all three features at that time step. The output is again the RNN’s internal state after the selection gate, so it has as many elements as there are elements in the internal state.\n",
        "\n",
        "As before, we get back one such output for every time step input we provide, and we only pay attention to the last one.\n",
        "\n",
        "First, our input is a 3D tensor. In this example, it has 1 sample, 7 time\n",
        "steps, and 3 features, so it has dimensions 1 by 7 by 3. \n",
        "\n",
        "The number of time steps, and the number of features, don’t appear in the output, which is a 2D tensor of shape 1 by 4. The 1 is because we only care\n",
        "about one output (the last one), and the 4 comes from the internal\n",
        "state of the RNN, which we’ve assuming has 4 elements.\n",
        "\n",
        "We “lost” the number of features because they are used internally by\n",
        "the RNN to control the forgetting, remembering, and selecting of the\n",
        "internal state. We “lost” the number of time steps because we chose to\n",
        "ignore all but the last one.\n",
        "\n",
        "Let’s expand the picture a little to include the unrolled RNN diagram.\n",
        "\n",
        "<img src='https://github.com/rahiakela/img-repo/blob/master/returning-sequences-shape-3.png?raw=1' width='800'/>\n",
        "\n",
        "Once again, the RNN’s internal state has 4 elements. We can see in the\n",
        "figure that at each time step, an entire row of features is fed to the RNN,\n",
        "which produces an output. Then the RNN’s state changes, which sets\n",
        "up the RNN for the next input, as shown by the open downward-pointing\n",
        "arrow. We only pay attention to the last output.The output is a 2D\n",
        "grid of shape 1 by 4.\n",
        "\n",
        "If we want to feed this output to a dense layer, we don’t have to do a\n",
        "thing.\n",
        "\n",
        "But suppose we want to take our sequence of outputs and present them\n",
        "as a sequence of inputs to another RNN layer, as we did in some of our\n",
        "deep RNN models above. We know that an RNN needs a 3D input, and\n",
        "the output here is 2D.\n",
        "\n",
        "We could just give it a depth of 1, producing a shape that’s 1 by 1 by 4.\n",
        "While this is now legal for an RNN, it doesn’t make any sense. A tensor\n",
        "with this shape would be interpreted as a single sample (the first 1)\n",
        "with 1 time step (the second 1), containing 4 features (the 4 at the end).\n",
        "That’s nothing like our single sample of 5 time steps and 3 features.\n",
        "\n",
        "Losing the time step information is a big problem, because that’s the\n",
        "idea at the heart of an RNN. We’re giving our first layer 5 time steps,\n",
        "and it’s producing 5 outputs. We then want to hand those 5 outputs to\n",
        "the next layer. Each output will have 4 elements (since we’re supposing\n",
        "that our RNN has 4 elements of internal state), so those 4 values\n",
        "will be interpreted by the next RNN as 4 features. But we need the 5\n",
        "time steps.\n",
        "\n",
        "<img src='https://github.com/rahiakela/img-repo/blob/master/returning-sequences-shape-4.png?raw=1' width='800'/>\n",
        "\n",
        "That’s actually easy to do. We just tell Keras to not ignore the output\n",
        "after each step. We tell it to take the outputs and stack them up to\n",
        "make a grid. It will be as tall as there are time steps, and as wide as\n",
        "there are elements in the internal state. Now we can give that grid a\n",
        "depth of 1, and it makes sense as an input to an RNN.\n",
        "\n",
        "To tell Keras to remember the output after each time step and build\n",
        "up this grid, we tell it that we want the RNN to return not just a single\n",
        "output, but the whole sequence of outputs corresponding to the\n",
        "sequence of inputs.\n",
        "\n",
        "By setting the optional argument return_sequences to True, we’re\n",
        "telling Keras to do exactly.\n",
        "\n",
        "\n",
        "\n",
        "\n",
        "\n",
        "\n",
        "\n",
        "\n"
      ]
    },
    {
      "cell_type": "markdown",
      "metadata": {
        "id": "qRlM8qIGYXZg",
        "colab_type": "text"
      },
      "source": [
        "## Setup"
      ]
    },
    {
      "cell_type": "code",
      "metadata": {
        "id": "dV8mgkJ5YZis",
        "colab_type": "code",
        "colab": {
          "base_uri": "https://localhost:8080/",
          "height": 33
        },
        "outputId": "5bcbf6ce-5a78-40a5-997f-fec67222f24e"
      },
      "source": [
        "from __future__ import absolute_import, division, print_function, unicode_literals\n",
        "\n",
        "try:\n",
        "  # %tensorflow_version only exists in Colab.\n",
        "  %tensorflow_version 2.x\n",
        "except Exception:\n",
        "  pass\n",
        "import tensorflow as tf\n",
        "from tensorflow import keras\n",
        "import numpy as np\n",
        "import pandas as pd\n",
        "\n",
        "import matplotlib.pyplot as plt\n",
        "\n",
        "from tensorflow.keras import backend as keras_backend\n",
        "from tensorflow.keras.utils import to_categorical\n",
        "\n",
        "from tensorflow.keras.models import Sequential\n",
        "from tensorflow.keras.layers import Dense, LSTM\n",
        "\n",
        "keras_backend.set_image_data_format('channels_last')"
      ],
      "execution_count": 1,
      "outputs": [
        {
          "output_type": "stream",
          "text": [
            "TensorFlow 2.x selected.\n"
          ],
          "name": "stdout"
        }
      ]
    },
    {
      "cell_type": "markdown",
      "metadata": {
        "id": "UyQim8VwY7LG",
        "colab_type": "text"
      },
      "source": [
        "## Experiment with RNN return sequence shape"
      ]
    },
    {
      "cell_type": "markdown",
      "metadata": {
        "id": "9bhSC8MZZNFX",
        "colab_type": "text"
      },
      "source": [
        "Now that we know what return_sequences is all about, we can usually\n",
        "invoke it without even thinking about all of this. If our RNN’s\n",
        "output is going into another RNN, just set return_sequences to\n",
        "True. If we want only the output after the last time step, we can set\n",
        "return_sequences to False, or just leave it off, since that’s the default\n",
        "value.\n",
        "\n",
        "<img src='https://github.com/rahiakela/img-repo/blob/master/returning-sequences-shape-5.png?raw=1' width='800'/>\n",
        "\n",
        "A few input shapes and their outputs with return_sequences set to\n",
        "both False and True in the below example."
      ]
    },
    {
      "cell_type": "code",
      "metadata": {
        "id": "yjiVLgRDZhza",
        "colab_type": "code",
        "colab": {}
      },
      "source": [
        "def show_output_shapes(data_shape):\n",
        "\n",
        "  def make_model(X_train, return_seq):\n",
        "    # create and fit the LSTM network\n",
        "    model = Sequential()\n",
        "    model.add(LSTM(4, input_shape=X_train[0].shape, return_sequences=return_seq))\n",
        "    model.compile(loss='mse', optimizer='adam')\n",
        "\n",
        "    return model\n",
        "\n",
        "  data = np.zeros(data_shape)\n",
        "  model = make_model(data, False)\n",
        "  pred = model.predict(data, batch_size=1, verbose=2)\n",
        "  print(f'Input shape: {data.shape}')\n",
        "  print(f'  Without sequences: {pred.shape}')\n",
        "\n",
        "  model = make_model(data, True)\n",
        "  pred = model.predict(data, batch_size=1, verbose=2)\n",
        "  print(f'  With sequences: {pred.shape}')"
      ],
      "execution_count": 0,
      "outputs": []
    },
    {
      "cell_type": "code",
      "metadata": {
        "id": "2Yx_hBO2b6P5",
        "colab_type": "code",
        "colab": {
          "base_uri": "https://localhost:8080/",
          "height": 100
        },
        "outputId": "21a1ff94-3065-41cc-d27c-32f0451c7dc4"
      },
      "source": [
        "# when 1 sample, 3 times step and 1 feature so shape would be (1, 3, 1)\n",
        "show_output_shapes([1, 3, 1])"
      ],
      "execution_count": 5,
      "outputs": [
        {
          "output_type": "stream",
          "text": [
            "1/1 - 0s\n",
            "Input shape: (1, 3, 1)\n",
            "  Without sequences: (1, 4)\n",
            "1/1 - 0s\n",
            "  With sequences: (1, 3, 4)\n"
          ],
          "name": "stdout"
        }
      ]
    },
    {
      "cell_type": "code",
      "metadata": {
        "id": "ZBLHcGegcnsL",
        "colab_type": "code",
        "colab": {
          "base_uri": "https://localhost:8080/",
          "height": 100
        },
        "outputId": "5d132d96-adb8-46d7-fb2f-80c21f61dd76"
      },
      "source": [
        "# when 1 sample, 5 times step and 1 feature so shape would be (1, 5, 1)\n",
        "show_output_shapes([1, 5, 1])"
      ],
      "execution_count": 6,
      "outputs": [
        {
          "output_type": "stream",
          "text": [
            "1/1 - 0s\n",
            "Input shape: (1, 5, 1)\n",
            "  Without sequences: (1, 4)\n",
            "1/1 - 0s\n",
            "  With sequences: (1, 5, 4)\n"
          ],
          "name": "stdout"
        }
      ]
    },
    {
      "cell_type": "code",
      "metadata": {
        "id": "oa4ns6Tsd1i7",
        "colab_type": "code",
        "colab": {
          "base_uri": "https://localhost:8080/",
          "height": 100
        },
        "outputId": "d488eeeb-ab51-4ae2-c373-a341f73f7672"
      },
      "source": [
        "# when 1 sample, 3 times step and 2 feature so shape would be (1, 3, 2)\n",
        "show_output_shapes([1, 3, 2])"
      ],
      "execution_count": 7,
      "outputs": [
        {
          "output_type": "stream",
          "text": [
            "1/1 - 0s\n",
            "Input shape: (1, 3, 2)\n",
            "  Without sequences: (1, 4)\n",
            "1/1 - 0s\n",
            "  With sequences: (1, 3, 4)\n"
          ],
          "name": "stdout"
        }
      ]
    },
    {
      "cell_type": "code",
      "metadata": {
        "id": "cCdsA32seDwh",
        "colab_type": "code",
        "colab": {
          "base_uri": "https://localhost:8080/",
          "height": 100
        },
        "outputId": "855e7108-bcfb-45cd-dc9c-6250704e1cb1"
      },
      "source": [
        "# when 1 sample, 5 times step and 2 feature so shape would be (1, 5, 2)\n",
        "show_output_shapes([1, 5, 2])"
      ],
      "execution_count": 8,
      "outputs": [
        {
          "output_type": "stream",
          "text": [
            "1/1 - 0s\n",
            "Input shape: (1, 5, 2)\n",
            "  Without sequences: (1, 4)\n",
            "1/1 - 0s\n",
            "  With sequences: (1, 5, 4)\n"
          ],
          "name": "stdout"
        }
      ]
    },
    {
      "cell_type": "code",
      "metadata": {
        "id": "KlQ_9lJ6ePYB",
        "colab_type": "code",
        "colab": {
          "base_uri": "https://localhost:8080/",
          "height": 100
        },
        "outputId": "77dab811-13c4-40c6-d4bf-3a602b013853"
      },
      "source": [
        "# when 2 sample, 3 times step and 2 feature so shape would be (2, 3, 2)\n",
        "show_output_shapes([2, 3, 2])"
      ],
      "execution_count": 9,
      "outputs": [
        {
          "output_type": "stream",
          "text": [
            "2/2 - 0s\n",
            "Input shape: (2, 3, 2)\n",
            "  Without sequences: (2, 4)\n",
            "2/2 - 0s\n",
            "  With sequences: (2, 3, 4)\n"
          ],
          "name": "stdout"
        }
      ]
    },
    {
      "cell_type": "code",
      "metadata": {
        "id": "HRH96DcIenEo",
        "colab_type": "code",
        "colab": {
          "base_uri": "https://localhost:8080/",
          "height": 100
        },
        "outputId": "249e2776-8557-4b77-b729-4e5b71fc9e90"
      },
      "source": [
        "# when 2 sample, 5 times step and 2 feature so shape would be (2, 5, 2)\n",
        "show_output_shapes([2, 5, 2])"
      ],
      "execution_count": 10,
      "outputs": [
        {
          "output_type": "stream",
          "text": [
            "2/2 - 0s\n",
            "Input shape: (2, 5, 2)\n",
            "  Without sequences: (2, 4)\n",
            "2/2 - 0s\n",
            "  With sequences: (2, 5, 4)\n"
          ],
          "name": "stdout"
        }
      ]
    },
    {
      "cell_type": "code",
      "metadata": {
        "id": "WeMEa0cfewNM",
        "colab_type": "code",
        "colab": {
          "base_uri": "https://localhost:8080/",
          "height": 100
        },
        "outputId": "157c0f2a-5419-4991-9cfd-c53b9c737486"
      },
      "source": [
        "# when 2 sample, 3 times step and 1 feature so shape would be (2, 3, 1)\n",
        "show_output_shapes([2, 3, 1])"
      ],
      "execution_count": 11,
      "outputs": [
        {
          "output_type": "stream",
          "text": [
            "2/2 - 0s\n",
            "Input shape: (2, 3, 1)\n",
            "  Without sequences: (2, 4)\n",
            "2/2 - 0s\n",
            "  With sequences: (2, 3, 4)\n"
          ],
          "name": "stdout"
        }
      ]
    },
    {
      "cell_type": "code",
      "metadata": {
        "id": "hGkdcjThfAJk",
        "colab_type": "code",
        "colab": {
          "base_uri": "https://localhost:8080/",
          "height": 100
        },
        "outputId": "f5e929d4-239e-4cf7-b7d3-8e41f9bc77eb"
      },
      "source": [
        "# when 2 sample, 5 times step and 1 feature so shape would be (2, 5, 1)\n",
        "show_output_shapes([2, 5, 1])"
      ],
      "execution_count": 12,
      "outputs": [
        {
          "output_type": "stream",
          "text": [
            "2/2 - 0s\n",
            "Input shape: (2, 5, 1)\n",
            "  Without sequences: (2, 4)\n",
            "2/2 - 0s\n",
            "  With sequences: (2, 5, 4)\n"
          ],
          "name": "stdout"
        }
      ]
    },
    {
      "cell_type": "code",
      "metadata": {
        "id": "7Cq3mioifIn3",
        "colab_type": "code",
        "colab": {
          "base_uri": "https://localhost:8080/",
          "height": 100
        },
        "outputId": "f28e1e7e-cfc0-4ac6-951a-c298acb5510e"
      },
      "source": [
        "# when 3 sample, 3 times step and 3 feature so shape would be (3, 3, 3)\n",
        "show_output_shapes([3, 3, 3])"
      ],
      "execution_count": 13,
      "outputs": [
        {
          "output_type": "stream",
          "text": [
            "3/3 - 0s\n",
            "Input shape: (3, 3, 3)\n",
            "  Without sequences: (3, 4)\n",
            "3/3 - 0s\n",
            "  With sequences: (3, 3, 4)\n"
          ],
          "name": "stdout"
        }
      ]
    },
    {
      "cell_type": "code",
      "metadata": {
        "id": "3ufJAFR_fWwV",
        "colab_type": "code",
        "colab": {
          "base_uri": "https://localhost:8080/",
          "height": 100
        },
        "outputId": "97ed7033-1b14-493b-edcb-a9e1a6949fd8"
      },
      "source": [
        "# when 3 sample, 5 times step and 3 feature so shape would be (3, 5, 3)\n",
        "show_output_shapes([3, 5, 3])"
      ],
      "execution_count": 14,
      "outputs": [
        {
          "output_type": "stream",
          "text": [
            "3/3 - 0s\n",
            "Input shape: (3, 5, 3)\n",
            "  Without sequences: (3, 4)\n",
            "3/3 - 0s\n",
            "  With sequences: (3, 5, 4)\n"
          ],
          "name": "stdout"
        }
      ]
    },
    {
      "cell_type": "markdown",
      "metadata": {
        "id": "c1hlg9zTZxnn",
        "colab_type": "text"
      },
      "source": [
        "## Conclusion"
      ]
    },
    {
      "cell_type": "markdown",
      "metadata": {
        "id": "11uEV7apZovq",
        "colab_type": "text"
      },
      "source": [
        "It’s useful to see at a glance whether an RNN returns just the final output\n",
        "or the full sequence. We mark the icon for an RNN that returns a\n",
        "sequence with a small box on the output side, suggesting multiple outputs.\n",
        "\n",
        "<img src='https://github.com/rahiakela/img-repo/blob/master/returning-sequences-shape-6.png?raw=1' width='800'/>"
      ]
    }
  ]
}