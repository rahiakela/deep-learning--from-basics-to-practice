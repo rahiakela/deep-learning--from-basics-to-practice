{
  "nbformat": 4,
  "nbformat_minor": 0,
  "metadata": {
    "colab": {
      "name": "5-training-history-analysis.ipynb",
      "provenance": [],
      "include_colab_link": true
    },
    "kernelspec": {
      "name": "python3",
      "display_name": "Python 3"
    }
  },
  "cells": [
    {
      "cell_type": "markdown",
      "metadata": {
        "id": "view-in-github",
        "colab_type": "text"
      },
      "source": [
        "<a href=\"https://colab.research.google.com/github/rahiakela/deep-learning--from-basics-to-practice/blob/23-keras-part-1/5_training_history_analysis.ipynb\" target=\"_parent\"><img src=\"https://colab.research.google.com/assets/colab-badge.svg\" alt=\"Open In Colab\"/></a>"
      ]
    },
    {
      "cell_type": "markdown",
      "metadata": {
        "id": "kEkrx1DZwrbV",
        "colab_type": "text"
      },
      "source": [
        "#Analysis of Training History"
      ]
    },
    {
      "cell_type": "markdown",
      "metadata": {
        "id": "7DoHUx4vyJQ2",
        "colab_type": "text"
      },
      "source": [
        "### Setup"
      ]
    },
    {
      "cell_type": "code",
      "metadata": {
        "id": "wLfz9j5ryKpk",
        "colab_type": "code",
        "colab": {
          "base_uri": "https://localhost:8080/",
          "height": 79
        },
        "outputId": "3ca89441-db2c-4b43-e862-7bcc7a8a50b5"
      },
      "source": [
        "from keras.datasets import mnist\n",
        "from keras import backend as Keras_backend\n",
        "from keras.utils.np_utils import to_categorical\n",
        "import matplotlib.pyplot as plt\n",
        "\n",
        "import numpy as np\n",
        "\n",
        "from keras import backend as keras_backend\n",
        "keras_backend.set_image_data_format('channels_last')"
      ],
      "execution_count": 1,
      "outputs": [
        {
          "output_type": "stream",
          "text": [
            "Using TensorFlow backend.\n"
          ],
          "name": "stderr"
        },
        {
          "output_type": "display_data",
          "data": {
            "text/html": [
              "<p style=\"color: red;\">\n",
              "The default version of TensorFlow in Colab will soon switch to TensorFlow 2.x.<br>\n",
              "We recommend you <a href=\"https://www.tensorflow.org/guide/migrate\" target=\"_blank\">upgrade</a> now \n",
              "or ensure your notebook will continue to use TensorFlow 1.x via the <code>%tensorflow_version 1.x</code> magic:\n",
              "<a href=\"https://colab.research.google.com/notebooks/tensorflow_version.ipynb\" target=\"_blank\">more info</a>.</p>\n"
            ],
            "text/plain": [
              "<IPython.core.display.HTML object>"
            ]
          },
          "metadata": {
            "tags": []
          }
        }
      ]
    },
    {
      "cell_type": "code",
      "metadata": {
        "id": "AvpPm4npyQhS",
        "colab_type": "code",
        "colab": {
          "base_uri": "https://localhost:8080/",
          "height": 437
        },
        "outputId": "8e54051e-ba46-41f1-ad6d-da9ea48edcff"
      },
      "source": [
        "from keras.datasets import mnist\n",
        "from keras import backend as keras_backend\n",
        "from keras.models import Sequential\n",
        "from keras.layers import Dense\n",
        "\n",
        "# load MNIST data and save sizes\n",
        "(X_train, y_train), (X_test, y_test) = mnist.load_data()\n",
        "\n",
        "image_height = X_train.shape[1]\n",
        "image_width = X_train.shape[2]\n",
        "number_of_pixels = image_height * image_width\n",
        "\n",
        "\n",
        "# convert to floating-point\n",
        "X_train = keras_backend.cast_to_floatx(X_train)\n",
        "X_test = keras_backend.cast_to_floatx(X_test)\n",
        "\n",
        "\n",
        "# scale data to range [0, 1]\n",
        "X_train /= 255.0\n",
        "X_test /= 255.0\n",
        "\n",
        "\n",
        "# save the original y_train and y_test\n",
        "original_y_train = y_train\n",
        "original_y_test = y_test\n",
        "\n",
        "# replace label data with one-hot encoded versions\n",
        "number_of_classes = 1 + max(np.append(y_train, y_test)).astype(np.int32)\n",
        "\n",
        "# encode each list into one-hot arrays of the size we just found\n",
        "y_train = to_categorical(y_train, num_classes=number_of_classes)\n",
        "y_test = to_categorical(y_test, num_classes=number_of_classes)\n",
        "\n",
        "# reshape samples to 2D grid, one line per image\n",
        "X_train = X_train.reshape([X_train.shape[0], number_of_pixels])\n",
        "X_test = X_test.reshape([X_test.shape[0], number_of_pixels])\n",
        "\n",
        "def make_one_hidden_layer_model():\n",
        "\n",
        "  # create an empty model\n",
        "  model = Sequential()\n",
        "\n",
        "  # add a fully-connected hidden layer with #nodes = #pixels\n",
        "  model.add(Dense(number_of_pixels, activation='relu', input_shape=[number_of_pixels]))\n",
        "\n",
        "  # add an output layer with softmax activation\n",
        "  model.add(Dense(number_of_classes, activation='softmax'))\n",
        "\n",
        "  # compile the model to turn it from specification to code\n",
        "  model.compile(loss='categorical_crossentropy', optimizer='adam', metrics=['accuracy'])\n",
        "\n",
        "  return model\n",
        "\n",
        "# make the model\n",
        "one_hidden_layer_model = make_one_hidden_layer_model()  \n",
        "one_hidden_layer_model.summary()"
      ],
      "execution_count": 2,
      "outputs": [
        {
          "output_type": "stream",
          "text": [
            "Downloading data from https://s3.amazonaws.com/img-datasets/mnist.npz\n",
            "11493376/11490434 [==============================] - 1s 0us/step\n",
            "WARNING:tensorflow:From /usr/local/lib/python3.6/dist-packages/keras/backend/tensorflow_backend.py:66: The name tf.get_default_graph is deprecated. Please use tf.compat.v1.get_default_graph instead.\n",
            "\n",
            "WARNING:tensorflow:From /usr/local/lib/python3.6/dist-packages/keras/backend/tensorflow_backend.py:541: The name tf.placeholder is deprecated. Please use tf.compat.v1.placeholder instead.\n",
            "\n",
            "WARNING:tensorflow:From /usr/local/lib/python3.6/dist-packages/keras/backend/tensorflow_backend.py:4432: The name tf.random_uniform is deprecated. Please use tf.random.uniform instead.\n",
            "\n",
            "WARNING:tensorflow:From /usr/local/lib/python3.6/dist-packages/keras/optimizers.py:793: The name tf.train.Optimizer is deprecated. Please use tf.compat.v1.train.Optimizer instead.\n",
            "\n",
            "WARNING:tensorflow:From /usr/local/lib/python3.6/dist-packages/keras/backend/tensorflow_backend.py:3576: The name tf.log is deprecated. Please use tf.math.log instead.\n",
            "\n",
            "Model: \"sequential_1\"\n",
            "_________________________________________________________________\n",
            "Layer (type)                 Output Shape              Param #   \n",
            "=================================================================\n",
            "dense_1 (Dense)              (None, 784)               615440    \n",
            "_________________________________________________________________\n",
            "dense_2 (Dense)              (None, 10)                7850      \n",
            "=================================================================\n",
            "Total params: 623,290\n",
            "Trainable params: 623,290\n",
            "Non-trainable params: 0\n",
            "_________________________________________________________________\n"
          ],
          "name": "stdout"
        }
      ]
    },
    {
      "cell_type": "markdown",
      "metadata": {
        "id": "0vQApmTfx51O",
        "colab_type": "text"
      },
      "source": [
        "### Motivation"
      ]
    },
    {
      "cell_type": "markdown",
      "metadata": {
        "id": "NiBiMSfRx8cm",
        "colab_type": "text"
      },
      "source": [
        "We mentioned before that fit() returned some history information\n",
        "that tells us how the training went. Let’s investigate that now and see\n",
        "what we can learn.\n",
        "\n",
        "To gather lots of data, this time we’ll train for 100 epochs, even though\n",
        "we know the system hits 100% on the training data after just 20 epochs.\n",
        "\n",
        "The history information is returned by fit(), so we can just assign the\n",
        "output of that method to a variable."
      ]
    },
    {
      "cell_type": "code",
      "metadata": {
        "id": "7qxWVBe5yDnA",
        "colab_type": "code",
        "colab": {
          "base_uri": "https://localhost:8080/",
          "height": 1000
        },
        "outputId": "e7fd2c34-0086-4185-d0f9-9a5519adb0a2"
      },
      "source": [
        "# call fit() to train the model, and save the history\n",
        "one_hidden_layer_history = one_hidden_layer_model.fit(X_train, y_train, validation_data=(X_test, y_test), epochs=100, batch_size=256, verbose=2)"
      ],
      "execution_count": 3,
      "outputs": [
        {
          "output_type": "stream",
          "text": [
            "WARNING:tensorflow:From /usr/local/lib/python3.6/dist-packages/tensorflow_core/python/ops/math_grad.py:1424: where (from tensorflow.python.ops.array_ops) is deprecated and will be removed in a future version.\n",
            "Instructions for updating:\n",
            "Use tf.where in 2.0, which has the same broadcast rule as np.where\n",
            "WARNING:tensorflow:From /usr/local/lib/python3.6/dist-packages/keras/backend/tensorflow_backend.py:1033: The name tf.assign_add is deprecated. Please use tf.compat.v1.assign_add instead.\n",
            "\n",
            "WARNING:tensorflow:From /usr/local/lib/python3.6/dist-packages/keras/backend/tensorflow_backend.py:1020: The name tf.assign is deprecated. Please use tf.compat.v1.assign instead.\n",
            "\n",
            "WARNING:tensorflow:From /usr/local/lib/python3.6/dist-packages/keras/backend/tensorflow_backend.py:3005: The name tf.Session is deprecated. Please use tf.compat.v1.Session instead.\n",
            "\n",
            "Train on 60000 samples, validate on 10000 samples\n",
            "Epoch 1/100\n",
            "WARNING:tensorflow:From /usr/local/lib/python3.6/dist-packages/keras/backend/tensorflow_backend.py:190: The name tf.get_default_session is deprecated. Please use tf.compat.v1.get_default_session instead.\n",
            "\n",
            "WARNING:tensorflow:From /usr/local/lib/python3.6/dist-packages/keras/backend/tensorflow_backend.py:197: The name tf.ConfigProto is deprecated. Please use tf.compat.v1.ConfigProto instead.\n",
            "\n",
            "WARNING:tensorflow:From /usr/local/lib/python3.6/dist-packages/keras/backend/tensorflow_backend.py:207: The name tf.global_variables is deprecated. Please use tf.compat.v1.global_variables instead.\n",
            "\n",
            "WARNING:tensorflow:From /usr/local/lib/python3.6/dist-packages/keras/backend/tensorflow_backend.py:216: The name tf.is_variable_initialized is deprecated. Please use tf.compat.v1.is_variable_initialized instead.\n",
            "\n",
            "WARNING:tensorflow:From /usr/local/lib/python3.6/dist-packages/keras/backend/tensorflow_backend.py:223: The name tf.variables_initializer is deprecated. Please use tf.compat.v1.variables_initializer instead.\n",
            "\n",
            " - 6s - loss: 0.3040 - acc: 0.9135 - val_loss: 0.1523 - val_acc: 0.9547\n",
            "Epoch 2/100\n",
            " - 5s - loss: 0.1226 - acc: 0.9651 - val_loss: 0.1052 - val_acc: 0.9687\n",
            "Epoch 3/100\n",
            " - 5s - loss: 0.0796 - acc: 0.9766 - val_loss: 0.0930 - val_acc: 0.9716\n",
            "Epoch 4/100\n",
            " - 5s - loss: 0.0569 - acc: 0.9838 - val_loss: 0.0700 - val_acc: 0.9795\n",
            "Epoch 5/100\n",
            " - 5s - loss: 0.0415 - acc: 0.9883 - val_loss: 0.0632 - val_acc: 0.9807\n",
            "Epoch 6/100\n",
            " - 5s - loss: 0.0317 - acc: 0.9912 - val_loss: 0.0601 - val_acc: 0.9811\n",
            "Epoch 7/100\n",
            " - 5s - loss: 0.0234 - acc: 0.9939 - val_loss: 0.0617 - val_acc: 0.9799\n",
            "Epoch 8/100\n",
            " - 5s - loss: 0.0180 - acc: 0.9960 - val_loss: 0.0646 - val_acc: 0.9804\n",
            "Epoch 9/100\n",
            " - 5s - loss: 0.0138 - acc: 0.9971 - val_loss: 0.0569 - val_acc: 0.9819\n",
            "Epoch 10/100\n",
            " - 5s - loss: 0.0106 - acc: 0.9980 - val_loss: 0.0582 - val_acc: 0.9823\n",
            "Epoch 11/100\n",
            " - 5s - loss: 0.0078 - acc: 0.9988 - val_loss: 0.0592 - val_acc: 0.9827\n",
            "Epoch 12/100\n",
            " - 5s - loss: 0.0059 - acc: 0.9992 - val_loss: 0.0604 - val_acc: 0.9814\n",
            "Epoch 13/100\n",
            " - 5s - loss: 0.0043 - acc: 0.9996 - val_loss: 0.0597 - val_acc: 0.9828\n",
            "Epoch 14/100\n",
            " - 5s - loss: 0.0034 - acc: 0.9997 - val_loss: 0.0644 - val_acc: 0.9815\n",
            "Epoch 15/100\n",
            " - 5s - loss: 0.0048 - acc: 0.9991 - val_loss: 0.0611 - val_acc: 0.9823\n",
            "Epoch 16/100\n",
            " - 5s - loss: 0.0064 - acc: 0.9986 - val_loss: 0.0809 - val_acc: 0.9787\n",
            "Epoch 17/100\n",
            " - 5s - loss: 0.0058 - acc: 0.9988 - val_loss: 0.0635 - val_acc: 0.9826\n",
            "Epoch 18/100\n",
            " - 5s - loss: 0.0020 - acc: 0.9999 - val_loss: 0.0631 - val_acc: 0.9834\n",
            "Epoch 19/100\n",
            " - 5s - loss: 0.0010 - acc: 1.0000 - val_loss: 0.0665 - val_acc: 0.9828\n",
            "Epoch 20/100\n",
            " - 5s - loss: 9.4437e-04 - acc: 1.0000 - val_loss: 0.0660 - val_acc: 0.9828\n",
            "Epoch 21/100\n",
            " - 5s - loss: 6.7724e-04 - acc: 1.0000 - val_loss: 0.0633 - val_acc: 0.9835\n",
            "Epoch 22/100\n",
            " - 5s - loss: 4.8250e-04 - acc: 1.0000 - val_loss: 0.0645 - val_acc: 0.9840\n",
            "Epoch 23/100\n",
            " - 5s - loss: 4.1322e-04 - acc: 1.0000 - val_loss: 0.0638 - val_acc: 0.9842\n",
            "Epoch 24/100\n",
            " - 5s - loss: 3.4598e-04 - acc: 1.0000 - val_loss: 0.0659 - val_acc: 0.9838\n",
            "Epoch 25/100\n",
            " - 5s - loss: 3.0571e-04 - acc: 1.0000 - val_loss: 0.0665 - val_acc: 0.9835\n",
            "Epoch 26/100\n",
            " - 5s - loss: 2.6935e-04 - acc: 1.0000 - val_loss: 0.0674 - val_acc: 0.9836\n",
            "Epoch 27/100\n",
            " - 5s - loss: 2.4314e-04 - acc: 1.0000 - val_loss: 0.0668 - val_acc: 0.9841\n",
            "Epoch 28/100\n",
            " - 5s - loss: 2.1955e-04 - acc: 1.0000 - val_loss: 0.0675 - val_acc: 0.9843\n",
            "Epoch 29/100\n",
            " - 5s - loss: 1.9219e-04 - acc: 1.0000 - val_loss: 0.0677 - val_acc: 0.9843\n",
            "Epoch 30/100\n",
            " - 5s - loss: 1.7353e-04 - acc: 1.0000 - val_loss: 0.0689 - val_acc: 0.9841\n",
            "Epoch 31/100\n",
            " - 5s - loss: 1.5687e-04 - acc: 1.0000 - val_loss: 0.0690 - val_acc: 0.9839\n",
            "Epoch 32/100\n",
            " - 5s - loss: 1.4524e-04 - acc: 1.0000 - val_loss: 0.0689 - val_acc: 0.9842\n",
            "Epoch 33/100\n",
            " - 5s - loss: 1.2711e-04 - acc: 1.0000 - val_loss: 0.0707 - val_acc: 0.9841\n",
            "Epoch 34/100\n",
            " - 5s - loss: 1.0574e-04 - acc: 1.0000 - val_loss: 0.0714 - val_acc: 0.9845\n",
            "Epoch 35/100\n",
            " - 5s - loss: 9.5190e-05 - acc: 1.0000 - val_loss: 0.0716 - val_acc: 0.9842\n",
            "Epoch 36/100\n",
            " - 5s - loss: 8.5759e-05 - acc: 1.0000 - val_loss: 0.0729 - val_acc: 0.9837\n",
            "Epoch 37/100\n",
            " - 5s - loss: 7.4015e-05 - acc: 1.0000 - val_loss: 0.0744 - val_acc: 0.9836\n",
            "Epoch 38/100\n",
            " - 5s - loss: 6.5992e-05 - acc: 1.0000 - val_loss: 0.0737 - val_acc: 0.9840\n",
            "Epoch 39/100\n",
            " - 5s - loss: 5.8951e-05 - acc: 1.0000 - val_loss: 0.0739 - val_acc: 0.9838\n",
            "Epoch 40/100\n",
            " - 5s - loss: 0.0230 - acc: 0.9936 - val_loss: 0.1045 - val_acc: 0.9747\n",
            "Epoch 41/100\n",
            " - 5s - loss: 0.0171 - acc: 0.9943 - val_loss: 0.0718 - val_acc: 0.9824\n",
            "Epoch 42/100\n",
            " - 5s - loss: 0.0032 - acc: 0.9991 - val_loss: 0.0730 - val_acc: 0.9826\n",
            "Epoch 43/100\n",
            " - 5s - loss: 8.0955e-04 - acc: 0.9999 - val_loss: 0.0682 - val_acc: 0.9836\n",
            "Epoch 44/100\n",
            " - 5s - loss: 3.3924e-04 - acc: 1.0000 - val_loss: 0.0701 - val_acc: 0.9849\n",
            "Epoch 45/100\n",
            " - 5s - loss: 4.0661e-04 - acc: 1.0000 - val_loss: 0.0687 - val_acc: 0.9845\n",
            "Epoch 46/100\n",
            " - 5s - loss: 2.0815e-04 - acc: 1.0000 - val_loss: 0.0690 - val_acc: 0.9846\n",
            "Epoch 47/100\n",
            " - 5s - loss: 1.6477e-04 - acc: 1.0000 - val_loss: 0.0693 - val_acc: 0.9846\n",
            "Epoch 48/100\n",
            " - 5s - loss: 1.4509e-04 - acc: 1.0000 - val_loss: 0.0696 - val_acc: 0.9845\n",
            "Epoch 49/100\n",
            " - 5s - loss: 1.2759e-04 - acc: 1.0000 - val_loss: 0.0698 - val_acc: 0.9845\n",
            "Epoch 50/100\n",
            " - 5s - loss: 1.1469e-04 - acc: 1.0000 - val_loss: 0.0703 - val_acc: 0.9846\n",
            "Epoch 51/100\n",
            " - 5s - loss: 1.0338e-04 - acc: 1.0000 - val_loss: 0.0710 - val_acc: 0.9847\n",
            "Epoch 52/100\n",
            " - 5s - loss: 9.3381e-05 - acc: 1.0000 - val_loss: 0.0712 - val_acc: 0.9848\n",
            "Epoch 53/100\n",
            " - 5s - loss: 8.4420e-05 - acc: 1.0000 - val_loss: 0.0717 - val_acc: 0.9848\n",
            "Epoch 54/100\n",
            " - 5s - loss: 7.6966e-05 - acc: 1.0000 - val_loss: 0.0723 - val_acc: 0.9849\n",
            "Epoch 55/100\n",
            " - 5s - loss: 7.0174e-05 - acc: 1.0000 - val_loss: 0.0724 - val_acc: 0.9853\n",
            "Epoch 56/100\n",
            " - 5s - loss: 6.3882e-05 - acc: 1.0000 - val_loss: 0.0722 - val_acc: 0.9853\n",
            "Epoch 57/100\n",
            " - 5s - loss: 5.9188e-05 - acc: 1.0000 - val_loss: 0.0729 - val_acc: 0.9848\n",
            "Epoch 58/100\n",
            " - 5s - loss: 5.3013e-05 - acc: 1.0000 - val_loss: 0.0732 - val_acc: 0.9847\n",
            "Epoch 59/100\n",
            " - 5s - loss: 4.8745e-05 - acc: 1.0000 - val_loss: 0.0736 - val_acc: 0.9848\n",
            "Epoch 60/100\n",
            " - 5s - loss: 4.4404e-05 - acc: 1.0000 - val_loss: 0.0740 - val_acc: 0.9848\n",
            "Epoch 61/100\n",
            " - 5s - loss: 4.0135e-05 - acc: 1.0000 - val_loss: 0.0736 - val_acc: 0.9852\n",
            "Epoch 62/100\n",
            " - 5s - loss: 3.6705e-05 - acc: 1.0000 - val_loss: 0.0745 - val_acc: 0.9846\n",
            "Epoch 63/100\n",
            " - 5s - loss: 3.3628e-05 - acc: 1.0000 - val_loss: 0.0750 - val_acc: 0.9850\n",
            "Epoch 64/100\n",
            " - 5s - loss: 3.0332e-05 - acc: 1.0000 - val_loss: 0.0754 - val_acc: 0.9850\n",
            "Epoch 65/100\n",
            " - 5s - loss: 2.7771e-05 - acc: 1.0000 - val_loss: 0.0759 - val_acc: 0.9850\n",
            "Epoch 66/100\n",
            " - 5s - loss: 2.4996e-05 - acc: 1.0000 - val_loss: 0.0760 - val_acc: 0.9852\n",
            "Epoch 67/100\n",
            " - 5s - loss: 2.2379e-05 - acc: 1.0000 - val_loss: 0.0770 - val_acc: 0.9850\n",
            "Epoch 68/100\n",
            " - 5s - loss: 2.0512e-05 - acc: 1.0000 - val_loss: 0.0773 - val_acc: 0.9850\n",
            "Epoch 69/100\n",
            " - 5s - loss: 1.8264e-05 - acc: 1.0000 - val_loss: 0.0774 - val_acc: 0.9850\n",
            "Epoch 70/100\n",
            " - 5s - loss: 1.6273e-05 - acc: 1.0000 - val_loss: 0.0776 - val_acc: 0.9849\n",
            "Epoch 71/100\n",
            " - 5s - loss: 1.4809e-05 - acc: 1.0000 - val_loss: 0.0789 - val_acc: 0.9850\n",
            "Epoch 72/100\n",
            " - 5s - loss: 1.3491e-05 - acc: 1.0000 - val_loss: 0.0789 - val_acc: 0.9853\n",
            "Epoch 73/100\n",
            " - 5s - loss: 1.1954e-05 - acc: 1.0000 - val_loss: 0.0793 - val_acc: 0.9854\n",
            "Epoch 74/100\n",
            " - 5s - loss: 1.0759e-05 - acc: 1.0000 - val_loss: 0.0794 - val_acc: 0.9851\n",
            "Epoch 75/100\n",
            " - 5s - loss: 9.5353e-06 - acc: 1.0000 - val_loss: 0.0806 - val_acc: 0.9849\n",
            "Epoch 76/100\n",
            " - 5s - loss: 8.7417e-06 - acc: 1.0000 - val_loss: 0.0807 - val_acc: 0.9851\n",
            "Epoch 77/100\n",
            " - 5s - loss: 7.7317e-06 - acc: 1.0000 - val_loss: 0.0817 - val_acc: 0.9851\n",
            "Epoch 78/100\n",
            " - 5s - loss: 7.1805e-06 - acc: 1.0000 - val_loss: 0.0809 - val_acc: 0.9852\n",
            "Epoch 79/100\n",
            " - 5s - loss: 6.2688e-06 - acc: 1.0000 - val_loss: 0.0820 - val_acc: 0.9849\n",
            "Epoch 80/100\n",
            " - 5s - loss: 5.6770e-06 - acc: 1.0000 - val_loss: 0.0826 - val_acc: 0.9851\n",
            "Epoch 81/100\n",
            " - 5s - loss: 4.9969e-06 - acc: 1.0000 - val_loss: 0.0831 - val_acc: 0.9850\n",
            "Epoch 82/100\n",
            " - 5s - loss: 4.4671e-06 - acc: 1.0000 - val_loss: 0.0833 - val_acc: 0.9849\n",
            "Epoch 83/100\n",
            " - 5s - loss: 4.0705e-06 - acc: 1.0000 - val_loss: 0.0845 - val_acc: 0.9849\n",
            "Epoch 84/100\n",
            " - 5s - loss: 3.5824e-06 - acc: 1.0000 - val_loss: 0.0843 - val_acc: 0.9853\n",
            "Epoch 85/100\n",
            " - 5s - loss: 3.2518e-06 - acc: 1.0000 - val_loss: 0.0851 - val_acc: 0.9850\n",
            "Epoch 86/100\n",
            " - 5s - loss: 2.8897e-06 - acc: 1.0000 - val_loss: 0.0858 - val_acc: 0.9847\n",
            "Epoch 87/100\n",
            " - 5s - loss: 2.6293e-06 - acc: 1.0000 - val_loss: 0.0859 - val_acc: 0.9850\n",
            "Epoch 88/100\n",
            " - 5s - loss: 2.3265e-06 - acc: 1.0000 - val_loss: 0.0857 - val_acc: 0.9852\n",
            "Epoch 89/100\n",
            " - 5s - loss: 2.0929e-06 - acc: 1.0000 - val_loss: 0.0869 - val_acc: 0.9849\n",
            "Epoch 90/100\n",
            " - 5s - loss: 1.8954e-06 - acc: 1.0000 - val_loss: 0.0868 - val_acc: 0.9847\n",
            "Epoch 91/100\n",
            " - 5s - loss: 1.6921e-06 - acc: 1.0000 - val_loss: 0.0884 - val_acc: 0.9849\n",
            "Epoch 92/100\n",
            " - 5s - loss: 1.5186e-06 - acc: 1.0000 - val_loss: 0.0884 - val_acc: 0.9850\n",
            "Epoch 93/100\n",
            " - 5s - loss: 1.4774e-06 - acc: 1.0000 - val_loss: 0.0888 - val_acc: 0.9851\n",
            "Epoch 94/100\n",
            " - 5s - loss: 1.2615e-06 - acc: 1.0000 - val_loss: 0.0894 - val_acc: 0.9847\n",
            "Epoch 95/100\n",
            " - 5s - loss: 1.1131e-06 - acc: 1.0000 - val_loss: 0.0896 - val_acc: 0.9850\n",
            "Epoch 96/100\n",
            " - 5s - loss: 1.0154e-06 - acc: 1.0000 - val_loss: 0.0903 - val_acc: 0.9849\n",
            "Epoch 97/100\n",
            " - 5s - loss: 9.1503e-07 - acc: 1.0000 - val_loss: 0.0917 - val_acc: 0.9850\n",
            "Epoch 98/100\n",
            " - 5s - loss: 8.4317e-07 - acc: 1.0000 - val_loss: 0.0915 - val_acc: 0.9851\n",
            "Epoch 99/100\n",
            " - 5s - loss: 7.9592e-07 - acc: 1.0000 - val_loss: 0.0912 - val_acc: 0.9849\n",
            "Epoch 100/100\n",
            " - 5s - loss: 6.9817e-07 - acc: 1.0000 - val_loss: 0.0920 - val_acc: 0.9851\n"
          ],
          "name": "stdout"
        }
      ]
    },
    {
      "cell_type": "markdown",
      "metadata": {
        "id": "75K_CqOWyhv_",
        "colab_type": "text"
      },
      "source": [
        "This contains a bunch of fields that\n",
        "summarize the training process (like how many epochs it ran for, and\n",
        "what parameters we used). The field that’s most interesting to us right\n",
        "now is called history. It’s a Python dictionary object that contains the\n",
        "accuracy and loss values for both the training and validation sets after\n",
        "each epoch.\n",
        "\n",
        "The training accuracies are in this dictionary as a list stored under the\n",
        "key ′acc′, so we’d get them from one_hidden_layer_history with\n",
        "one_hidden_layer_history.history[′acc′] (that’s a lot of typing!).\n",
        "The training loss uses the key ′loss′. Similarly, the validation accuracy\n",
        "and loss are stored with the keys ′val_acc′ and ′val_loss′.\n",
        "\n",
        "Plots the accuracy and loss of our training data graphically."
      ]
    },
    {
      "cell_type": "code",
      "metadata": {
        "id": "IgXrxqaVy4UR",
        "colab_type": "code",
        "colab": {
          "base_uri": "https://localhost:8080/",
          "height": 241
        },
        "outputId": "9b76cb41-9b14-42f5-d756-ad7765f7c0b7"
      },
      "source": [
        "history = one_hidden_layer_history  # a copy with a shorter name\n",
        "xs = range(len(history.history['acc']))\n",
        "\n",
        "plt.figure(figsize=(10,3))\n",
        "plt.subplot(1, 2, 1)\n",
        "plt.plot(xs, history.history['acc'], label='train')\n",
        "plt.plot(xs, history.history['val_acc'], label='validation')\n",
        "plt.legend(loc='lower right')\n",
        "plt.xlabel('epochs')\n",
        "plt.ylabel('accuracy')\n",
        "plt.title('one hidden layer accuracy')\n",
        "\n",
        "plt.subplot(1, 2, 2)\n",
        "plt.plot(xs, history.history['loss'], label='train')\n",
        "plt.plot(xs, history.history['val_loss'], label='validation')\n",
        "plt.legend(loc='upper right')\n",
        "plt.xlabel('epochs')\n",
        "plt.ylabel('loss')\n",
        "plt.title('one hidden layer loss')\n",
        "\n",
        "plt.show()"
      ],
      "execution_count": 4,
      "outputs": [
        {
          "output_type": "display_data",
          "data": {
            "image/png": "[encoded data removed]",
            "text/plain": [
              "<Figure size 720x216 with 2 Axes>"
            ]
          },
          "metadata": {
            "tags": []
          }
        }
      ]
    },
    {
      "cell_type": "markdown",
      "metadata": {
        "id": "_8jNRmGozLZp",
        "colab_type": "text"
      },
      "source": [
        "First, it’s worth noting the scales of the data. The accuracy graph begins\n",
        "at about 0.91 (and tops out at 1.0). That means that after just one epoch\n",
        "of training, our system was up to 91% accuracy. That’s far from perfect,\n",
        "but it’s pretty amazing for such a tiny network and one epoch of training.\n",
        "The loss plot has a correspondingly small range, from 0 to just 0.3.\n",
        "\n",
        "Both graphs show some spikes. This is probably due to a time when the\n",
        "samples arrived in just the right order so that some systematic errors\n",
        "were able to accumulate. The system righted itself nearly immediately\n",
        "in both cases.\n",
        "\n",
        "The training loss quickly drops to 0 by about the 20th epoch, and except\n",
        "for the spikes, it stays there. But the validation loss is slowly increasing.\n",
        "In other words, **the training loss and validation loss are diverging.\n",
        "This is a picture of overfitting.**\n",
        "\n",
        "Learning during overfitting is actually reducing our performance on\n",
        "the validation data, as the system fruitlessly learns more and more\n",
        "about the training set, sharpening its rules and memorizing details.\n",
        "This is a complete waste of effort, and it comes at the expense of losing\n",
        "generality, with each epoch causing even more harm to the network’s accuracy on new data. Though it doesn’t look like the accuracy is dropping\n",
        "in these graphs, the increasing validation loss suggests that that\n",
        "time may come, if we kept on training.\n",
        "\n",
        "To prevent this overfitting, we might be tempted to stop training where\n",
        "the loss or accuracy curves cross one another, but this would be too\n",
        "early. The validation accuracy is still improving, and the validation\n",
        "loss is still generally dropping. The best place to stop would be when\n",
        "our validation loss or accuracy stop improving. That is, when the loss\n",
        "starts to increase or the accuracy starts to drop. Of these two choices,\n",
        "we usually use increasing loss on the validation set as our trigger to\n",
        "stop training.\n"
      ]
    },
    {
      "cell_type": "code",
      "metadata": {
        "id": "3ib41j0m0BZL",
        "colab_type": "code",
        "colab": {
          "base_uri": "https://localhost:8080/",
          "height": 833
        },
        "outputId": "dcd42025-bd46-4784-a3c9-8a0caf17163e"
      },
      "source": [
        "# What's inside the history?\n",
        "dir(one_hidden_layer_history)"
      ],
      "execution_count": 5,
      "outputs": [
        {
          "output_type": "execute_result",
          "data": {
            "text/plain": [
              "['__class__',\n",
              " '__delattr__',\n",
              " '__dict__',\n",
              " '__dir__',\n",
              " '__doc__',\n",
              " '__eq__',\n",
              " '__format__',\n",
              " '__ge__',\n",
              " '__getattribute__',\n",
              " '__gt__',\n",
              " '__hash__',\n",
              " '__init__',\n",
              " '__init_subclass__',\n",
              " '__le__',\n",
              " '__lt__',\n",
              " '__module__',\n",
              " '__ne__',\n",
              " '__new__',\n",
              " '__reduce__',\n",
              " '__reduce_ex__',\n",
              " '__repr__',\n",
              " '__setattr__',\n",
              " '__sizeof__',\n",
              " '__str__',\n",
              " '__subclasshook__',\n",
              " '__weakref__',\n",
              " 'epoch',\n",
              " 'history',\n",
              " 'model',\n",
              " 'on_batch_begin',\n",
              " 'on_batch_end',\n",
              " 'on_epoch_begin',\n",
              " 'on_epoch_end',\n",
              " 'on_predict_batch_begin',\n",
              " 'on_predict_batch_end',\n",
              " 'on_predict_begin',\n",
              " 'on_predict_end',\n",
              " 'on_test_batch_begin',\n",
              " 'on_test_batch_end',\n",
              " 'on_test_begin',\n",
              " 'on_test_end',\n",
              " 'on_train_batch_begin',\n",
              " 'on_train_batch_end',\n",
              " 'on_train_begin',\n",
              " 'on_train_end',\n",
              " 'params',\n",
              " 'set_model',\n",
              " 'set_params',\n",
              " 'validation_data']"
            ]
          },
          "metadata": {
            "tags": []
          },
          "execution_count": 5
        }
      ]
    },
    {
      "cell_type": "code",
      "metadata": {
        "id": "5H197ml50Fbj",
        "colab_type": "code",
        "colab": {
          "base_uri": "https://localhost:8080/",
          "height": 683
        },
        "outputId": "dc4946e0-2356-437e-dee7-00edf0601e22"
      },
      "source": [
        "# What's inside the 'history' field?\n",
        "dir(one_hidden_layer_history.history)"
      ],
      "execution_count": 6,
      "outputs": [
        {
          "output_type": "execute_result",
          "data": {
            "text/plain": [
              "['__class__',\n",
              " '__contains__',\n",
              " '__delattr__',\n",
              " '__delitem__',\n",
              " '__dir__',\n",
              " '__doc__',\n",
              " '__eq__',\n",
              " '__format__',\n",
              " '__ge__',\n",
              " '__getattribute__',\n",
              " '__getitem__',\n",
              " '__gt__',\n",
              " '__hash__',\n",
              " '__init__',\n",
              " '__init_subclass__',\n",
              " '__iter__',\n",
              " '__le__',\n",
              " '__len__',\n",
              " '__lt__',\n",
              " '__ne__',\n",
              " '__new__',\n",
              " '__reduce__',\n",
              " '__reduce_ex__',\n",
              " '__repr__',\n",
              " '__setattr__',\n",
              " '__setitem__',\n",
              " '__sizeof__',\n",
              " '__str__',\n",
              " '__subclasshook__',\n",
              " 'clear',\n",
              " 'copy',\n",
              " 'fromkeys',\n",
              " 'get',\n",
              " 'items',\n",
              " 'keys',\n",
              " 'pop',\n",
              " 'popitem',\n",
              " 'setdefault',\n",
              " 'update',\n",
              " 'values']"
            ]
          },
          "metadata": {
            "tags": []
          },
          "execution_count": 6
        }
      ]
    },
    {
      "cell_type": "code",
      "metadata": {
        "id": "DhdC3PdR0-QM",
        "colab_type": "code",
        "colab": {}
      },
      "source": [
        ""
      ],
      "execution_count": 0,
      "outputs": []
    }
  ]
}