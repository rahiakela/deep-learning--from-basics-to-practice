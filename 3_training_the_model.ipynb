{
  "nbformat": 4,
  "nbformat_minor": 0,
  "metadata": {
    "colab": {
      "name": "3-training-the-model.ipynb",
      "provenance": [],
      "include_colab_link": true
    },
    "kernelspec": {
      "name": "python3",
      "display_name": "Python 3"
    }
  },
  "cells": [
    {
      "cell_type": "markdown",
      "metadata": {
        "id": "view-in-github",
        "colab_type": "text"
      },
      "source": [
        "<a href=\"https://colab.research.google.com/github/rahiakela/deep-learning--from-basics-to-practice/blob/23-keras-part-1/3_training_the_model.ipynb\" target=\"_parent\"><img src=\"https://colab.research.google.com/assets/colab-badge.svg\" alt=\"Open In Colab\"/></a>"
      ]
    },
    {
      "cell_type": "markdown",
      "metadata": {
        "id": "szyVQaYvU58f",
        "colab_type": "text"
      },
      "source": [
        "# Training The Model"
      ]
    },
    {
      "cell_type": "markdown",
      "metadata": {
        "id": "fbAEqzC3U8Cu",
        "colab_type": "text"
      },
      "source": [
        "## Setup"
      ]
    },
    {
      "cell_type": "code",
      "metadata": {
        "id": "R4BFB_CTU9t7",
        "colab_type": "code",
        "outputId": "63a9885c-41a3-4ed0-f3a7-930929011ccd",
        "colab": {
          "base_uri": "https://localhost:8080/",
          "height": 82
        }
      },
      "source": [
        "from keras.datasets import mnist\n",
        "from keras import backend as Keras_backend\n",
        "from keras.utils.np_utils import to_categorical\n",
        "import matplotlib.pyplot as plt\n",
        "\n",
        "import numpy as np\n",
        "\n",
        "from keras import backend as keras_backend\n",
        "keras_backend.set_image_data_format('channels_last')"
      ],
      "execution_count": 0,
      "outputs": [
        {
          "output_type": "stream",
          "text": [
            "Using TensorFlow backend.\n"
          ],
          "name": "stderr"
        },
        {
          "output_type": "display_data",
          "data": {
            "text/html": [
              "<p style=\"color: red;\">\n",
              "The default version of TensorFlow in Colab will soon switch to TensorFlow 2.x.<br>\n",
              "We recommend you <a href=\"https://www.tensorflow.org/guide/migrate\" target=\"_blank\">upgrade</a> now \n",
              "or ensure your notebook will continue to use TensorFlow 1.x via the <code>%tensorflow_version 1.x</code> magic:\n",
              "<a href=\"https://colab.research.google.com/notebooks/tensorflow_version.ipynb\" target=\"_blank\">more info</a>.</p>\n"
            ],
            "text/plain": [
              "<IPython.core.display.HTML object>"
            ]
          },
          "metadata": {
            "tags": []
          }
        }
      ]
    },
    {
      "cell_type": "code",
      "metadata": {
        "id": "JuZj1rrLVMqF",
        "colab_type": "code",
        "colab": {}
      },
      "source": [
        "from keras.datasets import mnist\n",
        "from keras import backend as keras_backend\n",
        "\n",
        "# load MNIST data and save sizes\n",
        "(X_train, y_train), (X_test, y_test) = mnist.load_data()\n",
        "\n",
        "image_height = X_train.shape[1]\n",
        "print(f'image_height = {image_height}')\n",
        "image_width = X_train.shape[2]\n",
        "print(f'image_width = {image_width}')\n",
        "number_of_pixels = image_height * image_width\n",
        "print(f'number_of_pixels = {number_of_pixels}')\n",
        "print()\n",
        "\n",
        "# convert to floating-point\n",
        "X_train = keras_backend.cast_to_floatx(X_train)\n",
        "X_test = keras_backend.cast_to_floatx(X_test)\n",
        "print(f'Before scalling: \\n {X_train[:1]}')\n",
        "print()\n",
        "\n",
        "# scale data to range [0, 1]\n",
        "X_train /= 255.0\n",
        "X_test /= 255.0\n",
        "print(f'After scalling: \\n {X_train[:1]}')\n",
        "print()\n",
        "\n",
        "# save the original y_train and y_test\n",
        "original_y_train = y_train\n",
        "original_y_test = y_test\n",
        "\n",
        "# replace label data with one-hot encoded versions\n",
        "number_of_classes = 1 + max(np.append(y_train, y_test)).astype(np.int32)\n",
        "print(f'number_of_classes: {number_of_classes}')\n",
        "\n",
        "# encode each list into one-hot arrays of the size we just found\n",
        "y_train = to_categorical(y_train, num_classes=number_of_classes)\n",
        "y_test = to_categorical(y_test, num_classes=number_of_classes)\n",
        "\n",
        "# reshape samples to 2D grid, one line per image\n",
        "X_train = X_train.reshape([X_train.shape[0], number_of_pixels])\n",
        "X_test = X_test.reshape([X_test.shape[0], number_of_pixels])"
      ],
      "execution_count": 0,
      "outputs": []
    },
    {
      "cell_type": "code",
      "metadata": {
        "id": "xi-1Vo7_X66X",
        "colab_type": "code",
        "outputId": "b1bab348-f955-4d12-99af-f6a8a09f928e",
        "colab": {
          "base_uri": "https://localhost:8080/",
          "height": 230
        }
      },
      "source": [
        "from keras.models import Sequential\n",
        "from keras.layers import Dense\n",
        "\n",
        "def make_one_hidden_layer_model():\n",
        "\n",
        "  # create an empty model\n",
        "  model = Sequential()\n",
        "\n",
        "  # add a fully-connected hidden layer with #nodes = #pixels\n",
        "  model.add(Dense(number_of_pixels, activation='relu', input_shape=[number_of_pixels]))\n",
        "\n",
        "  # add an output layer with softmax activation\n",
        "  model.add(Dense(number_of_classes, activation='softmax'))\n",
        "\n",
        "  # compile the model to turn it from specification to code\n",
        "  model.compile(loss='categorical_crossentropy', optimizer='adam', metrics=['accuracy'])\n",
        "\n",
        "  return model\n",
        "\n",
        "# make the model\n",
        "model = make_one_hidden_layer_model()  \n",
        "model.summary()"
      ],
      "execution_count": 0,
      "outputs": [
        {
          "output_type": "stream",
          "text": [
            "Model: \"sequential_3\"\n",
            "_________________________________________________________________\n",
            "Layer (type)                 Output Shape              Param #   \n",
            "=================================================================\n",
            "dense_5 (Dense)              (None, 784)               615440    \n",
            "_________________________________________________________________\n",
            "dense_6 (Dense)              (None, 10)                7850      \n",
            "=================================================================\n",
            "Total params: 623,290\n",
            "Trainable params: 623,290\n",
            "Non-trainable params: 0\n",
            "_________________________________________________________________\n"
          ],
          "name": "stdout"
        }
      ]
    },
    {
      "cell_type": "markdown",
      "metadata": {
        "id": "upCgTBZDVfP3",
        "colab_type": "text"
      },
      "source": [
        "## Motivation"
      ]
    },
    {
      "cell_type": "markdown",
      "metadata": {
        "id": "M1JC8TjVVgjb",
        "colab_type": "text"
      },
      "source": [
        "Now that our data is set up for learning, and we have a model defined\n",
        "and compiled, it’s time to give the data to the model and let it learn.\n",
        "\n",
        "This is where a library like Keras really shines. All the machine-learning\n",
        "work of managing the data flow, calculating gradients with backprop,\n",
        "applying weight update formulas, and the rest, is all handled for us.\n",
        "\n",
        "To keep an eye on the learning process, we can ask fit() to print out\n",
        "intermediate progress after each epoch. This lets us see if things are\n",
        "going well, and potentially interrupt the process if the network isn’t\n",
        "learning. If we do let it run to completion, fit() returns an object of\n",
        "type History. This contains all the data that Keras measured after each\n",
        "epoch, such as the model’s accuracy and loss. We can use that history\n",
        "to make plots and graphs to visualize the system’s performance.\n",
        "\n",
        "The training data is now simply called x and y, though since they’re the\n",
        "first two arguments we don’t have to explicitly provide those names.\n",
        "The data that’s then used to evaluate the system is called the validation\n",
        "data, not the test data. The reason for this is that Keras will\n",
        "evaluate our model after each epoch. Thus we hold the test data aside,\n",
        "to evaluate the final model just before deployment. We use the validation\n",
        "set for measuring performance while training.\n",
        "\n",
        "The first two arguments, which are both mandatory, are the training\n",
        "samples and the training labels, in that order. As we just saw, they’re\n",
        "called x and y, though following Python convention, these mandatory\n",
        "first arguments are usually not explicitly named when we call fit().\n",
        "\n",
        "During training, fit() will periodically evaluate the model using the\n",
        "validation data. We can choose to either provide that data explicitly, or\n",
        "we can tell fit() to extract a validation set from the input data.\n",
        "\n",
        "If we have our own validation data (as we do with MNIST), we provide\n",
        "the validation samples and their labels in a little 2-element list as the\n",
        "value of the optional argument validation_data.\n",
        "\n",
        "If we don’t have our own validation set, fit() can make one for us if\n",
        "we give it a value for the argument validation_split, in the form of\n",
        "a floating-point number from 0 to 1, telling it what percentage of the\n",
        "training data to use as validation data. This is like using scikit-learn’s\n",
        "train_test_split() routine, but on the fly. Generally speaking, it’s\n",
        "better to provide our own validation data, since we have more control\n",
        "over what it contains.\n",
        "\n",
        "we typically train models in mini-batches.\n",
        "Since we rarely train with the full batch at one time, many people refer\n",
        "to mini-batches as simply “batches.” Keras does this as well, using\n",
        "parameter names like batch_size for what is more properly a “minibatch\n",
        "size.” Since using “batch” for “mini-batch” is so common, we’ll\n",
        "use that language here as well.\n",
        "\n",
        "When learning in batches, fit() will pull off a batch-sized chunk of\n",
        "samples from our training set, learn from it, update the weights, and\n",
        "then take another chunk. It’s our job to tell fit() how big those\n",
        "chunks should be with the optional argument batch_size. This argument\n",
        "defaults to 32, but we can set it to any value we like. If we’re\n",
        "using a GPU, we typically set this to a power of 2 (like 32 or 128) that\n",
        "makes our data fit best into the GPU we’re using, so it can process an\n",
        "entire batch in one parallelized operation. When we’re training on a\n",
        "CPU only, we often use a larger batch size, perhaps even a few hundred\n",
        "samples, since our computer has more memory available.\n",
        "\n",
        "Another important argument is how many epochs the training should\n",
        "run for. Recall that one epoch means one complete pass through the\n",
        "training set.\n",
        "\n",
        "The last argument we’ll use is verbose, which tells the system how\n",
        "chatty to be after each epoch (grammatically, we might prefer “verbosity”\n",
        "for the name of this argument, but verbose it is). If we set this to 0\n",
        "it doesn’t print out anything. A value of 1 prints an animated progress bar that shows the system chugging its way through the samples in\n",
        "each epoch. A value of 2 just shows a single summary line of text after\n",
        "each epoch.\n",
        "\n",
        "Let’s train our model with our own validation data, for 3 epochs. Since\n",
        "we’re training on a CPU, we’ll use a large batch size of 256 samples per\n",
        "batch. This will give us smoother graphs when we plot our data, compared\n",
        "to the results for the smaller batch sizes we’d usually use if we\n",
        "were training on a GPU. We’ll set verbose to 2 so that we’ll get a line\n",
        "of information after each epoch."
      ]
    },
    {
      "cell_type": "code",
      "metadata": {
        "id": "WGMWfbCfVOGg",
        "colab_type": "code",
        "outputId": "14d89cfc-d154-4df1-e4f5-5dadfb51a2ab",
        "colab": {
          "base_uri": "https://localhost:8080/",
          "height": 499
        }
      },
      "source": [
        "# call fit() to train the model, and save the history\n",
        "history = model.fit(X_train, y_train, validation_data=(X_test, y_test), epochs=3, batch_size=256, verbose=2)"
      ],
      "execution_count": 0,
      "outputs": [
        {
          "output_type": "stream",
          "text": [
            "WARNING:tensorflow:From /usr/local/lib/python3.6/dist-packages/tensorflow_core/python/ops/math_grad.py:1424: where (from tensorflow.python.ops.array_ops) is deprecated and will be removed in a future version.\n",
            "Instructions for updating:\n",
            "Use tf.where in 2.0, which has the same broadcast rule as np.where\n",
            "WARNING:tensorflow:From /usr/local/lib/python3.6/dist-packages/keras/backend/tensorflow_backend.py:1033: The name tf.assign_add is deprecated. Please use tf.compat.v1.assign_add instead.\n",
            "\n",
            "WARNING:tensorflow:From /usr/local/lib/python3.6/dist-packages/keras/backend/tensorflow_backend.py:1020: The name tf.assign is deprecated. Please use tf.compat.v1.assign instead.\n",
            "\n",
            "WARNING:tensorflow:From /usr/local/lib/python3.6/dist-packages/keras/backend/tensorflow_backend.py:3005: The name tf.Session is deprecated. Please use tf.compat.v1.Session instead.\n",
            "\n",
            "Train on 60000 samples, validate on 10000 samples\n",
            "Epoch 1/3\n",
            "WARNING:tensorflow:From /usr/local/lib/python3.6/dist-packages/keras/backend/tensorflow_backend.py:190: The name tf.get_default_session is deprecated. Please use tf.compat.v1.get_default_session instead.\n",
            "\n",
            "WARNING:tensorflow:From /usr/local/lib/python3.6/dist-packages/keras/backend/tensorflow_backend.py:197: The name tf.ConfigProto is deprecated. Please use tf.compat.v1.ConfigProto instead.\n",
            "\n",
            "WARNING:tensorflow:From /usr/local/lib/python3.6/dist-packages/keras/backend/tensorflow_backend.py:207: The name tf.global_variables is deprecated. Please use tf.compat.v1.global_variables instead.\n",
            "\n",
            "WARNING:tensorflow:From /usr/local/lib/python3.6/dist-packages/keras/backend/tensorflow_backend.py:216: The name tf.is_variable_initialized is deprecated. Please use tf.compat.v1.is_variable_initialized instead.\n",
            "\n",
            "WARNING:tensorflow:From /usr/local/lib/python3.6/dist-packages/keras/backend/tensorflow_backend.py:223: The name tf.variables_initializer is deprecated. Please use tf.compat.v1.variables_initializer instead.\n",
            "\n",
            " - 6s - loss: 0.3000 - acc: 0.9159 - val_loss: 0.1482 - val_acc: 0.9574\n",
            "Epoch 2/3\n",
            " - 5s - loss: 0.1219 - acc: 0.9648 - val_loss: 0.1009 - val_acc: 0.9707\n",
            "Epoch 3/3\n",
            " - 6s - loss: 0.0797 - acc: 0.9771 - val_loss: 0.0830 - val_acc: 0.9741\n"
          ],
          "name": "stdout"
        }
      ]
    },
    {
      "cell_type": "markdown",
      "metadata": {
        "id": "FffYfXl9l_ou",
        "colab_type": "text"
      },
      "source": [
        "## Training A Model"
      ]
    },
    {
      "cell_type": "code",
      "metadata": {
        "id": "__673rqcXtS1",
        "colab_type": "code",
        "outputId": "d574cb13-a396-4f42-a9a8-80905cac62a5",
        "colab": {
          "base_uri": "https://localhost:8080/",
          "height": 355
        }
      },
      "source": [
        "from keras.datasets import mnist\n",
        "from keras import backend as keras_backend\n",
        "from keras.models import Sequential\n",
        "from keras.layers import Dense\n",
        "\n",
        "# load MNIST data and save sizes\n",
        "(X_train, y_train), (X_test, y_test) = mnist.load_data()\n",
        "\n",
        "image_height = X_train.shape[1]\n",
        "image_width = X_train.shape[2]\n",
        "number_of_pixels = image_height * image_width\n",
        "\n",
        "\n",
        "# convert to floating-point\n",
        "X_train = keras_backend.cast_to_floatx(X_train)\n",
        "X_test = keras_backend.cast_to_floatx(X_test)\n",
        "\n",
        "\n",
        "# scale data to range [0, 1]\n",
        "X_train /= 255.0\n",
        "X_test /= 255.0\n",
        "\n",
        "\n",
        "# save the original y_train and y_test\n",
        "original_y_train = y_train\n",
        "original_y_test = y_test\n",
        "\n",
        "# replace label data with one-hot encoded versions\n",
        "number_of_classes = 1 + max(np.append(y_train, y_test)).astype(np.int32)\n",
        "\n",
        "# encode each list into one-hot arrays of the size we just found\n",
        "y_train = to_categorical(y_train, num_classes=number_of_classes)\n",
        "y_test = to_categorical(y_test, num_classes=number_of_classes)\n",
        "\n",
        "# reshape samples to 2D grid, one line per image\n",
        "X_train = X_train.reshape([X_train.shape[0], number_of_pixels])\n",
        "X_test = X_test.reshape([X_test.shape[0], number_of_pixels])\n",
        "\n",
        "def make_one_hidden_layer_model():\n",
        "\n",
        "  # create an empty model\n",
        "  model = Sequential()\n",
        "\n",
        "  # add a fully-connected hidden layer with #nodes = #pixels\n",
        "  model.add(Dense(number_of_pixels, activation='relu', input_shape=[number_of_pixels]))\n",
        "\n",
        "  # add an output layer with softmax activation\n",
        "  model.add(Dense(number_of_classes, activation='softmax'))\n",
        "\n",
        "  # compile the model to turn it from specification to code\n",
        "  model.compile(loss='categorical_crossentropy', optimizer='adam', metrics=['accuracy'])\n",
        "\n",
        "  return model\n",
        "\n",
        "# make the model\n",
        "one_hidden_layer_model = make_one_hidden_layer_model()  \n",
        "one_hidden_layer_model.summary()\n",
        "\n",
        "# call fit() to train the model, and save the history\n",
        "history = one_hidden_layer_model.fit(X_train, y_train, validation_data=(X_test, y_test), epochs=3, batch_size=256, verbose=2)"
      ],
      "execution_count": 0,
      "outputs": [
        {
          "output_type": "stream",
          "text": [
            "Model: \"sequential_4\"\n",
            "_________________________________________________________________\n",
            "Layer (type)                 Output Shape              Param #   \n",
            "=================================================================\n",
            "dense_7 (Dense)              (None, 784)               615440    \n",
            "_________________________________________________________________\n",
            "dense_8 (Dense)              (None, 10)                7850      \n",
            "=================================================================\n",
            "Total params: 623,290\n",
            "Trainable params: 623,290\n",
            "Non-trainable params: 0\n",
            "_________________________________________________________________\n",
            "Train on 60000 samples, validate on 10000 samples\n",
            "Epoch 1/3\n",
            " - 6s - loss: 0.3055 - acc: 0.9153 - val_loss: 0.1513 - val_acc: 0.9540\n",
            "Epoch 2/3\n",
            " - 6s - loss: 0.1224 - acc: 0.9649 - val_loss: 0.0977 - val_acc: 0.9701\n",
            "Epoch 3/3\n",
            " - 6s - loss: 0.0806 - acc: 0.9766 - val_loss: 0.0834 - val_acc: 0.9733\n"
          ],
          "name": "stdout"
        }
      ]
    },
    {
      "cell_type": "markdown",
      "metadata": {
        "id": "zVOTry7WnVuo",
        "colab_type": "text"
      },
      "source": [
        "The validation data also looks good. Again, the loss is dropping every\n",
        "epoch, and the accuracy is climbing. After just 3 epochs of training, it’s\n",
        "already up to over 97% accuracy! That’s not nearly as good as the best\n",
        "scores anyone’s found.\n",
        "\n",
        "But it’s pretty amazing that with a tiny network containing just one hidden layer, after only 3 epochs of\n",
        "learning, and no tuning at all, we are recognizing handwritten digits\n",
        "correctly 97.5% of the time!\n",
        "\n",
        "Training for 3 epochs isn’t really enough for almost any network, even\n",
        "one this simple. Let’s run this for 20 epochs and see how it does. All\n",
        "we have to do is change the argument to epochs to 20 and let it go."
      ]
    },
    {
      "cell_type": "code",
      "metadata": {
        "id": "cOtTKJlrnIld",
        "colab_type": "code",
        "outputId": "8d589678-86d5-4864-ab9f-723750722cf6",
        "colab": {
          "base_uri": "https://localhost:8080/",
          "height": 746
        }
      },
      "source": [
        "one_hidden_layer_history = one_hidden_layer_model.fit(X_train, y_train, validation_data=(X_test, y_test), epochs=20, batch_size=256, verbose=2)"
      ],
      "execution_count": 14,
      "outputs": [
        {
          "output_type": "stream",
          "text": [
            "Train on 60000 samples, validate on 10000 samples\n",
            "Epoch 1/20\n",
            " - 5s - loss: 0.0133 - acc: 0.9954 - val_loss: 0.0701 - val_acc: 0.9821\n",
            "Epoch 2/20\n",
            " - 5s - loss: 0.0030 - acc: 0.9993 - val_loss: 0.0657 - val_acc: 0.9828\n",
            "Epoch 3/20\n",
            " - 5s - loss: 9.5026e-04 - acc: 0.9999 - val_loss: 0.0615 - val_acc: 0.9841\n",
            "Epoch 4/20\n",
            " - 5s - loss: 4.6822e-04 - acc: 1.0000 - val_loss: 0.0629 - val_acc: 0.9838\n",
            "Epoch 5/20\n",
            " - 5s - loss: 3.7288e-04 - acc: 1.0000 - val_loss: 0.0627 - val_acc: 0.9845\n",
            "Epoch 6/20\n",
            " - 5s - loss: 3.1258e-04 - acc: 1.0000 - val_loss: 0.0644 - val_acc: 0.9840\n",
            "Epoch 7/20\n",
            " - 5s - loss: 2.7448e-04 - acc: 1.0000 - val_loss: 0.0644 - val_acc: 0.9844\n",
            "Epoch 8/20\n",
            " - 5s - loss: 2.3795e-04 - acc: 1.0000 - val_loss: 0.0656 - val_acc: 0.9841\n",
            "Epoch 9/20\n",
            " - 5s - loss: 2.1369e-04 - acc: 1.0000 - val_loss: 0.0659 - val_acc: 0.9842\n",
            "Epoch 10/20\n",
            " - 5s - loss: 1.9100e-04 - acc: 1.0000 - val_loss: 0.0668 - val_acc: 0.9838\n",
            "Epoch 11/20\n",
            " - 5s - loss: 1.6975e-04 - acc: 1.0000 - val_loss: 0.0677 - val_acc: 0.9842\n",
            "Epoch 12/20\n",
            " - 6s - loss: 1.5472e-04 - acc: 1.0000 - val_loss: 0.0678 - val_acc: 0.9844\n",
            "Epoch 13/20\n",
            " - 5s - loss: 1.4028e-04 - acc: 1.0000 - val_loss: 0.0684 - val_acc: 0.9844\n",
            "Epoch 14/20\n",
            " - 5s - loss: 1.2479e-04 - acc: 1.0000 - val_loss: 0.0694 - val_acc: 0.9842\n",
            "Epoch 15/20\n",
            " - 5s - loss: 1.1226e-04 - acc: 1.0000 - val_loss: 0.0699 - val_acc: 0.9843\n",
            "Epoch 16/20\n",
            " - 6s - loss: 1.0197e-04 - acc: 1.0000 - val_loss: 0.0704 - val_acc: 0.9844\n",
            "Epoch 17/20\n",
            " - 5s - loss: 9.2315e-05 - acc: 1.0000 - val_loss: 0.0707 - val_acc: 0.9844\n",
            "Epoch 18/20\n",
            " - 5s - loss: 8.3526e-05 - acc: 1.0000 - val_loss: 0.0719 - val_acc: 0.9842\n",
            "Epoch 19/20\n",
            " - 5s - loss: 7.6756e-05 - acc: 1.0000 - val_loss: 0.0718 - val_acc: 0.9846\n",
            "Epoch 20/20\n",
            " - 5s - loss: 6.8753e-05 - acc: 1.0000 - val_loss: 0.0727 - val_acc: 0.9843\n"
          ],
          "name": "stdout"
        }
      ]
    },
    {
      "cell_type": "markdown",
      "metadata": {
        "id": "kUFmX-vpqdCg",
        "colab_type": "text"
      },
      "source": [
        "Our score on the training set is 100% accuracy. That’s perfection!\n",
        "\n",
        "The testing set score is not perfect, but it’s very respectable for such a\n",
        "simple model. Our model is misclassifying only 157 out of all 10,000\n",
        "test samples."
      ]
    },
    {
      "cell_type": "code",
      "metadata": {
        "id": "BkTPPSAGnvj_",
        "colab_type": "code",
        "colab": {}
      },
      "source": [
        "# build the error grid. each [y][x] is a list of all test images\n",
        "# with label y, but were mis-categorized as x\n",
        "predictions = one_hidden_layer_model.predict_classes(X_test, verbose=0)\n",
        "\n",
        "error_grid = [[[] for x in range(10)] for y in range(10)]\n",
        "matchList = predictions == original_y_test\n",
        "errorCount = 0\n",
        "for i in range(matchList.size):\n",
        "  if matchList[i] != True:\n",
        "    error_grid[original_y_test[i]][predictions[i]].append(i)"
      ],
      "execution_count": 0,
      "outputs": []
    },
    {
      "cell_type": "code",
      "metadata": {
        "id": "lh9zn8AirefD",
        "colab_type": "code",
        "colab": {
          "base_uri": "https://localhost:8080/",
          "height": 52
        },
        "outputId": "fd0c4ff2-0689-48b9-f63c-df77be528a12"
      },
      "source": [
        "# how many did we get right?\n",
        "pred_right = np.sum(matchList)\n",
        "pred_wrong = len(original_y_test) - pred_right\n",
        "print(f'Correct predictions = {pred_right} out of {len(original_y_test)}')\n",
        "print(f'Incorrect predictions = {pred_wrong}')"
      ],
      "execution_count": 16,
      "outputs": [
        {
          "output_type": "stream",
          "text": [
            "Correct predictions = 9843 out of 10000\n",
            "Incorrect predictions = 157\n"
          ],
          "name": "stdout"
        }
      ]
    },
    {
      "cell_type": "markdown",
      "metadata": {
        "id": "1LPg4x9isQqc",
        "colab_type": "text"
      },
      "source": [
        "One of the nice things about using image\n",
        "data is that we can look at it. Let’s look at some examples that were\n",
        "misclassified."
      ]
    },
    {
      "cell_type": "code",
      "metadata": {
        "id": "nOi42NMtsDw-",
        "colab_type": "code",
        "colab": {
          "base_uri": "https://localhost:8080/",
          "height": 1000
        },
        "outputId": "3ffb2ca2-952f-4028-bf56-cab47cc80484"
      },
      "source": [
        "# show the first image in each cell of the error grid\n",
        "plt.figure(figsize=(20,20))\n",
        "for y in range(10):\n",
        "    for x in range(10):\n",
        "        plt.subplot(10, 10, 1 + (y*10) + x)\n",
        "        if error_grid[y][x]:\n",
        "            list_index = error_grid[y][x][0]\n",
        "            #print(\"list_index = \",list_index)\n",
        "            img = X_test[list_index].reshape(28, 28)\n",
        "            plt.imshow(img, cmap=plt.get_cmap('gray'))\n",
        "        frame = plt.gca()\n",
        "        frame.axes.get_xaxis().set_visible(False)\n",
        "        frame.axes.get_yaxis().set_visible(False)\n",
        "plt.show()"
      ],
      "execution_count": 17,
      "outputs": [
        {
          "output_type": "display_data",
          "data": {
            "image/png": "[encoded data removed]",
            "text/plain": [
              "<Figure size 1440x1440 with 100 Axes>"
            ]
          },
          "metadata": {
            "tags": []
          }
        }
      ]
    },
    {
      "cell_type": "markdown",
      "metadata": {
        "id": "NNFwVLs_tHS_",
        "colab_type": "text"
      },
      "source": [
        "A “heat map” of our errors, where each cell tells us\n",
        "how many images fell into that cell. The range runs from black (for no\n",
        "images at that cell) through reds and then yellows to white."
      ]
    },
    {
      "cell_type": "code",
      "metadata": {
        "id": "Azhao0Nlsr9X",
        "colab_type": "code",
        "colab": {
          "base_uri": "https://localhost:8080/",
          "height": 258
        },
        "outputId": "7b478312-3173-4488-a3ea-37e6bb00a41f"
      },
      "source": [
        "from mpl_toolkits.axes_grid1 import make_axes_locatable\n",
        "\n",
        "# show a heat map of the length of each error list\n",
        "gridsize = [[len(error_grid[y][x]) for x in range(10)] for y in range(10)]\n",
        "fig, ax = plt.subplots()\n",
        "im = plt.imshow(gridsize, cmap='hot', interpolation='nearest')\n",
        "ax = plt.gca()\n",
        "ax.set_yticklabels([])\n",
        "ax.set_xticklabels([])\n",
        "divider = make_axes_locatable(ax)\n",
        "cax = divider.append_axes('right', size='5%', pad=0.25)\n",
        "fig.colorbar(im, cax=cax, orientation='vertical')\n",
        "plt.show()"
      ],
      "execution_count": 18,
      "outputs": [
        {
          "output_type": "display_data",
          "data": {
            "image/png": "[encoded data removed]",
            "text/plain": [
              "<Figure size 432x288 with 2 Axes>"
            ]
          },
          "metadata": {
            "tags": []
          }
        }
      ]
    },
    {
      "cell_type": "markdown",
      "metadata": {
        "id": "lK2yk4zOtOV0",
        "colab_type": "text"
      },
      "source": [
        "The white box in the 9th position of the 5th row shows that on this\n",
        "training run, the biggest mistake the system consistently made was\n",
        "with digits that had been labeled as a 4, but which the system identified\n",
        "as a 9. Out of the 10,000 digits in the validation set, 9 images were\n",
        "misclassified this way. Other common mistakes were digits labeled as\n",
        "5 being called 3, and digits labeled 7 being classified as 3."
      ]
    }
  ]
}