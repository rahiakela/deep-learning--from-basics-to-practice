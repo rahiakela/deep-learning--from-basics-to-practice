{
  "nbformat": 4,
  "nbformat_minor": 0,
  "metadata": {
    "colab": {
      "name": "convolution-networks.ipynb",
      "provenance": [],
      "toc_visible": true,
      "include_colab_link": true
    },
    "kernelspec": {
      "name": "python3",
      "display_name": "Python 3"
    },
    "accelerator": "GPU"
  },
  "cells": [
    {
      "cell_type": "markdown",
      "metadata": {
        "id": "view-in-github",
        "colab_type": "text"
      },
      "source": [
        "<a href=\"https://colab.research.google.com/github/rahiakela/deep-learning--from-basics-to-practice/blob/24-keras-part-2/convolution_networks.ipynb\" target=\"_parent\"><img src=\"https://colab.research.google.com/assets/colab-badge.svg\" alt=\"Open In Colab\"/></a>"
      ]
    },
    {
      "cell_type": "markdown",
      "metadata": {
        "id": "O9BC6gBzaL0J",
        "colab_type": "text"
      },
      "source": [
        "# Convolution Networks"
      ]
    },
    {
      "cell_type": "markdown",
      "metadata": {
        "id": "grcvrwtzaNCc",
        "colab_type": "text"
      },
      "source": [
        "Let’s build some convolutional neural networks, also called convnets,\n",
        "or more commonly, CNNs.\n",
        "\n",
        "Each convolution layer holds a collection of\n",
        "filters, or kernels, which are rectangles of numbers (often a small\n",
        "square that is 3, 5, or 7 elements on a side). When we use 2D convolution\n",
        "layers with images, each filter in the first layer is applied in turn\n",
        "to every pixel in the input. The output of the filter becomes the value\n",
        "of that element in a new tensor produced at the layer’s output. If there\n",
        "are multiple filters, then the output tensor contains multiple channels,\n",
        "just like the red, green, and blue channels of a color image.\n",
        "\n",
        "We can characterize a convolution layer by\n",
        "the number of dimensions in which the filters are moved. If the filter is\n",
        "moved in just one dimension (for example, down), then we call it a 1D\n",
        "convolution layer. Typically, when we work with images, we slide our\n",
        "filters over the 2D width and height of the tensor, so we usually use 2D\n",
        "convolution layers for image processing. Keras also offers 3D convolution\n",
        "layers for working with volumetric data.\n",
        "\n",
        "In practice we don’t often build and train\n",
        "a new CNN from the ground up. Instead, we usually try to start with\n",
        "an existing network whenever possible, and specialize it for our task\n",
        "by perhaps modifying it, and then training it some more with our own\n",
        "data. Such transfer learning is appealing because we get to start\n",
        "with an existing architecture that is known to work well, and we save\n",
        "the time (sometimes days or weeks) that was invested in training the\n",
        "model we’re building upon. We also get the benefit of the data that\n",
        "network was trained on, which might not be available to us.\n",
        "\n",
        "But it’s important to know how to build our own from scratch. This\n",
        "lets us start fresh when we need to, and gives us the tools to modify an\n",
        "existing network when we want to. Whether we’re working with our\n",
        "own model or one we’ve adopted, knowing what’s going on inside will\n",
        "help us diagnose problems and get the best performance out of our\n",
        "model."
      ]
    },
    {
      "cell_type": "markdown",
      "metadata": {
        "id": "ZQ21oxlNb8n4",
        "colab_type": "text"
      },
      "source": [
        "## Setup"
      ]
    },
    {
      "cell_type": "code",
      "metadata": {
        "id": "f7yhl_bfb9-q",
        "colab_type": "code",
        "colab": {
          "base_uri": "https://localhost:8080/",
          "height": 35
        },
        "outputId": "4b9a0c0b-43b8-4c24-f1ff-c0ec732bc8f5"
      },
      "source": [
        "from __future__ import absolute_import, division, print_function, unicode_literals\n",
        "\n",
        "try:\n",
        "  # %tensorflow_version only exists in Colab.\n",
        "  %tensorflow_version 2.x\n",
        "except Exception:\n",
        "  pass\n",
        "import tensorflow as tf\n",
        "from tensorflow import keras\n",
        "import numpy as np\n",
        "import pandas as pd\n",
        "\n",
        "import matplotlib.pyplot as plt\n",
        "\n",
        "from tensorflow.keras.datasets import mnist\n",
        "from tensorflow.keras import backend as keras_backend\n",
        "from tensorflow.keras.utils import to_categorical\n",
        "\n",
        "from tensorflow.keras.models import Sequential\n",
        "from tensorflow.keras.layers import Dense, Dropout, Activation, Flatten, Conv2D, MaxPooling2D, BatchNormalization\n",
        "from tensorflow.keras.constraints import max_norm\n",
        "from tensorflow.keras.optimizers import Adam, SGD, RMSprop\n",
        "from tensorflow.keras.preprocessing.image import ImageDataGenerator\n",
        "\n",
        "keras_backend.set_image_data_format('channels_last')"
      ],
      "execution_count": 2,
      "outputs": [
        {
          "output_type": "stream",
          "text": [
            "TensorFlow 2.x selected.\n"
          ],
          "name": "stdout"
        }
      ]
    },
    {
      "cell_type": "markdown",
      "metadata": {
        "id": "zUGjUjK3m4Gs",
        "colab_type": "text"
      },
      "source": [
        "## Preparing the Data for A CNN"
      ]
    },
    {
      "cell_type": "markdown",
      "metadata": {
        "id": "p6fTuxl1m5Ga",
        "colab_type": "text"
      },
      "source": [
        "We prepare our MNIST data for a convnet with almost the same process\n",
        "as we’ve been doing so far when the first layer was a Dense, or\n",
        "fully-connected, layer.\n",
        "\n",
        "The difference is in the shape of the feature data. So far, we’ve been\n",
        "shaping our feature data in a 2D grid, with one row per image. Each\n",
        "row held all the pixels for that image.\n",
        "\n",
        "Something important happened when we flattened out our image\n",
        "to make that grid: we lost the spatial information that tells us which\n",
        "pixels are near one another vertically (technically, it’s still there, but\n",
        "definitely not in a structure that’s easily useful). A great thing about\n",
        "CNNs is that they work with inputs as multidimensional tensors, not\n",
        "long 1D lists. For instance, the receptive field for a filter covers a group\n",
        "of spatially-related elements.\n",
        "\n",
        "When working with CNNs there’s no need to flatten out input 2D grids\n",
        "of pixels. We’ll maintain them instead as three-dimensional volumes,\n",
        "where each input image has a height, width, and depth.\n",
        "\n",
        "The MNIST data is black and white, so we have just a single channel of\n",
        "pixel data. But we still have to explicitly tell Keras that we have just that\n",
        "one channel, by making it one of the dimensions of our input tensor.\n",
        "\n",
        "Each image in the input will be reshaped as a 3D block\n",
        "with dimensions 28 by 28 by 1, since we’re using the channels_last\n",
        "convention. Then we stack all 60,000 of these 3D blocks together to\n",
        "make a 4D tensor of shape 60,000 by 1 by 28 by 28, which will serve as\n",
        "input to our CNN.\n",
        "\n",
        "<img src='https://github.com/rahiakela/img-repo/blob/master/image-inputs.PNG?raw=1' width='800'/>\n",
        "\n",
        "It can be easier to think of this not as a 4D\n",
        "structure but instead as a sequence of nested lists: the outermost list\n",
        "contains 60,000 images, each image contains one channel, each channel\n",
        "contains 28 rows, and each row contains 28 elements.\n",
        "\n",
        "Convnets work best with input data scaled from −1 to 1.This means we can’t just divide every pixel by 255. Instead, we’ll use\n",
        "the NumPy function interp() to convert each input value in the range\n",
        "[0,255] to the range [−1,1].\n",
        "\n",
        "```python\n",
        "X_train = np.interp(X_train, [0, 255], [-1, 1])\n",
        "X_test = np.interp(X_test, [0, 255], [-1, 1])\n",
        "```"
      ]
    },
    {
      "cell_type": "markdown",
      "metadata": {
        "id": "aX96Q3f_qmp_",
        "colab_type": "text"
      },
      "source": [
        "Now we’ll re-shape the data into the shape we just discussed. We just\n",
        "tell NumPy how to take our original version of X_train, which was\n",
        "60,000 by 28 by 28, and reshape it into a 4D tensor that’s 60,000 by 1 by 28 by 28. We’re not changing the total number of elements, so\n",
        "NumPy can do this for us.\n",
        "```python\n",
        "X_train = X_train.reshape(X_train.shape[0], image_height, image_width, 1)\n",
        "X_test = X_test.reshape(X_test.shape[0], image_height, image_width, 1)\n",
        "```"
      ]
    },
    {
      "cell_type": "markdown",
      "metadata": {
        "id": "5ksMSLdlrdPx",
        "colab_type": "text"
      },
      "source": [
        "We’ll place these re-shaping lines right after the scaling step. For completeness,all the pre-processing in one place."
      ]
    },
    {
      "cell_type": "code",
      "metadata": {
        "id": "dc45EYW4rght",
        "colab_type": "code",
        "colab": {}
      },
      "source": [
        "random_seed = 42\n",
        "np.random.seed(random_seed)"
      ],
      "execution_count": 0,
      "outputs": []
    },
    {
      "cell_type": "code",
      "metadata": {
        "id": "PRSE_nSFrwo3",
        "colab_type": "code",
        "colab": {
          "base_uri": "https://localhost:8080/",
          "height": 52
        },
        "outputId": "0dda95e7-3458-407c-c178-77193e32bc9c"
      },
      "source": [
        "# load MNIST data and save sizes\n",
        "(X_train, y_train), (X_test, y_test) = mnist.load_data()\n",
        "image_height = X_train.shape[1]\n",
        "image_width = X_train.shape[2]\n",
        "number_of_pixels = image_height * image_width\n",
        "\n",
        "# convert to floating-point\n",
        "X_train = keras_backend.cast_to_floatx(X_train)\n",
        "X_test = keras_backend.cast_to_floatx(X_test)\n",
        "\n",
        "# scale data to range [-1, 1]\n",
        "X_train = np.interp(X_train, [0, 255], [-1,1])\n",
        "X_test = np.interp(X_test, [0, 255], [-1,1])\n",
        "\n",
        "# save original y_train and y_test\n",
        "original_y_train = y_train\n",
        "original_y_test = y_test\n",
        "\n",
        "# replace label data with one-hot encoded versions\n",
        "number_of_classes = 1 + max(np.append(y_train, y_test))\n",
        "y_train = to_categorical(y_train, num_classes=number_of_classes)\n",
        "y_test = to_categorical(y_test, num_classes=number_of_classes)\n",
        "\n",
        "# reshape sample data to 4D tensor using channels_last convention \n",
        "X_train = X_train.reshape(X_train.shape[0], image_height, image_width, 1)\n",
        "X_test = X_test.reshape(X_test.shape[0], image_height, image_width, 1)"
      ],
      "execution_count": 4,
      "outputs": [
        {
          "output_type": "stream",
          "text": [
            "Downloading data from https://storage.googleapis.com/tensorflow/tf-keras-datasets/mnist.npz\n",
            "11493376/11490434 [==============================] - 0s 0us/step\n"
          ],
          "name": "stdout"
        }
      ]
    },
    {
      "cell_type": "markdown",
      "metadata": {
        "id": "KTLZOerv3Jrb",
        "colab_type": "text"
      },
      "source": [
        "Shaping the feature data into these 4D tensors is a necessary pre-processing\n",
        "step. It puts the data into the structure that is expected by the\n",
        "convolution layer that will sit at the start of our convnet."
      ]
    },
    {
      "cell_type": "code",
      "metadata": {
        "id": "A2p4mmLetfnf",
        "colab_type": "code",
        "colab": {}
      },
      "source": [
        "# A little utility to draw accuracy and loss plots\n",
        "def plot_accuracy_and_loss(history, plot_title):\n",
        "    xs = range(len(history.history['accuracy']))\n",
        "\n",
        "    plt.figure(figsize=(10,3))\n",
        "    plt.subplot(1, 2, 1)\n",
        "    plt.plot(xs, history.history['accuracy'], label='train')\n",
        "    plt.plot(xs, history.history['val_accuracy'], label='validation')\n",
        "    plt.legend(loc='lower left')\n",
        "    plt.xlabel('epochs')\n",
        "    plt.ylabel('accuracy')\n",
        "    plt.title(plot_title+', Accuracy')\n",
        "\n",
        "    plt.subplot(1, 2, 2)\n",
        "    plt.plot(xs, history.history['loss'], label='train')\n",
        "    plt.plot(xs, history.history['val_loss'], label='validation')\n",
        "    plt.legend(loc='upper left')\n",
        "    plt.xlabel('epochs')\n",
        "    plt.ylabel('loss')\n",
        "    plt.title(plot_title+', Loss')\n",
        "\n",
        "    #plt.tight_layout()\n",
        "    plt.show()"
      ],
      "execution_count": 0,
      "outputs": []
    },
    {
      "cell_type": "markdown",
      "metadata": {
        "id": "5magi5BE3M1N",
        "colab_type": "text"
      },
      "source": [
        "## Convolution Layers"
      ]
    },
    {
      "cell_type": "markdown",
      "metadata": {
        "id": "9aPo2AZ63OoS",
        "colab_type": "text"
      },
      "source": [
        "The Conv2D layer takes two unnamed, mandatory arguments at the\n",
        "start of its argument list, followed by a variety of optional arguments.\n",
        "\n",
        "The first mandatory argument is an integer specifying the number of\n",
        "filters the layer should manage.Each filter\n",
        "is applied to the input independently, and produces its own output. So\n",
        "if our input has one channel (as our input does), and we use 5 filters\n",
        "in a convolution layer, the output will have 5 channels.\n",
        "\n",
        "<img src='https://github.com/rahiakela/img-repo/blob/master/image-channel-inputs.PNG?raw=1' width='800'/>\n",
        "\n",
        "The second argument to Conv2D is a list that gives the dimensions of\n",
        "the filters on this layer. if we have\n",
        "5 filters and each is 3 by 3, then these arguments would be 5,[3,3].\n",
        "This tells the layer to automatically allocate and initialize 5 volumes,\n",
        "each of shape 3 by 3 by 1 (the trailing 1 is the number of channels).\n",
        "\n",
        "In practice, we almost always use square kernels, often of 3 or 5 elements\n",
        "on a side. Experience has shown that these sizes, coupled\n",
        "with reduction in the size of the input (either by pooling or convolution\n",
        "striding), represents a good tradeoff of computation and results.\n",
        "\n",
        "Keep in mind that these filter kernels are 3D volumes, since there’s\n",
        "one channel in the kernel for each channel in the input.\n",
        "\n",
        "<img src='https://github.com/rahiakela/img-repo/blob/master/image-channel-inputs-1.PNG?raw=1' width='800'/>\n",
        "\n",
        "Each filter automatically holds as many channels as there\n",
        "are in the input. Here a 5 by 5 filter is being applied to a 3-channel input,\n",
        "so the system automatically gives the filter 3 channels as well. Each of\n",
        "the 75 values in the input (bottom) is multiplied by its corresponding\n",
        "value in the filter (middle), and all of those products are added together\n",
        "to produce a single number (top), the output of that filter for that location\n",
        "of the input.\n",
        "\n",
        "If we apply several filters to a multi-channel input, then\n",
        "each filter will also have multiple channels. The number of channels in\n",
        "the output is given by the number of filters that were used.\n",
        "\n",
        "<img src='https://github.com/rahiakela/img-repo/blob/master/image-channel-inputs-2.PNG?raw=1' width='800'/>\n",
        "\n",
        "let’s suppose that we’ve made a convolution layer with 5\n",
        "filters, each 5 by 5. Then every output it produces will have 5 channels.\n",
        "If the next layer is also a convolution layer, and we say that we want 2\n",
        "filters that are 3 by 3, Keras will automatically know to make each filter\n",
        "5 channels deep, since that’s what’s coming out of the previous layer.\n",
        "In short, the number of channels in each filter is equal to the number\n",
        "of channels in the input, which in turn is the number of filters used in\n",
        "the previous convolution layer.\n",
        "\n",
        "<img src='https://github.com/rahiakela/img-repo/blob/master/image-channel-inputs-3.PNG?raw=1' width='800'/>\n",
        "\n",
        "Let’s make a convolution layer with 15 filters, each 3 by 3.\n",
        "\n",
        "```python\n",
        "convolution_layer = Conv2D(15, (3, 3))\n",
        "model.add(convolution_layer)\n",
        "```\n",
        "\n",
        "In practice, we usually do this in one step.\n",
        "\n",
        "```python\n",
        "model.add(Conv2D(15, (3, 3)))\n",
        "```\n",
        "\n",
        "Now that we’ve covered all the background, let’s construct a 2D convolution\n",
        "layer.\n",
        "\n",
        "```python\n",
        "model.add(Conv2D(16, (5, 5), activation='relu', strides=(2, 2), padding='same'),\n",
        "            input_shape=(image_height, image_width, 1)))\n",
        "```\n",
        "\n",
        "Explanation:\n",
        "\n",
        "* **padding**:To apply zero padding, we set the optional argument padding to the\n",
        "string ′same′, meaning “make the output the same size as the input.”\n",
        "The default value of padding is the string ′valid′, which means “only\n",
        "place the filter where there is valid data available.” This is a longwinded\n",
        "way of saying, “no padding.”\n",
        "\n",
        "* **strides**:we set the stride values to (2,2), then our output\n",
        "will be half the width and height as the input.\n",
        "\n",
        "* **input_shape**: a CNN layer wants the input_shape to describe not\n",
        "the shape of the whole data set, but just one sample.Therefore, the value of input_shape is the list (28,28,1), describing\n",
        "one image.\n"
      ]
    },
    {
      "cell_type": "markdown",
      "metadata": {
        "id": "THq7ZQDj7dyt",
        "colab_type": "text"
      },
      "source": [
        "## Using Convolution for MNIST"
      ]
    },
    {
      "cell_type": "markdown",
      "metadata": {
        "id": "S7srMmcjv_k_",
        "colab_type": "text"
      },
      "source": [
        "### A tiny convolutional neural network"
      ]
    },
    {
      "cell_type": "markdown",
      "metadata": {
        "id": "UIoZZVnv7fM8",
        "colab_type": "text"
      },
      "source": [
        "Let’s build a CNN for categorizing MNIST images. To start with, we’ll\n",
        "make a simple convnet with just one convolution layer, a flattening\n",
        "layer, and a fully-connected output layer.\n",
        "\n",
        "Our pre-processing step is unchanged. It reads in our data, normalizes it, re-shapes the features to the 4D channels-first tensor, and makes one-hot encodings for the labels.\n",
        "\n",
        "<img src='https://github.com/rahiakela/img-repo/blob/master/simple-cnn-architecture.PNG?raw=1' width='800'/>\n",
        "\n",
        "The architecture for a tiny convolutional neural network.\n",
        "We have one convolutional layer with 32 filters, each a square of 5 by 5\n",
        "elements. Following that is a flatten layer, and then a 10-neuron fully-connected\n",
        "layer to present our categorization outputs."
      ]
    },
    {
      "cell_type": "code",
      "metadata": {
        "id": "wxFWDW9L3Eni",
        "colab_type": "code",
        "colab": {}
      },
      "source": [
        "def make_simple_cnn_model():\n",
        "  model = Sequential()\n",
        "  model.add(Conv2D(32, (5, 5), activation='relu', padding='same', input_shape=(image_height, image_width, 1)))\n",
        "  model.add(Flatten())\n",
        "  model.add(Dense(number_of_classes, activation='softmax'))\n",
        "\n",
        "  model.compile(loss='categorical_crossentropy', optimizer='adam', metrics=['accuracy'])\n",
        "\n",
        "  return model"
      ],
      "execution_count": 0,
      "outputs": []
    },
    {
      "cell_type": "code",
      "metadata": {
        "id": "JsD7Ic35xH5g",
        "colab_type": "code",
        "colab": {
          "base_uri": "https://localhost:8080/",
          "height": 1000
        },
        "outputId": "e9a14844-9bf4-4eb8-a388-3669ced44927"
      },
      "source": [
        "simple_cnn_model = make_simple_cnn_model()\n",
        "simple_cnn_history = simple_cnn_model.fit(X_train, y_train, validation_data=(X_test, y_test), epochs=100, batch_size=256)"
      ],
      "execution_count": 9,
      "outputs": [
        {
          "output_type": "stream",
          "text": [
            "Train on 60000 samples, validate on 10000 samples\n",
            "Epoch 1/100\n",
            "60000/60000 [==============================] - 34s 573us/sample - loss: 0.2989 - accuracy: 0.9137 - val_loss: 0.1091 - val_accuracy: 0.9698\n",
            "Epoch 2/100\n",
            "60000/60000 [==============================] - 33s 557us/sample - loss: 0.0879 - accuracy: 0.9748 - val_loss: 0.0700 - val_accuracy: 0.9783\n",
            "Epoch 3/100\n",
            "60000/60000 [==============================] - 33s 557us/sample - loss: 0.0623 - accuracy: 0.9813 - val_loss: 0.0633 - val_accuracy: 0.9811\n",
            "Epoch 4/100\n",
            "60000/60000 [==============================] - 34s 566us/sample - loss: 0.0509 - accuracy: 0.9843 - val_loss: 0.0537 - val_accuracy: 0.9836\n",
            "Epoch 5/100\n",
            "60000/60000 [==============================] - 34s 561us/sample - loss: 0.0403 - accuracy: 0.9872 - val_loss: 0.0567 - val_accuracy: 0.9825\n",
            "Epoch 6/100\n",
            "60000/60000 [==============================] - 34s 561us/sample - loss: 0.0364 - accuracy: 0.9886 - val_loss: 0.0534 - val_accuracy: 0.9837\n",
            "Epoch 7/100\n",
            "60000/60000 [==============================] - 34s 563us/sample - loss: 0.0305 - accuracy: 0.9905 - val_loss: 0.0546 - val_accuracy: 0.9843\n",
            "Epoch 8/100\n",
            "60000/60000 [==============================] - 34s 561us/sample - loss: 0.0249 - accuracy: 0.9925 - val_loss: 0.0522 - val_accuracy: 0.9864\n",
            "Epoch 9/100\n",
            "60000/60000 [==============================] - 34s 565us/sample - loss: 0.0209 - accuracy: 0.9934 - val_loss: 0.0582 - val_accuracy: 0.9832\n",
            "Epoch 10/100\n",
            "60000/60000 [==============================] - 34s 566us/sample - loss: 0.0175 - accuracy: 0.9946 - val_loss: 0.0549 - val_accuracy: 0.9838\n",
            "Epoch 11/100\n",
            "60000/60000 [==============================] - 34s 567us/sample - loss: 0.0151 - accuracy: 0.9954 - val_loss: 0.0603 - val_accuracy: 0.9836\n",
            "Epoch 12/100\n",
            "60000/60000 [==============================] - 34s 566us/sample - loss: 0.0158 - accuracy: 0.9948 - val_loss: 0.0681 - val_accuracy: 0.9827\n",
            "Epoch 13/100\n",
            "60000/60000 [==============================] - 34s 573us/sample - loss: 0.0122 - accuracy: 0.9965 - val_loss: 0.0655 - val_accuracy: 0.9836\n",
            "Epoch 14/100\n",
            "60000/60000 [==============================] - 34s 571us/sample - loss: 0.0099 - accuracy: 0.9971 - val_loss: 0.0620 - val_accuracy: 0.9832\n",
            "Epoch 15/100\n",
            "60000/60000 [==============================] - 34s 563us/sample - loss: 0.0086 - accuracy: 0.9976 - val_loss: 0.0680 - val_accuracy: 0.9836\n",
            "Epoch 16/100\n",
            "60000/60000 [==============================] - 34s 562us/sample - loss: 0.0086 - accuracy: 0.9973 - val_loss: 0.0842 - val_accuracy: 0.9796\n",
            "Epoch 17/100\n",
            "60000/60000 [==============================] - 34s 560us/sample - loss: 0.0079 - accuracy: 0.9975 - val_loss: 0.0636 - val_accuracy: 0.9853\n",
            "Epoch 18/100\n",
            "60000/60000 [==============================] - 34s 561us/sample - loss: 0.0072 - accuracy: 0.9978 - val_loss: 0.0669 - val_accuracy: 0.9828\n",
            "Epoch 19/100\n",
            "60000/60000 [==============================] - 34s 559us/sample - loss: 0.0053 - accuracy: 0.9986 - val_loss: 0.0685 - val_accuracy: 0.9834\n",
            "Epoch 20/100\n",
            "60000/60000 [==============================] - 33s 556us/sample - loss: 0.0036 - accuracy: 0.9991 - val_loss: 0.0679 - val_accuracy: 0.9836\n",
            "Epoch 21/100\n",
            "60000/60000 [==============================] - 33s 555us/sample - loss: 0.0059 - accuracy: 0.9983 - val_loss: 0.0822 - val_accuracy: 0.9816\n",
            "Epoch 22/100\n",
            "60000/60000 [==============================] - 33s 558us/sample - loss: 0.0081 - accuracy: 0.9974 - val_loss: 0.0818 - val_accuracy: 0.9820\n",
            "Epoch 23/100\n",
            "60000/60000 [==============================] - 34s 559us/sample - loss: 0.0057 - accuracy: 0.9983 - val_loss: 0.0776 - val_accuracy: 0.9827\n",
            "Epoch 24/100\n",
            "60000/60000 [==============================] - 34s 559us/sample - loss: 0.0045 - accuracy: 0.9986 - val_loss: 0.0789 - val_accuracy: 0.9822\n",
            "Epoch 25/100\n",
            "60000/60000 [==============================] - 33s 555us/sample - loss: 0.0033 - accuracy: 0.9992 - val_loss: 0.0755 - val_accuracy: 0.9841\n",
            "Epoch 26/100\n",
            "60000/60000 [==============================] - 33s 555us/sample - loss: 0.0021 - accuracy: 0.9996 - val_loss: 0.0764 - val_accuracy: 0.9839\n",
            "Epoch 27/100\n",
            "60000/60000 [==============================] - 33s 556us/sample - loss: 0.0021 - accuracy: 0.9994 - val_loss: 0.0772 - val_accuracy: 0.9839\n",
            "Epoch 28/100\n",
            "60000/60000 [==============================] - 33s 555us/sample - loss: 0.0010 - accuracy: 0.9999 - val_loss: 0.0789 - val_accuracy: 0.9837\n",
            "Epoch 29/100\n",
            "60000/60000 [==============================] - 34s 558us/sample - loss: 5.0454e-04 - accuracy: 1.0000 - val_loss: 0.0825 - val_accuracy: 0.9844\n",
            "Epoch 30/100\n",
            "60000/60000 [==============================] - 34s 561us/sample - loss: 3.5439e-04 - accuracy: 1.0000 - val_loss: 0.0773 - val_accuracy: 0.9854\n",
            "Epoch 31/100\n",
            "60000/60000 [==============================] - 34s 566us/sample - loss: 2.2447e-04 - accuracy: 1.0000 - val_loss: 0.0792 - val_accuracy: 0.9854\n",
            "Epoch 32/100\n",
            "60000/60000 [==============================] - 34s 566us/sample - loss: 1.8905e-04 - accuracy: 1.0000 - val_loss: 0.0791 - val_accuracy: 0.9854\n",
            "Epoch 33/100\n",
            "60000/60000 [==============================] - 33s 554us/sample - loss: 1.6417e-04 - accuracy: 1.0000 - val_loss: 0.0811 - val_accuracy: 0.9852\n",
            "Epoch 34/100\n",
            "60000/60000 [==============================] - 33s 555us/sample - loss: 1.4779e-04 - accuracy: 1.0000 - val_loss: 0.0820 - val_accuracy: 0.9854\n",
            "Epoch 35/100\n",
            "60000/60000 [==============================] - 33s 555us/sample - loss: 1.4010e-04 - accuracy: 1.0000 - val_loss: 0.0828 - val_accuracy: 0.9851\n",
            "Epoch 36/100\n",
            "60000/60000 [==============================] - 33s 556us/sample - loss: 1.3498e-04 - accuracy: 1.0000 - val_loss: 0.0838 - val_accuracy: 0.9855\n",
            "Epoch 37/100\n",
            "60000/60000 [==============================] - 33s 554us/sample - loss: 1.4461e-04 - accuracy: 1.0000 - val_loss: 0.0839 - val_accuracy: 0.9851\n",
            "Epoch 38/100\n",
            "60000/60000 [==============================] - 33s 555us/sample - loss: 1.1053e-04 - accuracy: 1.0000 - val_loss: 0.0849 - val_accuracy: 0.9858\n",
            "Epoch 39/100\n",
            "60000/60000 [==============================] - 33s 552us/sample - loss: 9.6793e-05 - accuracy: 1.0000 - val_loss: 0.0856 - val_accuracy: 0.9853\n",
            "Epoch 40/100\n",
            "60000/60000 [==============================] - 34s 559us/sample - loss: 9.5314e-05 - accuracy: 1.0000 - val_loss: 0.0904 - val_accuracy: 0.9854\n",
            "Epoch 41/100\n",
            "60000/60000 [==============================] - 33s 557us/sample - loss: 0.0399 - accuracy: 0.9901 - val_loss: 0.0891 - val_accuracy: 0.9822\n",
            "Epoch 42/100\n",
            "60000/60000 [==============================] - 33s 555us/sample - loss: 0.0061 - accuracy: 0.9980 - val_loss: 0.0750 - val_accuracy: 0.9853\n",
            "Epoch 43/100\n",
            "60000/60000 [==============================] - 33s 554us/sample - loss: 0.0011 - accuracy: 0.9999 - val_loss: 0.0780 - val_accuracy: 0.9846\n",
            "Epoch 44/100\n",
            "60000/60000 [==============================] - 33s 554us/sample - loss: 4.4171e-04 - accuracy: 1.0000 - val_loss: 0.0794 - val_accuracy: 0.9853\n",
            "Epoch 45/100\n",
            "60000/60000 [==============================] - 33s 553us/sample - loss: 2.8431e-04 - accuracy: 1.0000 - val_loss: 0.0793 - val_accuracy: 0.9852\n",
            "Epoch 46/100\n",
            "60000/60000 [==============================] - 33s 554us/sample - loss: 2.3439e-04 - accuracy: 1.0000 - val_loss: 0.0809 - val_accuracy: 0.9855\n",
            "Epoch 47/100\n",
            "60000/60000 [==============================] - 33s 555us/sample - loss: 1.9722e-04 - accuracy: 1.0000 - val_loss: 0.0820 - val_accuracy: 0.9852\n",
            "Epoch 48/100\n",
            "60000/60000 [==============================] - 33s 555us/sample - loss: 1.7150e-04 - accuracy: 1.0000 - val_loss: 0.0826 - val_accuracy: 0.9853\n",
            "Epoch 49/100\n",
            "60000/60000 [==============================] - 34s 559us/sample - loss: 1.5100e-04 - accuracy: 1.0000 - val_loss: 0.0847 - val_accuracy: 0.9851\n",
            "Epoch 50/100\n",
            "60000/60000 [==============================] - 33s 555us/sample - loss: 1.3225e-04 - accuracy: 1.0000 - val_loss: 0.0856 - val_accuracy: 0.9853\n",
            "Epoch 51/100\n",
            "60000/60000 [==============================] - 33s 557us/sample - loss: 1.2014e-04 - accuracy: 1.0000 - val_loss: 0.0857 - val_accuracy: 0.9853\n",
            "Epoch 52/100\n",
            "60000/60000 [==============================] - 33s 554us/sample - loss: 1.0496e-04 - accuracy: 1.0000 - val_loss: 0.0870 - val_accuracy: 0.9854\n",
            "Epoch 53/100\n",
            "60000/60000 [==============================] - 33s 555us/sample - loss: 9.4304e-05 - accuracy: 1.0000 - val_loss: 0.0874 - val_accuracy: 0.9855\n",
            "Epoch 54/100\n",
            "60000/60000 [==============================] - 33s 556us/sample - loss: 8.3743e-05 - accuracy: 1.0000 - val_loss: 0.0877 - val_accuracy: 0.9854\n",
            "Epoch 55/100\n",
            "60000/60000 [==============================] - 33s 556us/sample - loss: 7.5413e-05 - accuracy: 1.0000 - val_loss: 0.0883 - val_accuracy: 0.9856\n",
            "Epoch 56/100\n",
            "60000/60000 [==============================] - 33s 554us/sample - loss: 6.7379e-05 - accuracy: 1.0000 - val_loss: 0.0901 - val_accuracy: 0.9855\n",
            "Epoch 57/100\n",
            "60000/60000 [==============================] - 33s 554us/sample - loss: 6.1345e-05 - accuracy: 1.0000 - val_loss: 0.0915 - val_accuracy: 0.9857\n",
            "Epoch 58/100\n",
            "60000/60000 [==============================] - 33s 554us/sample - loss: 5.4532e-05 - accuracy: 1.0000 - val_loss: 0.0920 - val_accuracy: 0.9857\n",
            "Epoch 59/100\n",
            "60000/60000 [==============================] - 33s 555us/sample - loss: 4.9143e-05 - accuracy: 1.0000 - val_loss: 0.0927 - val_accuracy: 0.9856\n",
            "Epoch 60/100\n",
            "60000/60000 [==============================] - 34s 558us/sample - loss: 4.5770e-05 - accuracy: 1.0000 - val_loss: 0.0937 - val_accuracy: 0.9856\n",
            "Epoch 61/100\n",
            "60000/60000 [==============================] - 33s 553us/sample - loss: 4.2123e-05 - accuracy: 1.0000 - val_loss: 0.0941 - val_accuracy: 0.9855\n",
            "Epoch 62/100\n",
            "60000/60000 [==============================] - 33s 554us/sample - loss: 3.4945e-05 - accuracy: 1.0000 - val_loss: 0.0963 - val_accuracy: 0.9857\n",
            "Epoch 63/100\n",
            "60000/60000 [==============================] - 33s 552us/sample - loss: 3.5721e-05 - accuracy: 1.0000 - val_loss: 0.0978 - val_accuracy: 0.9848\n",
            "Epoch 64/100\n",
            "60000/60000 [==============================] - 33s 552us/sample - loss: 3.2937e-05 - accuracy: 1.0000 - val_loss: 0.0972 - val_accuracy: 0.9857\n",
            "Epoch 65/100\n",
            "60000/60000 [==============================] - 33s 553us/sample - loss: 2.6310e-05 - accuracy: 1.0000 - val_loss: 0.0983 - val_accuracy: 0.9855\n",
            "Epoch 66/100\n",
            "60000/60000 [==============================] - 33s 553us/sample - loss: 2.4319e-05 - accuracy: 1.0000 - val_loss: 0.0995 - val_accuracy: 0.9859\n",
            "Epoch 67/100\n",
            "60000/60000 [==============================] - 33s 555us/sample - loss: 2.0740e-05 - accuracy: 1.0000 - val_loss: 0.1007 - val_accuracy: 0.9855\n",
            "Epoch 68/100\n",
            "60000/60000 [==============================] - 33s 557us/sample - loss: 1.8867e-05 - accuracy: 1.0000 - val_loss: 0.1022 - val_accuracy: 0.9855\n",
            "Epoch 69/100\n",
            "60000/60000 [==============================] - 33s 555us/sample - loss: 1.7793e-05 - accuracy: 1.0000 - val_loss: 0.1030 - val_accuracy: 0.9852\n",
            "Epoch 70/100\n",
            "60000/60000 [==============================] - 33s 556us/sample - loss: 1.6129e-05 - accuracy: 1.0000 - val_loss: 0.1033 - val_accuracy: 0.9850\n",
            "Epoch 71/100\n",
            "60000/60000 [==============================] - 33s 553us/sample - loss: 1.3326e-05 - accuracy: 1.0000 - val_loss: 0.1051 - val_accuracy: 0.9853\n",
            "Epoch 72/100\n",
            "60000/60000 [==============================] - 33s 555us/sample - loss: 0.0294 - accuracy: 0.9928 - val_loss: 0.1302 - val_accuracy: 0.9809\n",
            "Epoch 73/100\n",
            "60000/60000 [==============================] - 33s 553us/sample - loss: 0.0092 - accuracy: 0.9971 - val_loss: 0.0957 - val_accuracy: 0.9834\n",
            "Epoch 74/100\n",
            "60000/60000 [==============================] - 33s 555us/sample - loss: 0.0011 - accuracy: 0.9998 - val_loss: 0.0932 - val_accuracy: 0.9846\n",
            "Epoch 75/100\n",
            "60000/60000 [==============================] - 33s 557us/sample - loss: 2.3101e-04 - accuracy: 1.0000 - val_loss: 0.0935 - val_accuracy: 0.9849\n",
            "Epoch 76/100\n",
            "60000/60000 [==============================] - 33s 555us/sample - loss: 1.4211e-04 - accuracy: 1.0000 - val_loss: 0.0938 - val_accuracy: 0.9853\n",
            "Epoch 77/100\n",
            "60000/60000 [==============================] - 33s 557us/sample - loss: 1.1559e-04 - accuracy: 1.0000 - val_loss: 0.0945 - val_accuracy: 0.9853\n",
            "Epoch 78/100\n",
            "60000/60000 [==============================] - 33s 555us/sample - loss: 9.7182e-05 - accuracy: 1.0000 - val_loss: 0.0952 - val_accuracy: 0.9853\n",
            "Epoch 79/100\n",
            "60000/60000 [==============================] - 33s 557us/sample - loss: 8.4165e-05 - accuracy: 1.0000 - val_loss: 0.0953 - val_accuracy: 0.9853\n",
            "Epoch 80/100\n",
            "60000/60000 [==============================] - 33s 553us/sample - loss: 7.4244e-05 - accuracy: 1.0000 - val_loss: 0.0960 - val_accuracy: 0.9853\n",
            "Epoch 81/100\n",
            "60000/60000 [==============================] - 33s 554us/sample - loss: 6.4029e-05 - accuracy: 1.0000 - val_loss: 0.0968 - val_accuracy: 0.9853\n",
            "Epoch 82/100\n",
            "60000/60000 [==============================] - 33s 556us/sample - loss: 5.6940e-05 - accuracy: 1.0000 - val_loss: 0.0977 - val_accuracy: 0.9853\n",
            "Epoch 83/100\n",
            "60000/60000 [==============================] - 33s 555us/sample - loss: 4.9542e-05 - accuracy: 1.0000 - val_loss: 0.0984 - val_accuracy: 0.9851\n",
            "Epoch 84/100\n",
            "60000/60000 [==============================] - 33s 554us/sample - loss: 4.3846e-05 - accuracy: 1.0000 - val_loss: 0.0997 - val_accuracy: 0.9852\n",
            "Epoch 85/100\n",
            "60000/60000 [==============================] - 33s 555us/sample - loss: 3.8874e-05 - accuracy: 1.0000 - val_loss: 0.1000 - val_accuracy: 0.9851\n",
            "Epoch 86/100\n",
            "60000/60000 [==============================] - 33s 555us/sample - loss: 3.4924e-05 - accuracy: 1.0000 - val_loss: 0.1006 - val_accuracy: 0.9849\n",
            "Epoch 87/100\n",
            "60000/60000 [==============================] - 33s 553us/sample - loss: 3.0352e-05 - accuracy: 1.0000 - val_loss: 0.1019 - val_accuracy: 0.9847\n",
            "Epoch 88/100\n",
            "60000/60000 [==============================] - 33s 556us/sample - loss: 2.7572e-05 - accuracy: 1.0000 - val_loss: 0.1015 - val_accuracy: 0.9850\n",
            "Epoch 89/100\n",
            "60000/60000 [==============================] - 33s 553us/sample - loss: 2.4539e-05 - accuracy: 1.0000 - val_loss: 0.1019 - val_accuracy: 0.9850\n",
            "Epoch 90/100\n",
            "60000/60000 [==============================] - 33s 551us/sample - loss: 2.2540e-05 - accuracy: 1.0000 - val_loss: 0.1030 - val_accuracy: 0.9849\n",
            "Epoch 91/100\n",
            "60000/60000 [==============================] - 33s 552us/sample - loss: 2.0575e-05 - accuracy: 1.0000 - val_loss: 0.1039 - val_accuracy: 0.9849\n",
            "Epoch 92/100\n",
            "60000/60000 [==============================] - 33s 554us/sample - loss: 1.8122e-05 - accuracy: 1.0000 - val_loss: 0.1046 - val_accuracy: 0.9846\n",
            "Epoch 93/100\n",
            "60000/60000 [==============================] - 33s 555us/sample - loss: 1.6390e-05 - accuracy: 1.0000 - val_loss: 0.1045 - val_accuracy: 0.9850\n",
            "Epoch 94/100\n",
            "60000/60000 [==============================] - 33s 555us/sample - loss: 1.5019e-05 - accuracy: 1.0000 - val_loss: 0.1068 - val_accuracy: 0.9848\n",
            "Epoch 95/100\n",
            "60000/60000 [==============================] - 33s 558us/sample - loss: 1.3274e-05 - accuracy: 1.0000 - val_loss: 0.1077 - val_accuracy: 0.9846\n",
            "Epoch 96/100\n",
            "60000/60000 [==============================] - 33s 554us/sample - loss: 1.2150e-05 - accuracy: 1.0000 - val_loss: 0.1088 - val_accuracy: 0.9847\n",
            "Epoch 97/100\n",
            "60000/60000 [==============================] - 33s 553us/sample - loss: 1.1121e-05 - accuracy: 1.0000 - val_loss: 0.1086 - val_accuracy: 0.9850\n",
            "Epoch 98/100\n",
            "60000/60000 [==============================] - 33s 555us/sample - loss: 1.0189e-05 - accuracy: 1.0000 - val_loss: 0.1089 - val_accuracy: 0.9846\n",
            "Epoch 99/100\n",
            "60000/60000 [==============================] - 33s 552us/sample - loss: 9.1491e-06 - accuracy: 1.0000 - val_loss: 0.1094 - val_accuracy: 0.9847\n",
            "Epoch 100/100\n",
            "60000/60000 [==============================] - 33s 553us/sample - loss: 8.3627e-06 - accuracy: 1.0000 - val_loss: 0.1102 - val_accuracy: 0.9846\n"
          ],
          "name": "stdout"
        }
      ]
    },
    {
      "cell_type": "code",
      "metadata": {
        "id": "sO65kVsQxQ6F",
        "colab_type": "code",
        "colab": {
          "base_uri": "https://localhost:8080/",
          "height": 241
        },
        "outputId": "7ab78206-506c-43ff-f519-f8bb458b16b8"
      },
      "source": [
        "plot_accuracy_and_loss(simple_cnn_history, 'Simple CNN')"
      ],
      "execution_count": 14,
      "outputs": [
        {
          "output_type": "display_data",
          "data": {
            "image/png": "[encoded data removed]",
            "text/plain": [
              "<Figure size 720x216 with 2 Axes>"
            ]
          },
          "metadata": {
            "tags": []
          }
        }
      ]
    },
    {
      "cell_type": "markdown",
      "metadata": {
        "id": "rD__vNqB3Yq6",
        "colab_type": "text"
      },
      "source": [
        "The good news about these results is that everything seems to be working\n",
        "pretty well. Our system learns the training data and does a good\n",
        "job predicting the classes of the validation data, getting about 98.6%\n",
        "accuracy.\n",
        "\n",
        "On the other hand, these curves aren’t really looking great. The training\n",
        "accuracy gets up to about 1.0 within 35 epochs or so, and the\n",
        "validation accuracy seems to plateau about there as well. That’s okay,\n",
        "but the loss curves tell a different story. The system starts overfitting\n",
        "before even 10 epochs are done, and it just gets worse as time goes on."
      ]
    },
    {
      "cell_type": "markdown",
      "metadata": {
        "id": "oeJHkXPf3n2Z",
        "colab_type": "text"
      },
      "source": [
        "### A begger convolutional neural network"
      ]
    },
    {
      "cell_type": "markdown",
      "metadata": {
        "id": "O34Rx5yr3rFU",
        "colab_type": "text"
      },
      "source": [
        "Let’s guess that maybe we would see better performance if we used a\n",
        "deeper model. We’ll increase the number of convolution layers from 1\n",
        "to 3, and to control overfitting we’ll add dropout after each one.\n",
        "\n",
        "<img src='https://github.com/rahiakela/img-repo/blob/master/bigger-cnn-architecture.PNG?raw=1' width='800'/>\n",
        "\n",
        "The first convolution layer uses 16 filters of 5 by 5, and then we follow\n",
        "that with two layers that use 8 filters of 3 by 3. All of these numbers are\n",
        "more or less arbitrary, resulting from an initial guess and then some\n",
        "trial and error. We follow each convolution layer with a dropout layer,\n",
        "and at the end we flatten the result and feed it to a 10-neuron dense\n",
        "layer using softmax, as usual.\n",
        "\n",
        "Because we’re using the border_mode=′same′ option, and the default\n",
        "stride of 1 by 1, the output of each convolution will be the same width\n",
        "and height as the input.\n",
        "\n",
        "Note that\n",
        "we’re setting the optional argument kernel_constraint to the value\n",
        "maxnorm(3), just as we did with the Dense layers earlier. For convolution\n",
        "layers it prevents the values in the filters from getting too big, in\n",
        "the same way that it prevented the weights in the Dense layers from\n",
        "getting too big."
      ]
    },
    {
      "cell_type": "code",
      "metadata": {
        "id": "9Ky5p3SMF6gK",
        "colab_type": "code",
        "colab": {}
      },
      "source": [
        "np.random.seed(random_seed)\n",
        "keras_backend.clear_session()"
      ],
      "execution_count": 0,
      "outputs": []
    },
    {
      "cell_type": "code",
      "metadata": {
        "id": "TAJEjrGp4Sd_",
        "colab_type": "code",
        "colab": {}
      },
      "source": [
        "def make_bigger_cnn_model():\n",
        "  model = Sequential()\n",
        "  model.add(Conv2D(16, (5, 5), activation='relu', padding='same', kernel_constraint=max_norm(3), input_shape=(image_height, image_width, 1)))\n",
        "  model.add(Dropout(0.2))\n",
        "  model.add(Conv2D(8, (3, 3), activation='relu', padding='same', kernel_constraint=max_norm(3)))\n",
        "  model.add(Dropout(0.2))\n",
        "  model.add(Conv2D(8, (3, 3), activation='relu', padding='same', kernel_constraint=max_norm(3)))\n",
        "  model.add(Dropout(0.2))\n",
        "  model.add(Flatten())\n",
        "  model.add(Dense(number_of_classes, activation='softmax'))\n",
        "\n",
        "  model.compile(loss='categorical_crossentropy', optimizer='adam', metrics=['accuracy'])\n",
        "\n",
        "  return model"
      ],
      "execution_count": 0,
      "outputs": []
    },
    {
      "cell_type": "code",
      "metadata": {
        "id": "PPB6egwk7scv",
        "colab_type": "code",
        "colab": {
          "base_uri": "https://localhost:8080/",
          "height": 1000
        },
        "outputId": "1ddfce9d-db62-4f06-c30f-84e25442f44f"
      },
      "source": [
        "bigger_cnn_model = make_bigger_cnn_model()\n",
        "bigger_cnn_history = bigger_cnn_model.fit(X_train, y_train, validation_data=(X_test, y_test), epochs=100, batch_size=256)"
      ],
      "execution_count": 23,
      "outputs": [
        {
          "output_type": "stream",
          "text": [
            "Train on 60000 samples, validate on 10000 samples\n",
            "Epoch 1/100\n",
            "60000/60000 [==============================] - 97s 2ms/sample - loss: 0.4266 - accuracy: 0.8698 - val_loss: 0.1130 - val_accuracy: 0.9652\n",
            "Epoch 2/100\n",
            "60000/60000 [==============================] - 95s 2ms/sample - loss: 0.1183 - accuracy: 0.9637 - val_loss: 0.0709 - val_accuracy: 0.9780\n",
            "Epoch 3/100\n",
            "60000/60000 [==============================] - 96s 2ms/sample - loss: 0.0876 - accuracy: 0.9732 - val_loss: 0.0529 - val_accuracy: 0.9831\n",
            "Epoch 4/100\n",
            "60000/60000 [==============================] - 96s 2ms/sample - loss: 0.0744 - accuracy: 0.9769 - val_loss: 0.0496 - val_accuracy: 0.9847\n",
            "Epoch 5/100\n",
            "60000/60000 [==============================] - 96s 2ms/sample - loss: 0.0653 - accuracy: 0.9801 - val_loss: 0.0533 - val_accuracy: 0.9827\n",
            "Epoch 6/100\n",
            "60000/60000 [==============================] - 96s 2ms/sample - loss: 0.0586 - accuracy: 0.9820 - val_loss: 0.0384 - val_accuracy: 0.9869\n",
            "Epoch 7/100\n",
            "60000/60000 [==============================] - 96s 2ms/sample - loss: 0.0523 - accuracy: 0.9839 - val_loss: 0.0370 - val_accuracy: 0.9878\n",
            "Epoch 8/100\n",
            "60000/60000 [==============================] - 96s 2ms/sample - loss: 0.0471 - accuracy: 0.9855 - val_loss: 0.0387 - val_accuracy: 0.9876\n",
            "Epoch 9/100\n",
            "60000/60000 [==============================] - 96s 2ms/sample - loss: 0.0456 - accuracy: 0.9854 - val_loss: 0.0344 - val_accuracy: 0.9873\n",
            "Epoch 10/100\n",
            "60000/60000 [==============================] - 95s 2ms/sample - loss: 0.0412 - accuracy: 0.9874 - val_loss: 0.0355 - val_accuracy: 0.9884\n",
            "Epoch 11/100\n",
            "60000/60000 [==============================] - 95s 2ms/sample - loss: 0.0393 - accuracy: 0.9876 - val_loss: 0.0356 - val_accuracy: 0.9882\n",
            "Epoch 12/100\n",
            "60000/60000 [==============================] - 95s 2ms/sample - loss: 0.0376 - accuracy: 0.9880 - val_loss: 0.0322 - val_accuracy: 0.9893\n",
            "Epoch 13/100\n",
            "60000/60000 [==============================] - 95s 2ms/sample - loss: 0.0359 - accuracy: 0.9881 - val_loss: 0.0334 - val_accuracy: 0.9883\n",
            "Epoch 14/100\n",
            "60000/60000 [==============================] - 95s 2ms/sample - loss: 0.0344 - accuracy: 0.9889 - val_loss: 0.0321 - val_accuracy: 0.9891\n",
            "Epoch 15/100\n",
            "60000/60000 [==============================] - 95s 2ms/sample - loss: 0.0329 - accuracy: 0.9895 - val_loss: 0.0328 - val_accuracy: 0.9893\n",
            "Epoch 16/100\n",
            "60000/60000 [==============================] - 95s 2ms/sample - loss: 0.0308 - accuracy: 0.9900 - val_loss: 0.0333 - val_accuracy: 0.9890\n",
            "Epoch 17/100\n",
            "60000/60000 [==============================] - 95s 2ms/sample - loss: 0.0294 - accuracy: 0.9903 - val_loss: 0.0327 - val_accuracy: 0.9892\n",
            "Epoch 18/100\n",
            "60000/60000 [==============================] - 95s 2ms/sample - loss: 0.0280 - accuracy: 0.9910 - val_loss: 0.0322 - val_accuracy: 0.9891\n",
            "Epoch 19/100\n",
            "60000/60000 [==============================] - 95s 2ms/sample - loss: 0.0283 - accuracy: 0.9908 - val_loss: 0.0347 - val_accuracy: 0.9884\n",
            "Epoch 20/100\n",
            "60000/60000 [==============================] - 96s 2ms/sample - loss: 0.0270 - accuracy: 0.9913 - val_loss: 0.0318 - val_accuracy: 0.9898\n",
            "Epoch 21/100\n",
            "60000/60000 [==============================] - 95s 2ms/sample - loss: 0.0252 - accuracy: 0.9917 - val_loss: 0.0345 - val_accuracy: 0.9895\n",
            "Epoch 22/100\n",
            "60000/60000 [==============================] - 95s 2ms/sample - loss: 0.0269 - accuracy: 0.9911 - val_loss: 0.0323 - val_accuracy: 0.9899\n",
            "Epoch 23/100\n",
            "60000/60000 [==============================] - 95s 2ms/sample - loss: 0.0231 - accuracy: 0.9922 - val_loss: 0.0319 - val_accuracy: 0.9895\n",
            "Epoch 24/100\n",
            "60000/60000 [==============================] - 96s 2ms/sample - loss: 0.0227 - accuracy: 0.9921 - val_loss: 0.0313 - val_accuracy: 0.9899\n",
            "Epoch 25/100\n",
            "60000/60000 [==============================] - 95s 2ms/sample - loss: 0.0220 - accuracy: 0.9924 - val_loss: 0.0380 - val_accuracy: 0.9893\n",
            "Epoch 26/100\n",
            "60000/60000 [==============================] - 95s 2ms/sample - loss: 0.0221 - accuracy: 0.9927 - val_loss: 0.0322 - val_accuracy: 0.9899\n",
            "Epoch 27/100\n",
            "60000/60000 [==============================] - 95s 2ms/sample - loss: 0.0197 - accuracy: 0.9937 - val_loss: 0.0372 - val_accuracy: 0.9893\n",
            "Epoch 28/100\n",
            "60000/60000 [==============================] - 95s 2ms/sample - loss: 0.0201 - accuracy: 0.9932 - val_loss: 0.0382 - val_accuracy: 0.9880\n",
            "Epoch 29/100\n",
            "60000/60000 [==============================] - 95s 2ms/sample - loss: 0.0207 - accuracy: 0.9933 - val_loss: 0.0347 - val_accuracy: 0.9892\n",
            "Epoch 30/100\n",
            "60000/60000 [==============================] - 95s 2ms/sample - loss: 0.0202 - accuracy: 0.9933 - val_loss: 0.0362 - val_accuracy: 0.9886\n",
            "Epoch 31/100\n",
            "60000/60000 [==============================] - 95s 2ms/sample - loss: 0.0200 - accuracy: 0.9930 - val_loss: 0.0366 - val_accuracy: 0.9890\n",
            "Epoch 32/100\n",
            "60000/60000 [==============================] - 95s 2ms/sample - loss: 0.0179 - accuracy: 0.9940 - val_loss: 0.0353 - val_accuracy: 0.9889\n",
            "Epoch 33/100\n",
            "60000/60000 [==============================] - 95s 2ms/sample - loss: 0.0192 - accuracy: 0.9934 - val_loss: 0.0377 - val_accuracy: 0.9884\n",
            "Epoch 34/100\n",
            "60000/60000 [==============================] - 95s 2ms/sample - loss: 0.0183 - accuracy: 0.9938 - val_loss: 0.0360 - val_accuracy: 0.9897\n",
            "Epoch 35/100\n",
            "60000/60000 [==============================] - 95s 2ms/sample - loss: 0.0169 - accuracy: 0.9940 - val_loss: 0.0385 - val_accuracy: 0.9890\n",
            "Epoch 36/100\n",
            "60000/60000 [==============================] - 95s 2ms/sample - loss: 0.0169 - accuracy: 0.9942 - val_loss: 0.0379 - val_accuracy: 0.9887\n",
            "Epoch 37/100\n",
            "60000/60000 [==============================] - 96s 2ms/sample - loss: 0.0170 - accuracy: 0.9941 - val_loss: 0.0400 - val_accuracy: 0.9888\n",
            "Epoch 38/100\n",
            "60000/60000 [==============================] - 97s 2ms/sample - loss: 0.0165 - accuracy: 0.9941 - val_loss: 0.0373 - val_accuracy: 0.9891\n",
            "Epoch 39/100\n",
            "60000/60000 [==============================] - 96s 2ms/sample - loss: 0.0163 - accuracy: 0.9943 - val_loss: 0.0371 - val_accuracy: 0.9892\n",
            "Epoch 40/100\n",
            "60000/60000 [==============================] - 97s 2ms/sample - loss: 0.0151 - accuracy: 0.9948 - val_loss: 0.0348 - val_accuracy: 0.9894\n",
            "Epoch 41/100\n",
            "60000/60000 [==============================] - 97s 2ms/sample - loss: 0.0145 - accuracy: 0.9948 - val_loss: 0.0387 - val_accuracy: 0.9896\n",
            "Epoch 42/100\n",
            "60000/60000 [==============================] - 97s 2ms/sample - loss: 0.0147 - accuracy: 0.9950 - val_loss: 0.0376 - val_accuracy: 0.9889\n",
            "Epoch 43/100\n",
            "60000/60000 [==============================] - 97s 2ms/sample - loss: 0.0149 - accuracy: 0.9950 - val_loss: 0.0371 - val_accuracy: 0.9892\n",
            "Epoch 44/100\n",
            "60000/60000 [==============================] - 97s 2ms/sample - loss: 0.0151 - accuracy: 0.9945 - val_loss: 0.0388 - val_accuracy: 0.9888\n",
            "Epoch 45/100\n",
            "60000/60000 [==============================] - 97s 2ms/sample - loss: 0.0147 - accuracy: 0.9950 - val_loss: 0.0370 - val_accuracy: 0.9889\n",
            "Epoch 46/100\n",
            "60000/60000 [==============================] - 96s 2ms/sample - loss: 0.0132 - accuracy: 0.9953 - val_loss: 0.0383 - val_accuracy: 0.9894\n",
            "Epoch 47/100\n",
            "60000/60000 [==============================] - 96s 2ms/sample - loss: 0.0146 - accuracy: 0.9948 - val_loss: 0.0415 - val_accuracy: 0.9886\n",
            "Epoch 48/100\n",
            "60000/60000 [==============================] - 96s 2ms/sample - loss: 0.0136 - accuracy: 0.9951 - val_loss: 0.0378 - val_accuracy: 0.9897\n",
            "Epoch 49/100\n",
            "60000/60000 [==============================] - 96s 2ms/sample - loss: 0.0132 - accuracy: 0.9954 - val_loss: 0.0367 - val_accuracy: 0.9904\n",
            "Epoch 50/100\n",
            "60000/60000 [==============================] - 96s 2ms/sample - loss: 0.0129 - accuracy: 0.9954 - val_loss: 0.0392 - val_accuracy: 0.9899\n",
            "Epoch 51/100\n",
            "60000/60000 [==============================] - 96s 2ms/sample - loss: 0.0135 - accuracy: 0.9953 - val_loss: 0.0376 - val_accuracy: 0.9900\n",
            "Epoch 52/100\n",
            "60000/60000 [==============================] - 96s 2ms/sample - loss: 0.0120 - accuracy: 0.9956 - val_loss: 0.0380 - val_accuracy: 0.9892\n",
            "Epoch 53/100\n",
            "60000/60000 [==============================] - 96s 2ms/sample - loss: 0.0126 - accuracy: 0.9955 - val_loss: 0.0414 - val_accuracy: 0.9899\n",
            "Epoch 54/100\n",
            "60000/60000 [==============================] - 96s 2ms/sample - loss: 0.0120 - accuracy: 0.9956 - val_loss: 0.0417 - val_accuracy: 0.9893\n",
            "Epoch 55/100\n",
            "60000/60000 [==============================] - 96s 2ms/sample - loss: 0.0129 - accuracy: 0.9956 - val_loss: 0.0401 - val_accuracy: 0.9895\n",
            "Epoch 56/100\n",
            "60000/60000 [==============================] - 96s 2ms/sample - loss: 0.0125 - accuracy: 0.9955 - val_loss: 0.0391 - val_accuracy: 0.9888\n",
            "Epoch 57/100\n",
            "60000/60000 [==============================] - 97s 2ms/sample - loss: 0.0119 - accuracy: 0.9958 - val_loss: 0.0438 - val_accuracy: 0.9889\n",
            "Epoch 58/100\n",
            "60000/60000 [==============================] - 96s 2ms/sample - loss: 0.0120 - accuracy: 0.9959 - val_loss: 0.0426 - val_accuracy: 0.9891\n",
            "Epoch 59/100\n",
            "60000/60000 [==============================] - 95s 2ms/sample - loss: 0.0112 - accuracy: 0.9959 - val_loss: 0.0414 - val_accuracy: 0.9890\n",
            "Epoch 60/100\n",
            "60000/60000 [==============================] - 96s 2ms/sample - loss: 0.0100 - accuracy: 0.9966 - val_loss: 0.0412 - val_accuracy: 0.9892\n",
            "Epoch 61/100\n",
            "60000/60000 [==============================] - 96s 2ms/sample - loss: 0.0115 - accuracy: 0.9962 - val_loss: 0.0458 - val_accuracy: 0.9891\n",
            "Epoch 62/100\n",
            "60000/60000 [==============================] - 96s 2ms/sample - loss: 0.0117 - accuracy: 0.9959 - val_loss: 0.0411 - val_accuracy: 0.9889\n",
            "Epoch 63/100\n",
            "60000/60000 [==============================] - 96s 2ms/sample - loss: 0.0109 - accuracy: 0.9962 - val_loss: 0.0473 - val_accuracy: 0.9878\n",
            "Epoch 64/100\n",
            "60000/60000 [==============================] - 96s 2ms/sample - loss: 0.0113 - accuracy: 0.9960 - val_loss: 0.0416 - val_accuracy: 0.9897\n",
            "Epoch 65/100\n",
            "60000/60000 [==============================] - 96s 2ms/sample - loss: 0.0095 - accuracy: 0.9967 - val_loss: 0.0383 - val_accuracy: 0.9907\n",
            "Epoch 66/100\n",
            "60000/60000 [==============================] - 96s 2ms/sample - loss: 0.0110 - accuracy: 0.9961 - val_loss: 0.0421 - val_accuracy: 0.9890\n",
            "Epoch 67/100\n",
            "60000/60000 [==============================] - 96s 2ms/sample - loss: 0.0105 - accuracy: 0.9961 - val_loss: 0.0471 - val_accuracy: 0.9879\n",
            "Epoch 68/100\n",
            "60000/60000 [==============================] - 97s 2ms/sample - loss: 0.0107 - accuracy: 0.9961 - val_loss: 0.0432 - val_accuracy: 0.9892\n",
            "Epoch 69/100\n",
            "60000/60000 [==============================] - 97s 2ms/sample - loss: 0.0108 - accuracy: 0.9961 - val_loss: 0.0420 - val_accuracy: 0.9895\n",
            "Epoch 70/100\n",
            "60000/60000 [==============================] - 97s 2ms/sample - loss: 0.0114 - accuracy: 0.9962 - val_loss: 0.0436 - val_accuracy: 0.9898\n",
            "Epoch 71/100\n",
            "60000/60000 [==============================] - 96s 2ms/sample - loss: 0.0103 - accuracy: 0.9965 - val_loss: 0.0430 - val_accuracy: 0.9896\n",
            "Epoch 72/100\n",
            "60000/60000 [==============================] - 96s 2ms/sample - loss: 0.0085 - accuracy: 0.9970 - val_loss: 0.0435 - val_accuracy: 0.9895\n",
            "Epoch 73/100\n",
            "60000/60000 [==============================] - 97s 2ms/sample - loss: 0.0097 - accuracy: 0.9967 - val_loss: 0.0448 - val_accuracy: 0.9892\n",
            "Epoch 74/100\n",
            "60000/60000 [==============================] - 97s 2ms/sample - loss: 0.0089 - accuracy: 0.9968 - val_loss: 0.0433 - val_accuracy: 0.9889\n",
            "Epoch 75/100\n",
            "60000/60000 [==============================] - 97s 2ms/sample - loss: 0.0103 - accuracy: 0.9964 - val_loss: 0.0436 - val_accuracy: 0.9894\n",
            "Epoch 76/100\n",
            "60000/60000 [==============================] - 97s 2ms/sample - loss: 0.0098 - accuracy: 0.9963 - val_loss: 0.0446 - val_accuracy: 0.9890\n",
            "Epoch 77/100\n",
            "60000/60000 [==============================] - 96s 2ms/sample - loss: 0.0091 - accuracy: 0.9968 - val_loss: 0.0475 - val_accuracy: 0.9886\n",
            "Epoch 78/100\n",
            "60000/60000 [==============================] - 96s 2ms/sample - loss: 0.0100 - accuracy: 0.9964 - val_loss: 0.0484 - val_accuracy: 0.9893\n",
            "Epoch 79/100\n",
            "60000/60000 [==============================] - 96s 2ms/sample - loss: 0.0091 - accuracy: 0.9968 - val_loss: 0.0472 - val_accuracy: 0.9881\n",
            "Epoch 80/100\n",
            "60000/60000 [==============================] - 96s 2ms/sample - loss: 0.0081 - accuracy: 0.9970 - val_loss: 0.0435 - val_accuracy: 0.9898\n",
            "Epoch 81/100\n",
            "60000/60000 [==============================] - 96s 2ms/sample - loss: 0.0089 - accuracy: 0.9969 - val_loss: 0.0497 - val_accuracy: 0.9881\n",
            "Epoch 82/100\n",
            "60000/60000 [==============================] - 96s 2ms/sample - loss: 0.0077 - accuracy: 0.9973 - val_loss: 0.0458 - val_accuracy: 0.9896\n",
            "Epoch 83/100\n",
            "60000/60000 [==============================] - 96s 2ms/sample - loss: 0.0085 - accuracy: 0.9970 - val_loss: 0.0458 - val_accuracy: 0.9891\n",
            "Epoch 84/100\n",
            "60000/60000 [==============================] - 96s 2ms/sample - loss: 0.0094 - accuracy: 0.9969 - val_loss: 0.0471 - val_accuracy: 0.9888\n",
            "Epoch 85/100\n",
            "60000/60000 [==============================] - 96s 2ms/sample - loss: 0.0089 - accuracy: 0.9969 - val_loss: 0.0458 - val_accuracy: 0.9896\n",
            "Epoch 86/100\n",
            "60000/60000 [==============================] - 96s 2ms/sample - loss: 0.0097 - accuracy: 0.9967 - val_loss: 0.0472 - val_accuracy: 0.9890\n",
            "Epoch 87/100\n",
            "60000/60000 [==============================] - 96s 2ms/sample - loss: 0.0092 - accuracy: 0.9969 - val_loss: 0.0476 - val_accuracy: 0.9879\n",
            "Epoch 88/100\n",
            "60000/60000 [==============================] - 96s 2ms/sample - loss: 0.0094 - accuracy: 0.9969 - val_loss: 0.0438 - val_accuracy: 0.9895\n",
            "Epoch 89/100\n",
            "60000/60000 [==============================] - 96s 2ms/sample - loss: 0.0079 - accuracy: 0.9972 - val_loss: 0.0455 - val_accuracy: 0.9898\n",
            "Epoch 90/100\n",
            "60000/60000 [==============================] - 97s 2ms/sample - loss: 0.0087 - accuracy: 0.9966 - val_loss: 0.0452 - val_accuracy: 0.9894\n",
            "Epoch 91/100\n",
            "60000/60000 [==============================] - 97s 2ms/sample - loss: 0.0072 - accuracy: 0.9973 - val_loss: 0.0470 - val_accuracy: 0.9891\n",
            "Epoch 92/100\n",
            "60000/60000 [==============================] - 97s 2ms/sample - loss: 0.0099 - accuracy: 0.9965 - val_loss: 0.0465 - val_accuracy: 0.9894\n",
            "Epoch 93/100\n",
            "60000/60000 [==============================] - 96s 2ms/sample - loss: 0.0089 - accuracy: 0.9968 - val_loss: 0.0445 - val_accuracy: 0.9887\n",
            "Epoch 94/100\n",
            "60000/60000 [==============================] - 96s 2ms/sample - loss: 0.0081 - accuracy: 0.9969 - val_loss: 0.0448 - val_accuracy: 0.9892\n",
            "Epoch 95/100\n",
            "60000/60000 [==============================] - 96s 2ms/sample - loss: 0.0074 - accuracy: 0.9973 - val_loss: 0.0479 - val_accuracy: 0.9889\n",
            "Epoch 96/100\n",
            "60000/60000 [==============================] - 96s 2ms/sample - loss: 0.0077 - accuracy: 0.9973 - val_loss: 0.0540 - val_accuracy: 0.9895\n",
            "Epoch 97/100\n",
            "60000/60000 [==============================] - 96s 2ms/sample - loss: 0.0079 - accuracy: 0.9973 - val_loss: 0.0455 - val_accuracy: 0.9892\n",
            "Epoch 98/100\n",
            "60000/60000 [==============================] - 97s 2ms/sample - loss: 0.0074 - accuracy: 0.9976 - val_loss: 0.0475 - val_accuracy: 0.9891\n",
            "Epoch 99/100\n",
            "60000/60000 [==============================] - 97s 2ms/sample - loss: 0.0091 - accuracy: 0.9968 - val_loss: 0.0460 - val_accuracy: 0.9887\n",
            "Epoch 100/100\n",
            "60000/60000 [==============================] - 97s 2ms/sample - loss: 0.0078 - accuracy: 0.9973 - val_loss: 0.0476 - val_accuracy: 0.9889\n"
          ],
          "name": "stdout"
        }
      ]
    },
    {
      "cell_type": "code",
      "metadata": {
        "id": "8CJuvMBt766k",
        "colab_type": "code",
        "colab": {
          "base_uri": "https://localhost:8080/",
          "height": 241
        },
        "outputId": "c039b34d-9257-4b9f-a6ec-3dba186b42cc"
      },
      "source": [
        "plot_accuracy_and_loss(bigger_cnn_history, 'Bigger CNN')"
      ],
      "execution_count": 24,
      "outputs": [
        {
          "output_type": "display_data",
          "data": {
            "image/png": "[encoded data removed]",
            "text/plain": [
              "<Figure size 720x216 with 2 Axes>"
            ]
          },
          "metadata": {
            "tags": []
          }
        }
      ]
    },
    {
      "cell_type": "markdown",
      "metadata": {
        "id": "y01gv88fL3eW",
        "colab_type": "text"
      },
      "source": [
        "We’ve pretty much eliminated overfitting, though the validation accuracy\n",
        "is just a bit lower than before. As far as validation accuracy goes,\n",
        "it seems we could have stopped after about 40 epochs.\n",
        "\n"
      ]
    },
    {
      "cell_type": "markdown",
      "metadata": {
        "id": "Keh1d1mtMLYx",
        "colab_type": "text"
      },
      "source": [
        "### A convolutional neural network with dropout and pooling layers"
      ]
    },
    {
      "cell_type": "markdown",
      "metadata": {
        "id": "6B_Qq2jcMUdW",
        "colab_type": "text"
      },
      "source": [
        "Let’s try making the image smaller and smaller as it works its way\n",
        "through the network. This way each layer gets to work with larger\n",
        "pieces of the original image.\n",
        "\n",
        "We’ll do this first using pooling layers. Though we’ve noted pooling\n",
        "layers are falling out of favor in convnets, we’ll use them now because\n",
        "they let us explicitly show how the tensor gets reduced in size as it\n",
        "flows through the network.\n",
        "\n",
        "Each pooling layer will look at 2 by 2 non-overlapping boxes, and\n",
        "return the largest value in that group of 4 input elements. As a result, the output of each of these layers will have half the width and height of its input. The input images are 28 by 28, so the output of the first max pooling layer will be 14 by 14, and the output of the second will be 7 by 7. Of course, the depth of each of these tensors is given by the number\n",
        "of filters in the preceding convolution layer.\n",
        "\n",
        "<img src='https://github.com/rahiakela/img-repo/blob/master/dropout-pooling-cnn-architecture.PNG?raw=1' width='800'/>\n"
      ]
    },
    {
      "cell_type": "code",
      "metadata": {
        "id": "ND1cgIg2Njpx",
        "colab_type": "code",
        "colab": {}
      },
      "source": [
        "keras_backend.clear_session()\n",
        "np.random.seed(random_seed)"
      ],
      "execution_count": 0,
      "outputs": []
    },
    {
      "cell_type": "code",
      "metadata": {
        "id": "6HIYtYh9NA-B",
        "colab_type": "code",
        "colab": {}
      },
      "source": [
        "def make_pooling_cnn_model():\n",
        "  model = Sequential()\n",
        "  model.add(Conv2D(30, (5, 5), activation='relu', padding='same', kernel_constraint=max_norm(3), input_shape=(image_height, image_width, 1)))\n",
        "  model.add(Dropout(0.2))\n",
        "  model.add(MaxPooling2D(pool_size=(2, 2), padding='same'))\n",
        "\n",
        "  model.add(Conv2D(16, (3, 3), activation='relu', padding='same', kernel_constraint=max_norm(3)))\n",
        "  model.add(Dropout(0.2))\n",
        "  model.add(MaxPooling2D(pool_size=(2, 2), padding='same'))\n",
        "\n",
        "  model.add(Flatten())\n",
        "  model.add(Dense(128, activation='relu'))\n",
        "  model.add(Dense(64, activation='relu'))\n",
        "  model.add(Dense(number_of_classes, activation='softmax'))\n",
        "\n",
        "  model.compile(loss='categorical_crossentropy', optimizer='adam', metrics=['accuracy'])\n",
        "\n",
        "  return model"
      ],
      "execution_count": 0,
      "outputs": []
    },
    {
      "cell_type": "code",
      "metadata": {
        "id": "x1xe-6EmsbPV",
        "colab_type": "code",
        "colab": {
          "base_uri": "https://localhost:8080/",
          "height": 1000
        },
        "outputId": "ac4042ff-8d0c-4d18-8ac0-9f27c9b0351e"
      },
      "source": [
        "pooling_cnn_model = make_pooling_cnn_model()\n",
        "pooling_cnn_history = pooling_cnn_model.fit(X_train, y_train, validation_data=(X_test, y_test), epochs=100, batch_size=256)"
      ],
      "execution_count": 9,
      "outputs": [
        {
          "output_type": "stream",
          "text": [
            "Train on 60000 samples, validate on 10000 samples\n",
            "Epoch 1/100\n",
            "60000/60000 [==============================] - 8s 132us/sample - loss: 0.3382 - accuracy: 0.9003 - val_loss: 0.0993 - val_accuracy: 0.9773\n",
            "Epoch 2/100\n",
            "60000/60000 [==============================] - 4s 60us/sample - loss: 0.0775 - accuracy: 0.9760 - val_loss: 0.0553 - val_accuracy: 0.9842\n",
            "Epoch 3/100\n",
            "60000/60000 [==============================] - 4s 59us/sample - loss: 0.0575 - accuracy: 0.9819 - val_loss: 0.0564 - val_accuracy: 0.9854\n",
            "Epoch 4/100\n",
            "60000/60000 [==============================] - 4s 59us/sample - loss: 0.0442 - accuracy: 0.9862 - val_loss: 0.0409 - val_accuracy: 0.9875\n",
            "Epoch 5/100\n",
            "60000/60000 [==============================] - 4s 60us/sample - loss: 0.0388 - accuracy: 0.9876 - val_loss: 0.0360 - val_accuracy: 0.9891\n",
            "Epoch 6/100\n",
            "60000/60000 [==============================] - 4s 61us/sample - loss: 0.0314 - accuracy: 0.9902 - val_loss: 0.0449 - val_accuracy: 0.9876\n",
            "Epoch 7/100\n",
            "60000/60000 [==============================] - 4s 59us/sample - loss: 0.0295 - accuracy: 0.9906 - val_loss: 0.0325 - val_accuracy: 0.9890\n",
            "Epoch 8/100\n",
            "60000/60000 [==============================] - 4s 61us/sample - loss: 0.0255 - accuracy: 0.9921 - val_loss: 0.0315 - val_accuracy: 0.9907\n",
            "Epoch 9/100\n",
            "60000/60000 [==============================] - 4s 61us/sample - loss: 0.0236 - accuracy: 0.9924 - val_loss: 0.0298 - val_accuracy: 0.9905\n",
            "Epoch 10/100\n",
            "60000/60000 [==============================] - 4s 61us/sample - loss: 0.0222 - accuracy: 0.9926 - val_loss: 0.0271 - val_accuracy: 0.9905\n",
            "Epoch 11/100\n",
            "60000/60000 [==============================] - 4s 61us/sample - loss: 0.0196 - accuracy: 0.9935 - val_loss: 0.0265 - val_accuracy: 0.9919\n",
            "Epoch 12/100\n",
            "60000/60000 [==============================] - 4s 60us/sample - loss: 0.0178 - accuracy: 0.9941 - val_loss: 0.0240 - val_accuracy: 0.9917\n",
            "Epoch 13/100\n",
            "60000/60000 [==============================] - 4s 60us/sample - loss: 0.0167 - accuracy: 0.9945 - val_loss: 0.0292 - val_accuracy: 0.9908\n",
            "Epoch 14/100\n",
            "60000/60000 [==============================] - 4s 60us/sample - loss: 0.0159 - accuracy: 0.9949 - val_loss: 0.0269 - val_accuracy: 0.9917\n",
            "Epoch 15/100\n",
            "60000/60000 [==============================] - 4s 60us/sample - loss: 0.0141 - accuracy: 0.9954 - val_loss: 0.0253 - val_accuracy: 0.9917\n",
            "Epoch 16/100\n",
            "60000/60000 [==============================] - 4s 59us/sample - loss: 0.0138 - accuracy: 0.9956 - val_loss: 0.0271 - val_accuracy: 0.9916\n",
            "Epoch 17/100\n",
            "60000/60000 [==============================] - 4s 61us/sample - loss: 0.0123 - accuracy: 0.9955 - val_loss: 0.0325 - val_accuracy: 0.9893\n",
            "Epoch 18/100\n",
            "60000/60000 [==============================] - 4s 60us/sample - loss: 0.0122 - accuracy: 0.9961 - val_loss: 0.0238 - val_accuracy: 0.9919\n",
            "Epoch 19/100\n",
            "60000/60000 [==============================] - 4s 59us/sample - loss: 0.0112 - accuracy: 0.9962 - val_loss: 0.0257 - val_accuracy: 0.9911\n",
            "Epoch 20/100\n",
            "60000/60000 [==============================] - 4s 60us/sample - loss: 0.0106 - accuracy: 0.9962 - val_loss: 0.0253 - val_accuracy: 0.9920\n",
            "Epoch 21/100\n",
            "60000/60000 [==============================] - 4s 60us/sample - loss: 0.0107 - accuracy: 0.9960 - val_loss: 0.0325 - val_accuracy: 0.9899\n",
            "Epoch 22/100\n",
            "60000/60000 [==============================] - 4s 59us/sample - loss: 0.0119 - accuracy: 0.9958 - val_loss: 0.0294 - val_accuracy: 0.9916\n",
            "Epoch 23/100\n",
            "60000/60000 [==============================] - 4s 60us/sample - loss: 0.0086 - accuracy: 0.9970 - val_loss: 0.0227 - val_accuracy: 0.9933\n",
            "Epoch 24/100\n",
            "60000/60000 [==============================] - 4s 59us/sample - loss: 0.0077 - accuracy: 0.9974 - val_loss: 0.0275 - val_accuracy: 0.9922\n",
            "Epoch 25/100\n",
            "60000/60000 [==============================] - 4s 60us/sample - loss: 0.0095 - accuracy: 0.9965 - val_loss: 0.0293 - val_accuracy: 0.9912\n",
            "Epoch 26/100\n",
            "60000/60000 [==============================] - 4s 60us/sample - loss: 0.0090 - accuracy: 0.9968 - val_loss: 0.0247 - val_accuracy: 0.9917\n",
            "Epoch 27/100\n",
            "60000/60000 [==============================] - 4s 63us/sample - loss: 0.0081 - accuracy: 0.9971 - val_loss: 0.0290 - val_accuracy: 0.9916\n",
            "Epoch 28/100\n",
            "60000/60000 [==============================] - 4s 59us/sample - loss: 0.0074 - accuracy: 0.9973 - val_loss: 0.0247 - val_accuracy: 0.9926\n",
            "Epoch 29/100\n",
            "60000/60000 [==============================] - 4s 61us/sample - loss: 0.0076 - accuracy: 0.9973 - val_loss: 0.0258 - val_accuracy: 0.9917\n",
            "Epoch 30/100\n",
            "60000/60000 [==============================] - 4s 59us/sample - loss: 0.0065 - accuracy: 0.9978 - val_loss: 0.0263 - val_accuracy: 0.9921\n",
            "Epoch 31/100\n",
            "60000/60000 [==============================] - 4s 61us/sample - loss: 0.0064 - accuracy: 0.9978 - val_loss: 0.0344 - val_accuracy: 0.9906\n",
            "Epoch 32/100\n",
            "60000/60000 [==============================] - 4s 60us/sample - loss: 0.0061 - accuracy: 0.9980 - val_loss: 0.0370 - val_accuracy: 0.9898\n",
            "Epoch 33/100\n",
            "60000/60000 [==============================] - 4s 60us/sample - loss: 0.0076 - accuracy: 0.9972 - val_loss: 0.0267 - val_accuracy: 0.9930\n",
            "Epoch 34/100\n",
            "60000/60000 [==============================] - 4s 60us/sample - loss: 0.0070 - accuracy: 0.9974 - val_loss: 0.0280 - val_accuracy: 0.9918\n",
            "Epoch 35/100\n",
            "60000/60000 [==============================] - 4s 60us/sample - loss: 0.0066 - accuracy: 0.9978 - val_loss: 0.0251 - val_accuracy: 0.9925\n",
            "Epoch 36/100\n",
            "60000/60000 [==============================] - 4s 62us/sample - loss: 0.0047 - accuracy: 0.9984 - val_loss: 0.0269 - val_accuracy: 0.9918\n",
            "Epoch 37/100\n",
            "60000/60000 [==============================] - 4s 63us/sample - loss: 0.0055 - accuracy: 0.9981 - val_loss: 0.0341 - val_accuracy: 0.9902\n",
            "Epoch 38/100\n",
            "60000/60000 [==============================] - 4s 62us/sample - loss: 0.0059 - accuracy: 0.9979 - val_loss: 0.0289 - val_accuracy: 0.9915\n",
            "Epoch 39/100\n",
            "60000/60000 [==============================] - 4s 61us/sample - loss: 0.0068 - accuracy: 0.9979 - val_loss: 0.0325 - val_accuracy: 0.9909\n",
            "Epoch 40/100\n",
            "60000/60000 [==============================] - 4s 60us/sample - loss: 0.0053 - accuracy: 0.9981 - val_loss: 0.0290 - val_accuracy: 0.9922\n",
            "Epoch 41/100\n",
            "60000/60000 [==============================] - 4s 60us/sample - loss: 0.0064 - accuracy: 0.9978 - val_loss: 0.0258 - val_accuracy: 0.9924\n",
            "Epoch 42/100\n",
            "60000/60000 [==============================] - 4s 60us/sample - loss: 0.0047 - accuracy: 0.9983 - val_loss: 0.0268 - val_accuracy: 0.9925\n",
            "Epoch 43/100\n",
            "60000/60000 [==============================] - 4s 61us/sample - loss: 0.0049 - accuracy: 0.9984 - val_loss: 0.0295 - val_accuracy: 0.9926\n",
            "Epoch 44/100\n",
            "60000/60000 [==============================] - 4s 60us/sample - loss: 0.0067 - accuracy: 0.9979 - val_loss: 0.0313 - val_accuracy: 0.9922\n",
            "Epoch 45/100\n",
            "60000/60000 [==============================] - 4s 61us/sample - loss: 0.0042 - accuracy: 0.9984 - val_loss: 0.0303 - val_accuracy: 0.9926\n",
            "Epoch 46/100\n",
            "60000/60000 [==============================] - 4s 62us/sample - loss: 0.0053 - accuracy: 0.9983 - val_loss: 0.0257 - val_accuracy: 0.9936\n",
            "Epoch 47/100\n",
            "60000/60000 [==============================] - 4s 61us/sample - loss: 0.0054 - accuracy: 0.9982 - val_loss: 0.0265 - val_accuracy: 0.9923\n",
            "Epoch 48/100\n",
            "60000/60000 [==============================] - 4s 61us/sample - loss: 0.0032 - accuracy: 0.9988 - val_loss: 0.0241 - val_accuracy: 0.9939\n",
            "Epoch 49/100\n",
            "60000/60000 [==============================] - 4s 61us/sample - loss: 0.0052 - accuracy: 0.9981 - val_loss: 0.0321 - val_accuracy: 0.9916\n",
            "Epoch 50/100\n",
            "60000/60000 [==============================] - 4s 63us/sample - loss: 0.0059 - accuracy: 0.9979 - val_loss: 0.0295 - val_accuracy: 0.9926\n",
            "Epoch 51/100\n",
            "60000/60000 [==============================] - 4s 62us/sample - loss: 0.0035 - accuracy: 0.9989 - val_loss: 0.0264 - val_accuracy: 0.9933\n",
            "Epoch 52/100\n",
            "60000/60000 [==============================] - 4s 60us/sample - loss: 0.0032 - accuracy: 0.9989 - val_loss: 0.0305 - val_accuracy: 0.9929\n",
            "Epoch 53/100\n",
            "60000/60000 [==============================] - 4s 61us/sample - loss: 0.0051 - accuracy: 0.9983 - val_loss: 0.0398 - val_accuracy: 0.9901\n",
            "Epoch 54/100\n",
            "60000/60000 [==============================] - 4s 61us/sample - loss: 0.0057 - accuracy: 0.9981 - val_loss: 0.0292 - val_accuracy: 0.9926\n",
            "Epoch 55/100\n",
            "60000/60000 [==============================] - 4s 60us/sample - loss: 0.0037 - accuracy: 0.9986 - val_loss: 0.0283 - val_accuracy: 0.9926\n",
            "Epoch 56/100\n",
            "60000/60000 [==============================] - 4s 59us/sample - loss: 0.0047 - accuracy: 0.9987 - val_loss: 0.0325 - val_accuracy: 0.9918\n",
            "Epoch 57/100\n",
            "60000/60000 [==============================] - 4s 60us/sample - loss: 0.0028 - accuracy: 0.9990 - val_loss: 0.0291 - val_accuracy: 0.9924\n",
            "Epoch 58/100\n",
            "60000/60000 [==============================] - 4s 60us/sample - loss: 0.0062 - accuracy: 0.9980 - val_loss: 0.0315 - val_accuracy: 0.9919\n",
            "Epoch 59/100\n",
            "60000/60000 [==============================] - 4s 63us/sample - loss: 0.0041 - accuracy: 0.9986 - val_loss: 0.0322 - val_accuracy: 0.9915\n",
            "Epoch 60/100\n",
            "60000/60000 [==============================] - 4s 62us/sample - loss: 0.0048 - accuracy: 0.9984 - val_loss: 0.0288 - val_accuracy: 0.9929\n",
            "Epoch 61/100\n",
            "60000/60000 [==============================] - 4s 59us/sample - loss: 0.0028 - accuracy: 0.9991 - val_loss: 0.0275 - val_accuracy: 0.9931\n",
            "Epoch 62/100\n",
            "60000/60000 [==============================] - 4s 59us/sample - loss: 0.0041 - accuracy: 0.9984 - val_loss: 0.0289 - val_accuracy: 0.9926\n",
            "Epoch 63/100\n",
            "60000/60000 [==============================] - 4s 60us/sample - loss: 0.0047 - accuracy: 0.9986 - val_loss: 0.0270 - val_accuracy: 0.9930\n",
            "Epoch 64/100\n",
            "60000/60000 [==============================] - 4s 60us/sample - loss: 0.0033 - accuracy: 0.9987 - val_loss: 0.0283 - val_accuracy: 0.9929\n",
            "Epoch 65/100\n",
            "60000/60000 [==============================] - 4s 60us/sample - loss: 0.0045 - accuracy: 0.9985 - val_loss: 0.0282 - val_accuracy: 0.9922\n",
            "Epoch 66/100\n",
            "60000/60000 [==============================] - 4s 60us/sample - loss: 0.0031 - accuracy: 0.9990 - val_loss: 0.0317 - val_accuracy: 0.9927\n",
            "Epoch 67/100\n",
            "60000/60000 [==============================] - 4s 59us/sample - loss: 0.0045 - accuracy: 0.9987 - val_loss: 0.0332 - val_accuracy: 0.9922\n",
            "Epoch 68/100\n",
            "60000/60000 [==============================] - 4s 60us/sample - loss: 0.0033 - accuracy: 0.9989 - val_loss: 0.0303 - val_accuracy: 0.9920\n",
            "Epoch 69/100\n",
            "60000/60000 [==============================] - 4s 60us/sample - loss: 0.0042 - accuracy: 0.9985 - val_loss: 0.0315 - val_accuracy: 0.9930\n",
            "Epoch 70/100\n",
            "60000/60000 [==============================] - 4s 59us/sample - loss: 0.0026 - accuracy: 0.9991 - val_loss: 0.0310 - val_accuracy: 0.9924\n",
            "Epoch 71/100\n",
            "60000/60000 [==============================] - 4s 60us/sample - loss: 0.0050 - accuracy: 0.9986 - val_loss: 0.0285 - val_accuracy: 0.9930\n",
            "Epoch 72/100\n",
            "60000/60000 [==============================] - 4s 61us/sample - loss: 0.0036 - accuracy: 0.9989 - val_loss: 0.0282 - val_accuracy: 0.9927\n",
            "Epoch 73/100\n",
            "60000/60000 [==============================] - 4s 60us/sample - loss: 0.0035 - accuracy: 0.9988 - val_loss: 0.0395 - val_accuracy: 0.9906\n",
            "Epoch 74/100\n",
            "60000/60000 [==============================] - 4s 58us/sample - loss: 0.0024 - accuracy: 0.9992 - val_loss: 0.0266 - val_accuracy: 0.9936\n",
            "Epoch 75/100\n",
            "60000/60000 [==============================] - 4s 60us/sample - loss: 0.0032 - accuracy: 0.9991 - val_loss: 0.0303 - val_accuracy: 0.9932\n",
            "Epoch 76/100\n",
            "60000/60000 [==============================] - 4s 61us/sample - loss: 0.0037 - accuracy: 0.9988 - val_loss: 0.0303 - val_accuracy: 0.9922\n",
            "Epoch 77/100\n",
            "60000/60000 [==============================] - 4s 59us/sample - loss: 0.0046 - accuracy: 0.9985 - val_loss: 0.0280 - val_accuracy: 0.9934\n",
            "Epoch 78/100\n",
            "60000/60000 [==============================] - 4s 60us/sample - loss: 0.0041 - accuracy: 0.9988 - val_loss: 0.0288 - val_accuracy: 0.9925\n",
            "Epoch 79/100\n",
            "60000/60000 [==============================] - 4s 59us/sample - loss: 0.0030 - accuracy: 0.9990 - val_loss: 0.0341 - val_accuracy: 0.9923\n",
            "Epoch 80/100\n",
            "60000/60000 [==============================] - 4s 59us/sample - loss: 0.0032 - accuracy: 0.9990 - val_loss: 0.0330 - val_accuracy: 0.9920\n",
            "Epoch 81/100\n",
            "60000/60000 [==============================] - 4s 60us/sample - loss: 0.0044 - accuracy: 0.9986 - val_loss: 0.0310 - val_accuracy: 0.9924\n",
            "Epoch 82/100\n",
            "60000/60000 [==============================] - 4s 61us/sample - loss: 0.0041 - accuracy: 0.9987 - val_loss: 0.0339 - val_accuracy: 0.9924\n",
            "Epoch 83/100\n",
            "60000/60000 [==============================] - 4s 62us/sample - loss: 0.0035 - accuracy: 0.9987 - val_loss: 0.0299 - val_accuracy: 0.9935\n",
            "Epoch 84/100\n",
            "60000/60000 [==============================] - 4s 61us/sample - loss: 0.0031 - accuracy: 0.9991 - val_loss: 0.0288 - val_accuracy: 0.9929\n",
            "Epoch 85/100\n",
            "60000/60000 [==============================] - 4s 59us/sample - loss: 0.0042 - accuracy: 0.9987 - val_loss: 0.0274 - val_accuracy: 0.9932\n",
            "Epoch 86/100\n",
            "60000/60000 [==============================] - 4s 59us/sample - loss: 0.0024 - accuracy: 0.9991 - val_loss: 0.0280 - val_accuracy: 0.9937\n",
            "Epoch 87/100\n",
            "60000/60000 [==============================] - 4s 60us/sample - loss: 0.0026 - accuracy: 0.9992 - val_loss: 0.0301 - val_accuracy: 0.9929\n",
            "Epoch 88/100\n",
            "60000/60000 [==============================] - 4s 59us/sample - loss: 0.0036 - accuracy: 0.9987 - val_loss: 0.0275 - val_accuracy: 0.9932\n",
            "Epoch 89/100\n",
            "60000/60000 [==============================] - 4s 59us/sample - loss: 0.0013 - accuracy: 0.9996 - val_loss: 0.0332 - val_accuracy: 0.9925\n",
            "Epoch 90/100\n",
            "60000/60000 [==============================] - 4s 59us/sample - loss: 0.0020 - accuracy: 0.9995 - val_loss: 0.0276 - val_accuracy: 0.9936\n",
            "Epoch 91/100\n",
            "60000/60000 [==============================] - 4s 59us/sample - loss: 0.0014 - accuracy: 0.9995 - val_loss: 0.0304 - val_accuracy: 0.9924\n",
            "Epoch 92/100\n",
            "60000/60000 [==============================] - 4s 60us/sample - loss: 0.0044 - accuracy: 0.9987 - val_loss: 0.0330 - val_accuracy: 0.9931\n",
            "Epoch 93/100\n",
            "60000/60000 [==============================] - 4s 60us/sample - loss: 0.0050 - accuracy: 0.9986 - val_loss: 0.0337 - val_accuracy: 0.9919\n",
            "Epoch 94/100\n",
            "60000/60000 [==============================] - 4s 60us/sample - loss: 0.0033 - accuracy: 0.9988 - val_loss: 0.0387 - val_accuracy: 0.9923\n",
            "Epoch 95/100\n",
            "60000/60000 [==============================] - 4s 59us/sample - loss: 0.0044 - accuracy: 0.9987 - val_loss: 0.0372 - val_accuracy: 0.9921\n",
            "Epoch 96/100\n",
            "60000/60000 [==============================] - 4s 60us/sample - loss: 0.0031 - accuracy: 0.9991 - val_loss: 0.0301 - val_accuracy: 0.9942\n",
            "Epoch 97/100\n",
            "60000/60000 [==============================] - 4s 59us/sample - loss: 0.0030 - accuracy: 0.9991 - val_loss: 0.0299 - val_accuracy: 0.9931\n",
            "Epoch 98/100\n",
            "60000/60000 [==============================] - 4s 59us/sample - loss: 0.0012 - accuracy: 0.9997 - val_loss: 0.0313 - val_accuracy: 0.9927\n",
            "Epoch 99/100\n",
            "60000/60000 [==============================] - 4s 59us/sample - loss: 0.0019 - accuracy: 0.9993 - val_loss: 0.0388 - val_accuracy: 0.9923\n",
            "Epoch 100/100\n",
            "60000/60000 [==============================] - 4s 59us/sample - loss: 0.0040 - accuracy: 0.9987 - val_loss: 0.0377 - val_accuracy: 0.9928\n"
          ],
          "name": "stdout"
        }
      ]
    },
    {
      "cell_type": "code",
      "metadata": {
        "id": "kXvG-7zvshld",
        "colab_type": "code",
        "colab": {
          "base_uri": "https://localhost:8080/",
          "height": 241
        },
        "outputId": "9c9f9710-3d75-48cd-9829-2ac751509abb"
      },
      "source": [
        "plot_accuracy_and_loss(pooling_cnn_history, 'Pooling CNN')"
      ],
      "execution_count": 10,
      "outputs": [
        {
          "output_type": "display_data",
          "data": {
            "image/png": "[encoded data removed]",
            "text/plain": [
              "<Figure size 720x216 with 2 Axes>"
            ]
          },
          "metadata": {
            "tags": []
          }
        }
      ]
    },
    {
      "cell_type": "markdown",
      "metadata": {
        "id": "TDh3cMRwtCRF",
        "colab_type": "text"
      },
      "source": [
        "We’ve picked up a small but meaningful increase in validation accuracy,\n",
        "from 0.9879 to 0.9939. As we mentioned earlier, progress at this\n",
        "point often proceeds in tiny steps. This is actually pretty large, since\n",
        "we’ve shaved off almost half of the distance to 1.\n",
        "\n",
        "And we seem to have no overfitting. In fact, after about the 50th epoch\n",
        "everything things pretty much settled."
      ]
    },
    {
      "cell_type": "markdown",
      "metadata": {
        "id": "e85uQtt0tN5n",
        "colab_type": "text"
      },
      "source": [
        "### A convolutional neural network with dropout and striding layers"
      ]
    },
    {
      "cell_type": "markdown",
      "metadata": {
        "id": "AIdCyVSgtXu8",
        "colab_type": "text"
      },
      "source": [
        ""
      ]
    }
  ]
}