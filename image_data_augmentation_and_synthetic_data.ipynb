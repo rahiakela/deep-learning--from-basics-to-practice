{
  "nbformat": 4,
  "nbformat_minor": 0,
  "metadata": {
    "colab": {
      "name": "image-data-augmentation-and-synthetic-data.ipynb",
      "provenance": [],
      "toc_visible": true,
      "include_colab_link": true
    },
    "kernelspec": {
      "name": "python3",
      "display_name": "Python 3"
    },
    "accelerator": "GPU"
  },
  "cells": [
    {
      "cell_type": "markdown",
      "metadata": {
        "id": "view-in-github",
        "colab_type": "text"
      },
      "source": [
        "<a href=\"https://colab.research.google.com/github/rahiakela/deep-learning--from-basics-to-practice/blob/24-keras-part-2/image_data_augmentation_and_synthetic_data.ipynb\" target=\"_parent\"><img src=\"https://colab.research.google.com/assets/colab-badge.svg\" alt=\"Open In Colab\"/></a>"
      ]
    },
    {
      "cell_type": "markdown",
      "metadata": {
        "id": "JlX69owHA-U-",
        "colab_type": "text"
      },
      "source": [
        "# Image Data Augmentation and Synthetic Data"
      ]
    },
    {
      "cell_type": "markdown",
      "metadata": {
        "id": "-LND8ixTBPJE",
        "colab_type": "text"
      },
      "source": [
        "One of the best ways to improve performance of any model is to give it\n",
        "as much training data as we can, while avoiding overfitting.\n",
        "\n",
        "When we’re working with images, we can easily create lots of new data\n",
        "by simply manipulating the images we already have, creating a wide\n",
        "variety of variations on the original. We could move each image left,\n",
        "right, up, or down, make it a little smaller or larger, rotate it clockwise\n",
        "or counter-clockwise by some amount, or perhaps flip it horizontally\n",
        "or vertically.\n",
        "\n",
        "<img src='https://github.com/rahiakela/img-repo/blob/master/augmenting-image.PNG?raw=1' width='800'/>\n",
        "\n",
        "The process of enlarging a dataset by creating variations is called data\n",
        "amplification, or data augmentation.\n",
        "\n",
        "When we’re working specifically with images, Keras provides\n",
        "a built-in object to perform data augmentation. It’s called the\n",
        "ImageDataGenerator, and it performs all of the modifications we just\n",
        "mentioned, and a few others besides.\n",
        "\n",
        "A generator, in Python, can be thought of as a function that runs an internal loop, typically carrying out calculations and producing data. When that loop\n",
        "reaches a yield statement, the generator returns control to the routine\n",
        "that called it, with the argument to yield set to its value, just like a return statement. But if we call that function again, the loop picks up\n",
        "where it most recently stopped, and continues as though it had never\n",
        "been interrupted.\n",
        "\n",
        "The ImageDataGenerator is set up this way because we can configure\n",
        "it to produce large numbers of variations on each of our input\n",
        "images. This can take a lot of time and a lot of computer memory. So\n",
        "rather than compute all the variations ahead of time and hold on to\n",
        "them until they’re needed, the generator creates batches of images on\n",
        "demand. Each time we call the generator, it will produce and return\n",
        "another batch of images."
      ]
    },
    {
      "cell_type": "markdown",
      "metadata": {
        "id": "ymPB_yNhC3EQ",
        "colab_type": "text"
      },
      "source": [
        "## Setup"
      ]
    },
    {
      "cell_type": "code",
      "metadata": {
        "id": "WKz0FYe2C4jJ",
        "colab_type": "code",
        "colab": {
          "base_uri": "https://localhost:8080/",
          "height": 35
        },
        "outputId": "178754bf-733a-4f48-85fb-c98c4693359d"
      },
      "source": [
        "from __future__ import absolute_import, division, print_function, unicode_literals\n",
        "\n",
        "try:\n",
        "  # %tensorflow_version only exists in Colab.\n",
        "  %tensorflow_version 2.x\n",
        "except Exception:\n",
        "  pass\n",
        "import tensorflow as tf\n",
        "from tensorflow import keras\n",
        "import numpy as np\n",
        "import pandas as pd\n",
        "\n",
        "import matplotlib.pyplot as plt\n",
        "\n",
        "from tensorflow.keras.datasets import mnist\n",
        "from tensorflow.keras import backend as keras_backend\n",
        "from tensorflow.keras.utils import to_categorical\n",
        "\n",
        "from tensorflow.keras.models import Sequential\n",
        "from tensorflow.keras.layers import Dense, Dropout, Activation, Flatten, Conv2D, MaxPooling2D, BatchNormalization\n",
        "from tensorflow.keras.constraints import max_norm\n",
        "from tensorflow.keras.optimizers import Adam, SGD, RMSprop\n",
        "from tensorflow.keras.preprocessing.image import ImageDataGenerator\n",
        "\n",
        "keras_backend.set_image_data_format('channels_last')"
      ],
      "execution_count": 1,
      "outputs": [
        {
          "output_type": "stream",
          "text": [
            "TensorFlow 2.x selected.\n"
          ],
          "name": "stdout"
        }
      ]
    },
    {
      "cell_type": "code",
      "metadata": {
        "id": "iAAn3XnVC7kA",
        "colab_type": "code",
        "colab": {}
      },
      "source": [
        "random_seed = 42\n",
        "np.random.seed(random_seed)"
      ],
      "execution_count": 0,
      "outputs": []
    },
    {
      "cell_type": "code",
      "metadata": {
        "id": "B9PfFZJBDAHD",
        "colab_type": "code",
        "colab": {
          "base_uri": "https://localhost:8080/",
          "height": 52
        },
        "outputId": "049710ae-54f4-4dec-d0ee-19f74cbbc2f7"
      },
      "source": [
        "# load MNIST data and save sizes\n",
        "(X_train, y_train), (X_test, y_test) = mnist.load_data()\n",
        "image_height = X_train.shape[1]\n",
        "image_width = X_train.shape[2]\n",
        "number_of_pixels = image_height * image_width\n",
        "\n",
        "# convert to floating-point\n",
        "X_train = keras_backend.cast_to_floatx(X_train)\n",
        "X_test = keras_backend.cast_to_floatx(X_test)\n",
        "\n",
        "# scale data to range [-1, 1]\n",
        "X_train = np.interp(X_train, [0, 255], [-1,1])\n",
        "X_test = np.interp(X_test, [0, 255], [-1,1])\n",
        "\n",
        "# save original y_train and y_test\n",
        "original_y_train = y_train\n",
        "original_y_test = y_test\n",
        "\n",
        "# replace label data with one-hot encoded versions\n",
        "number_of_classes = 1 + max(np.append(y_train, y_test))\n",
        "y_train = to_categorical(y_train, num_classes=number_of_classes)\n",
        "y_test = to_categorical(y_test, num_classes=number_of_classes)\n",
        "\n",
        "# reshape sample data to 4D tensor using channels_last convention \n",
        "X_train = X_train.reshape(X_train.shape[0], image_height, image_width, 1)\n",
        "X_test = X_test.reshape(X_test.shape[0], image_height, image_width, 1)"
      ],
      "execution_count": 3,
      "outputs": [
        {
          "output_type": "stream",
          "text": [
            "Downloading data from https://storage.googleapis.com/tensorflow/tf-keras-datasets/mnist.npz\n",
            "11493376/11490434 [==============================] - 0s 0us/step\n"
          ],
          "name": "stdout"
        }
      ]
    },
    {
      "cell_type": "code",
      "metadata": {
        "id": "20ZAl7wODCa4",
        "colab_type": "code",
        "colab": {}
      },
      "source": [
        "def plot_accuracy_and_loss(history, plot_title):\n",
        "    xs = range(len(history.history['accuracy']))\n",
        "\n",
        "    plt.figure(figsize=(10,3))\n",
        "    plt.subplot(1, 2, 1)\n",
        "    plt.plot(xs, history.history['accuracy'], label='train')\n",
        "    plt.plot(xs, history.history['val_accuracy'], label='test')\n",
        "    plt.legend(loc='lower left')\n",
        "    plt.xlabel('epochs')\n",
        "    plt.ylabel('accuracy')\n",
        "    plt.title(plot_title+', Accuracy')\n",
        "\n",
        "    plt.subplot(1, 2, 2)\n",
        "    plt.plot(xs, history.history['loss'], label='train')\n",
        "    plt.plot(xs, history.history['val_loss'], label='test')\n",
        "    plt.legend(loc='upper left')\n",
        "    plt.xlabel('epochs')\n",
        "    plt.ylabel('loss')\n",
        "    plt.title(plot_title+', Loss')\n",
        "\n",
        "    #plt.tight_layout()\n",
        "    plt.show()"
      ],
      "execution_count": 0,
      "outputs": []
    },
    {
      "cell_type": "markdown",
      "metadata": {
        "id": "WcaXVFWUDPke",
        "colab_type": "text"
      },
      "source": [
        "## Data generation from MNIST"
      ]
    },
    {
      "cell_type": "markdown",
      "metadata": {
        "id": "f4A2Tbu7Dxwp",
        "colab_type": "text"
      },
      "source": [
        "The overall process of setting up and using the generator takes\n",
        "only two steps. \n",
        "\n",
        "* First, we create our ImageDataGenerator with\n",
        "the options we want. \n",
        "* Second, we train our model. But instead of\n",
        "using fit() to start training, we use fit_generator(). \n",
        "\n",
        "These both take the same arguments with one exception: The first argument to\n",
        "fit_generator() is a function that returns batches of samples.\n",
        "\n",
        "The usual function that we provide to fit_generator() is a function\n",
        "called flow(), which is automatically created for us as part of our\n",
        "ImageDataGenerator object."
      ]
    },
    {
      "cell_type": "code",
      "metadata": {
        "id": "B9GiZ3ktDOQs",
        "colab_type": "code",
        "colab": {
          "base_uri": "https://localhost:8080/",
          "height": 253
        },
        "outputId": "6dd238cf-85df-4109-ec74-422774e3438c"
      },
      "source": [
        "# Use just one image\n",
        "X_train = np.reshape(8 * [X_train[5]], (8, 28, 28, 1))\n",
        "y_train = 8 * [y_train[5]]\n",
        "\n",
        "image_generator = ImageDataGenerator(rotation_range=100, horizontal_flip=True)\n",
        "image_generator.fit(X_train)\n",
        "\n",
        "for X_batch, y_batch in image_generator.flow(X_train, y_train, batch_size=8, seed=42):\n",
        "  for i in range(0, 8):\n",
        "    plt.subplot(2, 4, i + 1)\n",
        "    plt.imshow(X_batch[i].reshape(28, 28), cmap='gray')\n",
        "    plt.xticks([], [])\n",
        "    plt.yticks([], [])\n",
        "  break\n",
        "\n",
        "plt.tight_layout()\n",
        "plt.show()"
      ],
      "execution_count": 5,
      "outputs": [
        {
          "output_type": "display_data",
          "data": {
            "image/png": "[encoded data removed]",
            "text/plain": [
              "<Figure size 432x288 with 8 Axes>"
            ]
          },
          "metadata": {
            "tags": []
          }
        }
      ]
    },
    {
      "cell_type": "markdown",
      "metadata": {
        "id": "qlm861yOGAX6",
        "colab_type": "text"
      },
      "source": [
        "Together, fit_generator() and flow() manage the production of\n",
        "batches of images, and presenting them to our model for training."
      ]
    },
    {
      "cell_type": "code",
      "metadata": {
        "id": "GZFQoMnnFsgZ",
        "colab_type": "code",
        "colab": {}
      },
      "source": [
        "def make_cnn_model():\n",
        "  model = Sequential()\n",
        "  model.add(Conv2D(16, (5, 5), activation='relu', padding='same', kernel_constraint=max_norm(3), input_shape=(image_height, image_width, 1)))\n",
        "  model.add(Dropout(0.2))\n",
        "  model.add(Conv2D(8, (3, 3), activation='relu', padding='same', kernel_constraint=max_norm(3)))\n",
        "  model.add(Dropout(0.2))\n",
        "  model.add(Conv2D(8, (3, 3), activation='relu', padding='same', kernel_constraint=max_norm(3)))\n",
        "  model.add(Dropout(0.2))\n",
        "  model.add(Flatten())\n",
        "  model.add(Dense(number_of_classes, activation='softmax'))\n",
        "\n",
        "  model.compile(loss='categorical_crossentropy', optimizer='adam', metrics=['accuracy'])\n",
        "\n",
        "  return model"
      ],
      "execution_count": 0,
      "outputs": []
    },
    {
      "cell_type": "code",
      "metadata": {
        "id": "ThbtIje1GKbD",
        "colab_type": "code",
        "colab": {
          "base_uri": "https://localhost:8080/",
          "height": 1000
        },
        "outputId": "146c237c-dd00-4494-af61-55c48b187fa7"
      },
      "source": [
        "# fit our model using images produced by the image generator\n",
        "# ref: https://www.geeksforgeeks.org/keras-fit-and-keras-fit_generator/\n",
        "cnn_model = make_cnn_model()\n",
        "cnn_history = cnn_model.fit_generator(\n",
        "    image_generator.flow(X_train, y_train, batch_size=256), \n",
        "    validation_data=(X_test, y_test), epochs=100, steps_per_epoch=len(X_train) // 256)"
      ],
      "execution_count": 11,
      "outputs": [
        {
          "output_type": "stream",
          "text": [
            "WARNING:tensorflow:sample_weight modes were coerced from\n",
            "  ...\n",
            "    to  \n",
            "  ['...']\n",
            "Train for 1 steps, validate on 10000 samples\n",
            "Epoch 1/100\n",
            "1/1 [==============================] - 3s 3s/step - loss: 2.7102 - accuracy: 0.0000e+00 - val_loss: 2.3616 - val_accuracy: 0.1032\n",
            "Epoch 2/100\n",
            "1/1 [==============================] - 3s 3s/step - loss: 1.5499 - accuracy: 1.0000 - val_loss: 2.6908 - val_accuracy: 0.1032\n",
            "Epoch 3/100\n",
            "1/1 [==============================] - 2s 2s/step - loss: 0.6567 - accuracy: 1.0000 - val_loss: 3.8122 - val_accuracy: 0.1032\n",
            "Epoch 4/100\n",
            "1/1 [==============================] - 2s 2s/step - loss: 0.1339 - accuracy: 1.0000 - val_loss: 5.7150 - val_accuracy: 0.1032\n",
            "Epoch 5/100\n",
            "1/1 [==============================] - 2s 2s/step - loss: 0.0164 - accuracy: 1.0000 - val_loss: 7.8873 - val_accuracy: 0.1032\n",
            "Epoch 6/100\n",
            "1/1 [==============================] - 2s 2s/step - loss: 0.0013 - accuracy: 1.0000 - val_loss: 10.0885 - val_accuracy: 0.1032\n",
            "Epoch 7/100\n",
            "1/1 [==============================] - 2s 2s/step - loss: 1.1183e-04 - accuracy: 1.0000 - val_loss: 12.2734 - val_accuracy: 0.1032\n",
            "Epoch 8/100\n",
            "1/1 [==============================] - 2s 2s/step - loss: 1.2442e-05 - accuracy: 1.0000 - val_loss: 14.4323 - val_accuracy: 0.1032\n",
            "Epoch 9/100\n",
            "1/1 [==============================] - 2s 2s/step - loss: 1.0580e-06 - accuracy: 1.0000 - val_loss: 16.5266 - val_accuracy: 0.1032\n",
            "Epoch 10/100\n",
            "1/1 [==============================] - 2s 2s/step - loss: 1.6391e-07 - accuracy: 1.0000 - val_loss: 18.5405 - val_accuracy: 0.1032\n",
            "Epoch 11/100\n",
            "1/1 [==============================] - 2s 2s/step - loss: 0.0000e+00 - accuracy: 1.0000 - val_loss: 20.4552 - val_accuracy: 0.1032\n",
            "Epoch 12/100\n",
            "1/1 [==============================] - 2s 2s/step - loss: 0.0000e+00 - accuracy: 1.0000 - val_loss: 22.2764 - val_accuracy: 0.1032\n",
            "Epoch 13/100\n",
            "1/1 [==============================] - 2s 2s/step - loss: 0.0000e+00 - accuracy: 1.0000 - val_loss: 24.0010 - val_accuracy: 0.1032\n",
            "Epoch 14/100\n",
            "1/1 [==============================] - 3s 3s/step - loss: 0.0000e+00 - accuracy: 1.0000 - val_loss: 25.6284 - val_accuracy: 0.1032\n",
            "Epoch 15/100\n",
            "1/1 [==============================] - 2s 2s/step - loss: 0.0000e+00 - accuracy: 1.0000 - val_loss: 27.1586 - val_accuracy: 0.1032\n",
            "Epoch 16/100\n",
            "1/1 [==============================] - 2s 2s/step - loss: 0.0000e+00 - accuracy: 1.0000 - val_loss: 28.5935 - val_accuracy: 0.1032\n",
            "Epoch 17/100\n",
            "1/1 [==============================] - 2s 2s/step - loss: 0.0000e+00 - accuracy: 1.0000 - val_loss: 29.9367 - val_accuracy: 0.1032\n",
            "Epoch 18/100\n",
            "1/1 [==============================] - 2s 2s/step - loss: 0.0000e+00 - accuracy: 1.0000 - val_loss: 31.1903 - val_accuracy: 0.1032\n",
            "Epoch 19/100\n",
            "1/1 [==============================] - 2s 2s/step - loss: 0.0000e+00 - accuracy: 1.0000 - val_loss: 32.3577 - val_accuracy: 0.1032\n",
            "Epoch 20/100\n",
            "1/1 [==============================] - 2s 2s/step - loss: 0.0000e+00 - accuracy: 1.0000 - val_loss: 33.4413 - val_accuracy: 0.1032\n",
            "Epoch 21/100\n",
            "1/1 [==============================] - 2s 2s/step - loss: 0.0000e+00 - accuracy: 1.0000 - val_loss: 34.4467 - val_accuracy: 0.1032\n",
            "Epoch 22/100\n",
            "1/1 [==============================] - 2s 2s/step - loss: 0.0000e+00 - accuracy: 1.0000 - val_loss: 35.3783 - val_accuracy: 0.1032\n",
            "Epoch 23/100\n",
            "1/1 [==============================] - 2s 2s/step - loss: 0.0000e+00 - accuracy: 1.0000 - val_loss: 36.2403 - val_accuracy: 0.1032\n",
            "Epoch 24/100\n",
            "1/1 [==============================] - 2s 2s/step - loss: 0.0000e+00 - accuracy: 1.0000 - val_loss: 37.0376 - val_accuracy: 0.1032\n",
            "Epoch 25/100\n",
            "1/1 [==============================] - 3s 3s/step - loss: 0.0000e+00 - accuracy: 1.0000 - val_loss: 37.7734 - val_accuracy: 0.1032\n",
            "Epoch 26/100\n",
            "1/1 [==============================] - 2s 2s/step - loss: 0.0000e+00 - accuracy: 1.0000 - val_loss: 38.4517 - val_accuracy: 0.1032\n",
            "Epoch 27/100\n",
            "1/1 [==============================] - 2s 2s/step - loss: 0.0000e+00 - accuracy: 1.0000 - val_loss: 39.0763 - val_accuracy: 0.1032\n",
            "Epoch 28/100\n",
            "1/1 [==============================] - 2s 2s/step - loss: 0.0000e+00 - accuracy: 1.0000 - val_loss: 39.6510 - val_accuracy: 0.1032\n",
            "Epoch 29/100\n",
            "1/1 [==============================] - 2s 2s/step - loss: 0.0000e+00 - accuracy: 1.0000 - val_loss: 40.1793 - val_accuracy: 0.1032\n",
            "Epoch 30/100\n",
            "1/1 [==============================] - 2s 2s/step - loss: 0.0000e+00 - accuracy: 1.0000 - val_loss: 40.6646 - val_accuracy: 0.1032\n",
            "Epoch 31/100\n",
            "1/1 [==============================] - 2s 2s/step - loss: 0.0000e+00 - accuracy: 1.0000 - val_loss: 41.1099 - val_accuracy: 0.1032\n",
            "Epoch 32/100\n",
            "1/1 [==============================] - 2s 2s/step - loss: 0.0000e+00 - accuracy: 1.0000 - val_loss: 41.5184 - val_accuracy: 0.1032\n",
            "Epoch 33/100\n",
            "1/1 [==============================] - 2s 2s/step - loss: 0.0000e+00 - accuracy: 1.0000 - val_loss: 41.8927 - val_accuracy: 0.1032\n",
            "Epoch 34/100\n",
            "1/1 [==============================] - 2s 2s/step - loss: 0.0000e+00 - accuracy: 1.0000 - val_loss: 42.2355 - val_accuracy: 0.1032\n",
            "Epoch 35/100\n",
            "1/1 [==============================] - 2s 2s/step - loss: 0.0000e+00 - accuracy: 1.0000 - val_loss: 42.5493 - val_accuracy: 0.1032\n",
            "Epoch 36/100\n",
            "1/1 [==============================] - 2s 2s/step - loss: 0.0000e+00 - accuracy: 1.0000 - val_loss: 42.8364 - val_accuracy: 0.1032\n",
            "Epoch 37/100\n",
            "1/1 [==============================] - 2s 2s/step - loss: 0.0000e+00 - accuracy: 1.0000 - val_loss: 43.0988 - val_accuracy: 0.1032\n",
            "Epoch 38/100\n",
            "1/1 [==============================] - 2s 2s/step - loss: 0.0000e+00 - accuracy: 1.0000 - val_loss: 43.3386 - val_accuracy: 0.1032\n",
            "Epoch 39/100\n",
            "1/1 [==============================] - 2s 2s/step - loss: 0.0000e+00 - accuracy: 1.0000 - val_loss: 43.5577 - val_accuracy: 0.1032\n",
            "Epoch 40/100\n",
            "1/1 [==============================] - 2s 2s/step - loss: 0.0000e+00 - accuracy: 1.0000 - val_loss: 43.7577 - val_accuracy: 0.1032\n",
            "Epoch 41/100\n",
            "1/1 [==============================] - 2s 2s/step - loss: 0.0000e+00 - accuracy: 1.0000 - val_loss: 43.9402 - val_accuracy: 0.1032\n",
            "Epoch 42/100\n",
            "1/1 [==============================] - 2s 2s/step - loss: 0.0000e+00 - accuracy: 1.0000 - val_loss: 44.1067 - val_accuracy: 0.1032\n",
            "Epoch 43/100\n",
            "1/1 [==============================] - 2s 2s/step - loss: 0.0000e+00 - accuracy: 1.0000 - val_loss: 44.2585 - val_accuracy: 0.1032\n",
            "Epoch 44/100\n",
            "1/1 [==============================] - 2s 2s/step - loss: 0.0000e+00 - accuracy: 1.0000 - val_loss: 44.3969 - val_accuracy: 0.1032\n",
            "Epoch 45/100\n",
            "1/1 [==============================] - 2s 2s/step - loss: 0.0000e+00 - accuracy: 1.0000 - val_loss: 44.5230 - val_accuracy: 0.1032\n",
            "Epoch 46/100\n",
            "1/1 [==============================] - 3s 3s/step - loss: 0.0000e+00 - accuracy: 1.0000 - val_loss: 44.6378 - val_accuracy: 0.1032\n",
            "Epoch 47/100\n",
            "1/1 [==============================] - 2s 2s/step - loss: 0.0000e+00 - accuracy: 1.0000 - val_loss: 44.7424 - val_accuracy: 0.1032\n",
            "Epoch 48/100\n",
            "1/1 [==============================] - 2s 2s/step - loss: 0.0000e+00 - accuracy: 1.0000 - val_loss: 44.8376 - val_accuracy: 0.1032\n",
            "Epoch 49/100\n",
            "1/1 [==============================] - 2s 2s/step - loss: 0.0000e+00 - accuracy: 1.0000 - val_loss: 44.9243 - val_accuracy: 0.1032\n",
            "Epoch 50/100\n",
            "1/1 [==============================] - 2s 2s/step - loss: 0.0000e+00 - accuracy: 1.0000 - val_loss: 45.0032 - val_accuracy: 0.1032\n",
            "Epoch 51/100\n",
            "1/1 [==============================] - 2s 2s/step - loss: 0.0000e+00 - accuracy: 1.0000 - val_loss: 45.0749 - val_accuracy: 0.1032\n",
            "Epoch 52/100\n",
            "1/1 [==============================] - 3s 3s/step - loss: 0.0000e+00 - accuracy: 1.0000 - val_loss: 45.1401 - val_accuracy: 0.1032\n",
            "Epoch 53/100\n",
            "1/1 [==============================] - 3s 3s/step - loss: 0.0000e+00 - accuracy: 1.0000 - val_loss: 45.1994 - val_accuracy: 0.1032\n",
            "Epoch 54/100\n",
            "1/1 [==============================] - 2s 2s/step - loss: 0.0000e+00 - accuracy: 1.0000 - val_loss: 45.2533 - val_accuracy: 0.1032\n",
            "Epoch 55/100\n",
            "1/1 [==============================] - 2s 2s/step - loss: 0.0000e+00 - accuracy: 1.0000 - val_loss: 45.3023 - val_accuracy: 0.1032\n",
            "Epoch 56/100\n",
            "1/1 [==============================] - 2s 2s/step - loss: 0.0000e+00 - accuracy: 1.0000 - val_loss: 45.3468 - val_accuracy: 0.1032\n",
            "Epoch 57/100\n",
            "1/1 [==============================] - 2s 2s/step - loss: 0.0000e+00 - accuracy: 1.0000 - val_loss: 45.3872 - val_accuracy: 0.1032\n",
            "Epoch 58/100\n",
            "1/1 [==============================] - 2s 2s/step - loss: 0.0000e+00 - accuracy: 1.0000 - val_loss: 45.4239 - val_accuracy: 0.1032\n",
            "Epoch 59/100\n",
            "1/1 [==============================] - 3s 3s/step - loss: 0.0000e+00 - accuracy: 1.0000 - val_loss: 45.4573 - val_accuracy: 0.1032\n",
            "Epoch 60/100\n",
            "1/1 [==============================] - 2s 2s/step - loss: 0.0000e+00 - accuracy: 1.0000 - val_loss: 45.4875 - val_accuracy: 0.1032\n",
            "Epoch 61/100\n",
            "1/1 [==============================] - 2s 2s/step - loss: 0.0000e+00 - accuracy: 1.0000 - val_loss: 45.5150 - val_accuracy: 0.1032\n",
            "Epoch 62/100\n",
            "1/1 [==============================] - 2s 2s/step - loss: 0.0000e+00 - accuracy: 1.0000 - val_loss: 45.5399 - val_accuracy: 0.1032\n",
            "Epoch 63/100\n",
            "1/1 [==============================] - 2s 2s/step - loss: 0.0000e+00 - accuracy: 1.0000 - val_loss: 45.5626 - val_accuracy: 0.1032\n",
            "Epoch 64/100\n",
            "1/1 [==============================] - 2s 2s/step - loss: 0.0000e+00 - accuracy: 1.0000 - val_loss: 45.5831 - val_accuracy: 0.1032\n",
            "Epoch 65/100\n",
            "1/1 [==============================] - 2s 2s/step - loss: 0.0000e+00 - accuracy: 1.0000 - val_loss: 45.6017 - val_accuracy: 0.1032\n",
            "Epoch 66/100\n",
            "1/1 [==============================] - 2s 2s/step - loss: 0.0000e+00 - accuracy: 1.0000 - val_loss: 45.6186 - val_accuracy: 0.1032\n",
            "Epoch 67/100\n",
            "1/1 [==============================] - 2s 2s/step - loss: 0.0000e+00 - accuracy: 1.0000 - val_loss: 45.6339 - val_accuracy: 0.1032\n",
            "Epoch 68/100\n",
            "1/1 [==============================] - 2s 2s/step - loss: 0.0000e+00 - accuracy: 1.0000 - val_loss: 45.6478 - val_accuracy: 0.1032\n",
            "Epoch 69/100\n",
            "1/1 [==============================] - 2s 2s/step - loss: 0.0000e+00 - accuracy: 1.0000 - val_loss: 45.6603 - val_accuracy: 0.1032\n",
            "Epoch 70/100\n",
            "1/1 [==============================] - 2s 2s/step - loss: 0.0000e+00 - accuracy: 1.0000 - val_loss: 45.6718 - val_accuracy: 0.1032\n",
            "Epoch 71/100\n",
            "1/1 [==============================] - 2s 2s/step - loss: 0.0000e+00 - accuracy: 1.0000 - val_loss: 45.6821 - val_accuracy: 0.1032\n",
            "Epoch 72/100\n",
            "1/1 [==============================] - 2s 2s/step - loss: 0.0000e+00 - accuracy: 1.0000 - val_loss: 45.6915 - val_accuracy: 0.1032\n",
            "Epoch 73/100\n",
            "1/1 [==============================] - 2s 2s/step - loss: 0.0000e+00 - accuracy: 1.0000 - val_loss: 45.6999 - val_accuracy: 0.1032\n",
            "Epoch 74/100\n",
            "1/1 [==============================] - 2s 2s/step - loss: 0.0000e+00 - accuracy: 1.0000 - val_loss: 45.7076 - val_accuracy: 0.1032\n",
            "Epoch 75/100\n",
            "1/1 [==============================] - 2s 2s/step - loss: 0.0000e+00 - accuracy: 1.0000 - val_loss: 45.7146 - val_accuracy: 0.1032\n",
            "Epoch 76/100\n",
            "1/1 [==============================] - 2s 2s/step - loss: 0.0000e+00 - accuracy: 1.0000 - val_loss: 45.7209 - val_accuracy: 0.1032\n",
            "Epoch 77/100\n",
            "1/1 [==============================] - 3s 3s/step - loss: 0.0000e+00 - accuracy: 1.0000 - val_loss: 45.7266 - val_accuracy: 0.1032\n",
            "Epoch 78/100\n",
            "1/1 [==============================] - 2s 2s/step - loss: 0.0000e+00 - accuracy: 1.0000 - val_loss: 45.7317 - val_accuracy: 0.1032\n",
            "Epoch 79/100\n",
            "1/1 [==============================] - 2s 2s/step - loss: 0.0000e+00 - accuracy: 1.0000 - val_loss: 45.7364 - val_accuracy: 0.1032\n",
            "Epoch 80/100\n",
            "1/1 [==============================] - 2s 2s/step - loss: 0.0000e+00 - accuracy: 1.0000 - val_loss: 45.7406 - val_accuracy: 0.1032\n",
            "Epoch 81/100\n",
            "1/1 [==============================] - 2s 2s/step - loss: 0.0000e+00 - accuracy: 1.0000 - val_loss: 45.7444 - val_accuracy: 0.1032\n",
            "Epoch 82/100\n",
            "1/1 [==============================] - 2s 2s/step - loss: 0.0000e+00 - accuracy: 1.0000 - val_loss: 45.7479 - val_accuracy: 0.1032\n",
            "Epoch 83/100\n",
            "1/1 [==============================] - 2s 2s/step - loss: 0.0000e+00 - accuracy: 1.0000 - val_loss: 45.7510 - val_accuracy: 0.1032\n",
            "Epoch 84/100\n",
            "1/1 [==============================] - 3s 3s/step - loss: 0.0000e+00 - accuracy: 1.0000 - val_loss: 45.7538 - val_accuracy: 0.1032\n",
            "Epoch 85/100\n",
            "1/1 [==============================] - 2s 2s/step - loss: 0.0000e+00 - accuracy: 1.0000 - val_loss: 45.7564 - val_accuracy: 0.1032\n",
            "Epoch 86/100\n",
            "1/1 [==============================] - 2s 2s/step - loss: 0.0000e+00 - accuracy: 1.0000 - val_loss: 45.7587 - val_accuracy: 0.1032\n",
            "Epoch 87/100\n",
            "1/1 [==============================] - 2s 2s/step - loss: 0.0000e+00 - accuracy: 1.0000 - val_loss: 45.7607 - val_accuracy: 0.1032\n",
            "Epoch 88/100\n",
            "1/1 [==============================] - 2s 2s/step - loss: 0.0000e+00 - accuracy: 1.0000 - val_loss: 45.7626 - val_accuracy: 0.1032\n",
            "Epoch 89/100\n",
            "1/1 [==============================] - 2s 2s/step - loss: 0.0000e+00 - accuracy: 1.0000 - val_loss: 45.7643 - val_accuracy: 0.1032\n",
            "Epoch 90/100\n",
            "1/1 [==============================] - 2s 2s/step - loss: 0.0000e+00 - accuracy: 1.0000 - val_loss: 45.7658 - val_accuracy: 0.1032\n",
            "Epoch 91/100\n",
            "1/1 [==============================] - 3s 3s/step - loss: 0.0000e+00 - accuracy: 1.0000 - val_loss: 45.7672 - val_accuracy: 0.1032\n",
            "Epoch 92/100\n",
            "1/1 [==============================] - 3s 3s/step - loss: 0.0000e+00 - accuracy: 1.0000 - val_loss: 45.7684 - val_accuracy: 0.1032\n",
            "Epoch 93/100\n",
            "1/1 [==============================] - 2s 2s/step - loss: 0.0000e+00 - accuracy: 1.0000 - val_loss: 45.7695 - val_accuracy: 0.1032\n",
            "Epoch 94/100\n",
            "1/1 [==============================] - 2s 2s/step - loss: 0.0000e+00 - accuracy: 1.0000 - val_loss: 45.7705 - val_accuracy: 0.1032\n",
            "Epoch 95/100\n",
            "1/1 [==============================] - 2s 2s/step - loss: 0.0000e+00 - accuracy: 1.0000 - val_loss: 45.7714 - val_accuracy: 0.1032\n",
            "Epoch 96/100\n",
            "1/1 [==============================] - 3s 3s/step - loss: 0.0000e+00 - accuracy: 1.0000 - val_loss: 45.7722 - val_accuracy: 0.1032\n",
            "Epoch 97/100\n",
            "1/1 [==============================] - 3s 3s/step - loss: 0.0000e+00 - accuracy: 1.0000 - val_loss: 45.7730 - val_accuracy: 0.1032\n",
            "Epoch 98/100\n",
            "1/1 [==============================] - 2s 2s/step - loss: 0.0000e+00 - accuracy: 1.0000 - val_loss: 45.7736 - val_accuracy: 0.1032\n",
            "Epoch 99/100\n",
            "1/1 [==============================] - 3s 3s/step - loss: 0.0000e+00 - accuracy: 1.0000 - val_loss: 45.7742 - val_accuracy: 0.1032\n",
            "Epoch 100/100\n",
            "1/1 [==============================] - 2s 2s/step - loss: 0.0000e+00 - accuracy: 1.0000 - val_loss: 45.7747 - val_accuracy: 0.1032\n"
          ],
          "name": "stdout"
        }
      ]
    },
    {
      "cell_type": "code",
      "metadata": {
        "id": "aT63oouAGNsP",
        "colab_type": "code",
        "colab": {
          "base_uri": "https://localhost:8080/",
          "height": 241
        },
        "outputId": "6ccb001e-aa69-4a0d-a4ba-3bb821a3e44a"
      },
      "source": [
        "plot_accuracy_and_loss(cnn_history, 'CNN model using Data Augmentation')"
      ],
      "execution_count": 14,
      "outputs": [
        {
          "output_type": "display_data",
          "data": {
            "image/png": "[encoded data removed]",
            "text/plain": [
              "<Figure size 720x216 with 2 Axes>"
            ]
          },
          "metadata": {
            "tags": []
          }
        }
      ]
    },
    {
      "cell_type": "markdown",
      "metadata": {
        "id": "dURBwf1CJU-m",
        "colab_type": "text"
      },
      "source": [
        "## Synthetic Data"
      ]
    },
    {
      "cell_type": "markdown",
      "metadata": {
        "id": "UbaAWf21JV8q",
        "colab_type": "text"
      },
      "source": [
        ""
      ]
    }
  ]
}