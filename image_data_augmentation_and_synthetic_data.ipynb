{
  "nbformat": 4,
  "nbformat_minor": 0,
  "metadata": {
    "colab": {
      "name": "image-data-augmentation-and-synthetic-data.ipynb",
      "provenance": [],
      "toc_visible": true,
      "include_colab_link": true
    },
    "kernelspec": {
      "name": "python3",
      "display_name": "Python 3"
    },
    "accelerator": "GPU"
  },
  "cells": [
    {
      "cell_type": "markdown",
      "metadata": {
        "id": "view-in-github",
        "colab_type": "text"
      },
      "source": [
        "<a href=\"https://colab.research.google.com/github/rahiakela/deep-learning--from-basics-to-practice/blob/24-keras-part-2/image_data_augmentation_and_synthetic_data.ipynb\" target=\"_parent\"><img src=\"https://colab.research.google.com/assets/colab-badge.svg\" alt=\"Open In Colab\"/></a>"
      ]
    },
    {
      "cell_type": "markdown",
      "metadata": {
        "id": "JlX69owHA-U-",
        "colab_type": "text"
      },
      "source": [
        "# Image Data Augmentation and Synthetic Data"
      ]
    },
    {
      "cell_type": "markdown",
      "metadata": {
        "id": "-LND8ixTBPJE",
        "colab_type": "text"
      },
      "source": [
        "One of the best ways to improve performance of any model is to give it\n",
        "as much training data as we can, while avoiding overfitting.\n",
        "\n",
        "When we’re working with images, we can easily create lots of new data\n",
        "by simply manipulating the images we already have, creating a wide\n",
        "variety of variations on the original. We could move each image left,\n",
        "right, up, or down, make it a little smaller or larger, rotate it clockwise\n",
        "or counter-clockwise by some amount, or perhaps flip it horizontally\n",
        "or vertically.\n",
        "\n",
        "<img src='https://github.com/rahiakela/img-repo/blob/master/augmenting-image.PNG?raw=1' width='800'/>\n",
        "\n",
        "The process of enlarging a dataset by creating variations is called data\n",
        "amplification, or data augmentation.\n",
        "\n",
        "When we’re working specifically with images, Keras provides\n",
        "a built-in object to perform data augmentation. It’s called the\n",
        "ImageDataGenerator, and it performs all of the modifications we just\n",
        "mentioned, and a few others besides.\n",
        "\n",
        "A generator, in Python, can be thought of as a function that runs an internal loop, typically carrying out calculations and producing data. When that loop\n",
        "reaches a yield statement, the generator returns control to the routine\n",
        "that called it, with the argument to yield set to its value, just like a return statement. But if we call that function again, the loop picks up\n",
        "where it most recently stopped, and continues as though it had never\n",
        "been interrupted.\n",
        "\n",
        "The ImageDataGenerator is set up this way because we can configure\n",
        "it to produce large numbers of variations on each of our input\n",
        "images. This can take a lot of time and a lot of computer memory. So\n",
        "rather than compute all the variations ahead of time and hold on to\n",
        "them until they’re needed, the generator creates batches of images on\n",
        "demand. Each time we call the generator, it will produce and return\n",
        "another batch of images."
      ]
    },
    {
      "cell_type": "markdown",
      "metadata": {
        "id": "ymPB_yNhC3EQ",
        "colab_type": "text"
      },
      "source": [
        "## Setup"
      ]
    },
    {
      "cell_type": "code",
      "metadata": {
        "id": "WKz0FYe2C4jJ",
        "colab_type": "code",
        "outputId": "1bb34412-5ced-43ce-d213-32565ca1fc8f",
        "colab": {
          "base_uri": "https://localhost:8080/",
          "height": 35
        }
      },
      "source": [
        "from __future__ import absolute_import, division, print_function, unicode_literals\n",
        "\n",
        "try:\n",
        "  # %tensorflow_version only exists in Colab.\n",
        "  %tensorflow_version 2.x\n",
        "except Exception:\n",
        "  pass\n",
        "import tensorflow as tf\n",
        "from tensorflow import keras\n",
        "import numpy as np\n",
        "import pandas as pd\n",
        "\n",
        "import matplotlib.pyplot as plt\n",
        "\n",
        "from tensorflow.keras.datasets import mnist\n",
        "from tensorflow.keras import backend as keras_backend\n",
        "from tensorflow.keras.utils import to_categorical\n",
        "\n",
        "from tensorflow.keras.models import Sequential\n",
        "from tensorflow.keras.layers import Dense, Dropout, Activation, Flatten, Conv2D, MaxPooling2D, BatchNormalization\n",
        "from tensorflow.keras.constraints import max_norm\n",
        "from tensorflow.keras.optimizers import Adam, SGD, RMSprop\n",
        "from tensorflow.keras.preprocessing.image import ImageDataGenerator\n",
        "\n",
        "keras_backend.set_image_data_format('channels_last')"
      ],
      "execution_count": 1,
      "outputs": [
        {
          "output_type": "stream",
          "text": [
            "TensorFlow 2.x selected.\n"
          ],
          "name": "stdout"
        }
      ]
    },
    {
      "cell_type": "code",
      "metadata": {
        "id": "iAAn3XnVC7kA",
        "colab_type": "code",
        "colab": {}
      },
      "source": [
        "random_seed = 42\n",
        "np.random.seed(random_seed)\n",
        "\n",
        "image_size = 64\n",
        "image_width = image_height = image_size\n",
        "number_of_classes = 5"
      ],
      "execution_count": 0,
      "outputs": []
    },
    {
      "cell_type": "code",
      "metadata": {
        "id": "B9PfFZJBDAHD",
        "colab_type": "code",
        "outputId": "d24b1558-d7f2-4a48-c33e-e3dd51962e33",
        "colab": {
          "base_uri": "https://localhost:8080/",
          "height": 52
        }
      },
      "source": [
        "# load MNIST data and save sizes\n",
        "(X_train, y_train), (X_test, y_test) = mnist.load_data()\n",
        "image_height = X_train.shape[1]\n",
        "image_width = X_train.shape[2]\n",
        "number_of_pixels = image_height * image_width\n",
        "\n",
        "# convert to floating-point\n",
        "X_train = keras_backend.cast_to_floatx(X_train)\n",
        "X_test = keras_backend.cast_to_floatx(X_test)\n",
        "\n",
        "# scale data to range [-1, 1]\n",
        "X_train = np.interp(X_train, [0, 255], [-1,1])\n",
        "X_test = np.interp(X_test, [0, 255], [-1,1])\n",
        "\n",
        "# save original y_train and y_test\n",
        "original_y_train = y_train\n",
        "original_y_test = y_test\n",
        "\n",
        "# replace label data with one-hot encoded versions\n",
        "number_of_classes = 1 + max(np.append(y_train, y_test))\n",
        "y_train = to_categorical(y_train, num_classes=number_of_classes)\n",
        "y_test = to_categorical(y_test, num_classes=number_of_classes)\n",
        "\n",
        "# reshape sample data to 4D tensor using channels_last convention \n",
        "X_train = X_train.reshape(X_train.shape[0], image_height, image_width, 1)\n",
        "X_test = X_test.reshape(X_test.shape[0], image_height, image_width, 1)"
      ],
      "execution_count": 3,
      "outputs": [
        {
          "output_type": "stream",
          "text": [
            "Downloading data from https://storage.googleapis.com/tensorflow/tf-keras-datasets/mnist.npz\n",
            "11493376/11490434 [==============================] - 0s 0us/step\n"
          ],
          "name": "stdout"
        }
      ]
    },
    {
      "cell_type": "code",
      "metadata": {
        "id": "20ZAl7wODCa4",
        "colab_type": "code",
        "colab": {}
      },
      "source": [
        "def plot_accuracy_and_loss(history, plot_title):\n",
        "    xs = range(len(history.history['accuracy']))\n",
        "\n",
        "    plt.figure(figsize=(10,3))\n",
        "    plt.subplot(1, 2, 1)\n",
        "    plt.plot(xs, history.history['accuracy'], label='train')\n",
        "    plt.plot(xs, history.history['val_accuracy'], label='test')\n",
        "    plt.legend(loc='lower left')\n",
        "    plt.xlabel('epochs')\n",
        "    plt.ylabel('accuracy')\n",
        "    plt.title(plot_title+', Accuracy')\n",
        "\n",
        "    plt.subplot(1, 2, 2)\n",
        "    plt.plot(xs, history.history['loss'], label='train')\n",
        "    plt.plot(xs, history.history['val_loss'], label='test')\n",
        "    plt.legend(loc='upper left')\n",
        "    plt.xlabel('epochs')\n",
        "    plt.ylabel('loss')\n",
        "    plt.title(plot_title+', Loss')\n",
        "\n",
        "    #plt.tight_layout()\n",
        "    plt.show()"
      ],
      "execution_count": 0,
      "outputs": []
    },
    {
      "cell_type": "markdown",
      "metadata": {
        "id": "WcaXVFWUDPke",
        "colab_type": "text"
      },
      "source": [
        "## Data generation from MNIST"
      ]
    },
    {
      "cell_type": "markdown",
      "metadata": {
        "id": "f4A2Tbu7Dxwp",
        "colab_type": "text"
      },
      "source": [
        "The overall process of setting up and using the generator takes\n",
        "only two steps. \n",
        "\n",
        "* First, we create our ImageDataGenerator with\n",
        "the options we want. \n",
        "* Second, we train our model. But instead of\n",
        "using fit() to start training, we use fit_generator(). \n",
        "\n",
        "These both take the same arguments with one exception: The first argument to\n",
        "fit_generator() is a function that returns batches of samples.\n",
        "\n",
        "The usual function that we provide to fit_generator() is a function\n",
        "called flow(), which is automatically created for us as part of our\n",
        "ImageDataGenerator object."
      ]
    },
    {
      "cell_type": "code",
      "metadata": {
        "id": "B9GiZ3ktDOQs",
        "colab_type": "code",
        "outputId": "1bf7edc3-25d4-40bb-e5c1-7421723e6b0f",
        "colab": {
          "base_uri": "https://localhost:8080/",
          "height": 253
        }
      },
      "source": [
        "# Use just one image\n",
        "X_train = np.reshape(8 * [X_train[5]], (8, 28, 28, 1))\n",
        "y_train = 8 * [y_train[5]]\n",
        "\n",
        "image_generator = ImageDataGenerator(rotation_range=100, horizontal_flip=True)\n",
        "image_generator.fit(X_train)\n",
        "\n",
        "for X_batch, y_batch in image_generator.flow(X_train, y_train, batch_size=8, seed=42):\n",
        "  for i in range(0, 8):\n",
        "    plt.subplot(2, 4, i + 1)\n",
        "    plt.imshow(X_batch[i].reshape(28, 28), cmap='gray')\n",
        "    plt.xticks([], [])\n",
        "    plt.yticks([], [])\n",
        "  break\n",
        "\n",
        "plt.tight_layout()\n",
        "plt.show()"
      ],
      "execution_count": 5,
      "outputs": [
        {
          "output_type": "display_data",
          "data": {
            "image/png": "[encoded data removed]",
            "text/plain": [
              "<Figure size 432x288 with 8 Axes>"
            ]
          },
          "metadata": {
            "tags": []
          }
        }
      ]
    },
    {
      "cell_type": "markdown",
      "metadata": {
        "id": "qlm861yOGAX6",
        "colab_type": "text"
      },
      "source": [
        "Together, fit_generator() and flow() manage the production of\n",
        "batches of images, and presenting them to our model for training."
      ]
    },
    {
      "cell_type": "code",
      "metadata": {
        "id": "GZFQoMnnFsgZ",
        "colab_type": "code",
        "colab": {}
      },
      "source": [
        "def make_cnn_model():\n",
        "  model = Sequential()\n",
        "  model.add(Conv2D(16, (5, 5), activation='relu', padding='same', kernel_constraint=max_norm(3), input_shape=(image_height, image_width, 1)))\n",
        "  model.add(Dropout(0.2))\n",
        "  model.add(Conv2D(8, (3, 3), activation='relu', padding='same', kernel_constraint=max_norm(3)))\n",
        "  model.add(Dropout(0.2))\n",
        "  model.add(Conv2D(8, (3, 3), activation='relu', padding='same', kernel_constraint=max_norm(3)))\n",
        "  model.add(Dropout(0.2))\n",
        "  model.add(Flatten())\n",
        "  model.add(Dense(number_of_classes, activation='softmax'))\n",
        "\n",
        "  model.compile(loss='categorical_crossentropy', optimizer='adam', metrics=['accuracy'])\n",
        "\n",
        "  return model"
      ],
      "execution_count": 0,
      "outputs": []
    },
    {
      "cell_type": "code",
      "metadata": {
        "id": "ThbtIje1GKbD",
        "colab_type": "code",
        "outputId": "146c237c-dd00-4494-af61-55c48b187fa7",
        "colab": {
          "base_uri": "https://localhost:8080/",
          "height": 1000
        }
      },
      "source": [
        "# fit our model using images produced by the image generator\n",
        "# ref: https://www.geeksforgeeks.org/keras-fit-and-keras-fit_generator/\n",
        "cnn_model = make_cnn_model()\n",
        "cnn_history = cnn_model.fit_generator(\n",
        "    image_generator.flow(X_train, y_train, batch_size=256), \n",
        "    validation_data=(X_test, y_test), epochs=100, steps_per_epoch=len(X_train) // 256)"
      ],
      "execution_count": 0,
      "outputs": [
        {
          "output_type": "stream",
          "text": [
            "WARNING:tensorflow:sample_weight modes were coerced from\n",
            "  ...\n",
            "    to  \n",
            "  ['...']\n",
            "Train for 1 steps, validate on 10000 samples\n",
            "Epoch 1/100\n",
            "1/1 [==============================] - 3s 3s/step - loss: 2.7102 - accuracy: 0.0000e+00 - val_loss: 2.3616 - val_accuracy: 0.1032\n",
            "Epoch 2/100\n",
            "1/1 [==============================] - 3s 3s/step - loss: 1.5499 - accuracy: 1.0000 - val_loss: 2.6908 - val_accuracy: 0.1032\n",
            "Epoch 3/100\n",
            "1/1 [==============================] - 2s 2s/step - loss: 0.6567 - accuracy: 1.0000 - val_loss: 3.8122 - val_accuracy: 0.1032\n",
            "Epoch 4/100\n",
            "1/1 [==============================] - 2s 2s/step - loss: 0.1339 - accuracy: 1.0000 - val_loss: 5.7150 - val_accuracy: 0.1032\n",
            "Epoch 5/100\n",
            "1/1 [==============================] - 2s 2s/step - loss: 0.0164 - accuracy: 1.0000 - val_loss: 7.8873 - val_accuracy: 0.1032\n",
            "Epoch 6/100\n",
            "1/1 [==============================] - 2s 2s/step - loss: 0.0013 - accuracy: 1.0000 - val_loss: 10.0885 - val_accuracy: 0.1032\n",
            "Epoch 7/100\n",
            "1/1 [==============================] - 2s 2s/step - loss: 1.1183e-04 - accuracy: 1.0000 - val_loss: 12.2734 - val_accuracy: 0.1032\n",
            "Epoch 8/100\n",
            "1/1 [==============================] - 2s 2s/step - loss: 1.2442e-05 - accuracy: 1.0000 - val_loss: 14.4323 - val_accuracy: 0.1032\n",
            "Epoch 9/100\n",
            "1/1 [==============================] - 2s 2s/step - loss: 1.0580e-06 - accuracy: 1.0000 - val_loss: 16.5266 - val_accuracy: 0.1032\n",
            "Epoch 10/100\n",
            "1/1 [==============================] - 2s 2s/step - loss: 1.6391e-07 - accuracy: 1.0000 - val_loss: 18.5405 - val_accuracy: 0.1032\n",
            "Epoch 11/100\n",
            "1/1 [==============================] - 2s 2s/step - loss: 0.0000e+00 - accuracy: 1.0000 - val_loss: 20.4552 - val_accuracy: 0.1032\n",
            "Epoch 12/100\n",
            "1/1 [==============================] - 2s 2s/step - loss: 0.0000e+00 - accuracy: 1.0000 - val_loss: 22.2764 - val_accuracy: 0.1032\n",
            "Epoch 13/100\n",
            "1/1 [==============================] - 2s 2s/step - loss: 0.0000e+00 - accuracy: 1.0000 - val_loss: 24.0010 - val_accuracy: 0.1032\n",
            "Epoch 14/100\n",
            "1/1 [==============================] - 3s 3s/step - loss: 0.0000e+00 - accuracy: 1.0000 - val_loss: 25.6284 - val_accuracy: 0.1032\n",
            "Epoch 15/100\n",
            "1/1 [==============================] - 2s 2s/step - loss: 0.0000e+00 - accuracy: 1.0000 - val_loss: 27.1586 - val_accuracy: 0.1032\n",
            "Epoch 16/100\n",
            "1/1 [==============================] - 2s 2s/step - loss: 0.0000e+00 - accuracy: 1.0000 - val_loss: 28.5935 - val_accuracy: 0.1032\n",
            "Epoch 17/100\n",
            "1/1 [==============================] - 2s 2s/step - loss: 0.0000e+00 - accuracy: 1.0000 - val_loss: 29.9367 - val_accuracy: 0.1032\n",
            "Epoch 18/100\n",
            "1/1 [==============================] - 2s 2s/step - loss: 0.0000e+00 - accuracy: 1.0000 - val_loss: 31.1903 - val_accuracy: 0.1032\n",
            "Epoch 19/100\n",
            "1/1 [==============================] - 2s 2s/step - loss: 0.0000e+00 - accuracy: 1.0000 - val_loss: 32.3577 - val_accuracy: 0.1032\n",
            "Epoch 20/100\n",
            "1/1 [==============================] - 2s 2s/step - loss: 0.0000e+00 - accuracy: 1.0000 - val_loss: 33.4413 - val_accuracy: 0.1032\n",
            "Epoch 21/100\n",
            "1/1 [==============================] - 2s 2s/step - loss: 0.0000e+00 - accuracy: 1.0000 - val_loss: 34.4467 - val_accuracy: 0.1032\n",
            "Epoch 22/100\n",
            "1/1 [==============================] - 2s 2s/step - loss: 0.0000e+00 - accuracy: 1.0000 - val_loss: 35.3783 - val_accuracy: 0.1032\n",
            "Epoch 23/100\n",
            "1/1 [==============================] - 2s 2s/step - loss: 0.0000e+00 - accuracy: 1.0000 - val_loss: 36.2403 - val_accuracy: 0.1032\n",
            "Epoch 24/100\n",
            "1/1 [==============================] - 2s 2s/step - loss: 0.0000e+00 - accuracy: 1.0000 - val_loss: 37.0376 - val_accuracy: 0.1032\n",
            "Epoch 25/100\n",
            "1/1 [==============================] - 3s 3s/step - loss: 0.0000e+00 - accuracy: 1.0000 - val_loss: 37.7734 - val_accuracy: 0.1032\n",
            "Epoch 26/100\n",
            "1/1 [==============================] - 2s 2s/step - loss: 0.0000e+00 - accuracy: 1.0000 - val_loss: 38.4517 - val_accuracy: 0.1032\n",
            "Epoch 27/100\n",
            "1/1 [==============================] - 2s 2s/step - loss: 0.0000e+00 - accuracy: 1.0000 - val_loss: 39.0763 - val_accuracy: 0.1032\n",
            "Epoch 28/100\n",
            "1/1 [==============================] - 2s 2s/step - loss: 0.0000e+00 - accuracy: 1.0000 - val_loss: 39.6510 - val_accuracy: 0.1032\n",
            "Epoch 29/100\n",
            "1/1 [==============================] - 2s 2s/step - loss: 0.0000e+00 - accuracy: 1.0000 - val_loss: 40.1793 - val_accuracy: 0.1032\n",
            "Epoch 30/100\n",
            "1/1 [==============================] - 2s 2s/step - loss: 0.0000e+00 - accuracy: 1.0000 - val_loss: 40.6646 - val_accuracy: 0.1032\n",
            "Epoch 31/100\n",
            "1/1 [==============================] - 2s 2s/step - loss: 0.0000e+00 - accuracy: 1.0000 - val_loss: 41.1099 - val_accuracy: 0.1032\n",
            "Epoch 32/100\n",
            "1/1 [==============================] - 2s 2s/step - loss: 0.0000e+00 - accuracy: 1.0000 - val_loss: 41.5184 - val_accuracy: 0.1032\n",
            "Epoch 33/100\n",
            "1/1 [==============================] - 2s 2s/step - loss: 0.0000e+00 - accuracy: 1.0000 - val_loss: 41.8927 - val_accuracy: 0.1032\n",
            "Epoch 34/100\n",
            "1/1 [==============================] - 2s 2s/step - loss: 0.0000e+00 - accuracy: 1.0000 - val_loss: 42.2355 - val_accuracy: 0.1032\n",
            "Epoch 35/100\n",
            "1/1 [==============================] - 2s 2s/step - loss: 0.0000e+00 - accuracy: 1.0000 - val_loss: 42.5493 - val_accuracy: 0.1032\n",
            "Epoch 36/100\n",
            "1/1 [==============================] - 2s 2s/step - loss: 0.0000e+00 - accuracy: 1.0000 - val_loss: 42.8364 - val_accuracy: 0.1032\n",
            "Epoch 37/100\n",
            "1/1 [==============================] - 2s 2s/step - loss: 0.0000e+00 - accuracy: 1.0000 - val_loss: 43.0988 - val_accuracy: 0.1032\n",
            "Epoch 38/100\n",
            "1/1 [==============================] - 2s 2s/step - loss: 0.0000e+00 - accuracy: 1.0000 - val_loss: 43.3386 - val_accuracy: 0.1032\n",
            "Epoch 39/100\n",
            "1/1 [==============================] - 2s 2s/step - loss: 0.0000e+00 - accuracy: 1.0000 - val_loss: 43.5577 - val_accuracy: 0.1032\n",
            "Epoch 40/100\n",
            "1/1 [==============================] - 2s 2s/step - loss: 0.0000e+00 - accuracy: 1.0000 - val_loss: 43.7577 - val_accuracy: 0.1032\n",
            "Epoch 41/100\n",
            "1/1 [==============================] - 2s 2s/step - loss: 0.0000e+00 - accuracy: 1.0000 - val_loss: 43.9402 - val_accuracy: 0.1032\n",
            "Epoch 42/100\n",
            "1/1 [==============================] - 2s 2s/step - loss: 0.0000e+00 - accuracy: 1.0000 - val_loss: 44.1067 - val_accuracy: 0.1032\n",
            "Epoch 43/100\n",
            "1/1 [==============================] - 2s 2s/step - loss: 0.0000e+00 - accuracy: 1.0000 - val_loss: 44.2585 - val_accuracy: 0.1032\n",
            "Epoch 44/100\n",
            "1/1 [==============================] - 2s 2s/step - loss: 0.0000e+00 - accuracy: 1.0000 - val_loss: 44.3969 - val_accuracy: 0.1032\n",
            "Epoch 45/100\n",
            "1/1 [==============================] - 2s 2s/step - loss: 0.0000e+00 - accuracy: 1.0000 - val_loss: 44.5230 - val_accuracy: 0.1032\n",
            "Epoch 46/100\n",
            "1/1 [==============================] - 3s 3s/step - loss: 0.0000e+00 - accuracy: 1.0000 - val_loss: 44.6378 - val_accuracy: 0.1032\n",
            "Epoch 47/100\n",
            "1/1 [==============================] - 2s 2s/step - loss: 0.0000e+00 - accuracy: 1.0000 - val_loss: 44.7424 - val_accuracy: 0.1032\n",
            "Epoch 48/100\n",
            "1/1 [==============================] - 2s 2s/step - loss: 0.0000e+00 - accuracy: 1.0000 - val_loss: 44.8376 - val_accuracy: 0.1032\n",
            "Epoch 49/100\n",
            "1/1 [==============================] - 2s 2s/step - loss: 0.0000e+00 - accuracy: 1.0000 - val_loss: 44.9243 - val_accuracy: 0.1032\n",
            "Epoch 50/100\n",
            "1/1 [==============================] - 2s 2s/step - loss: 0.0000e+00 - accuracy: 1.0000 - val_loss: 45.0032 - val_accuracy: 0.1032\n",
            "Epoch 51/100\n",
            "1/1 [==============================] - 2s 2s/step - loss: 0.0000e+00 - accuracy: 1.0000 - val_loss: 45.0749 - val_accuracy: 0.1032\n",
            "Epoch 52/100\n",
            "1/1 [==============================] - 3s 3s/step - loss: 0.0000e+00 - accuracy: 1.0000 - val_loss: 45.1401 - val_accuracy: 0.1032\n",
            "Epoch 53/100\n",
            "1/1 [==============================] - 3s 3s/step - loss: 0.0000e+00 - accuracy: 1.0000 - val_loss: 45.1994 - val_accuracy: 0.1032\n",
            "Epoch 54/100\n",
            "1/1 [==============================] - 2s 2s/step - loss: 0.0000e+00 - accuracy: 1.0000 - val_loss: 45.2533 - val_accuracy: 0.1032\n",
            "Epoch 55/100\n",
            "1/1 [==============================] - 2s 2s/step - loss: 0.0000e+00 - accuracy: 1.0000 - val_loss: 45.3023 - val_accuracy: 0.1032\n",
            "Epoch 56/100\n",
            "1/1 [==============================] - 2s 2s/step - loss: 0.0000e+00 - accuracy: 1.0000 - val_loss: 45.3468 - val_accuracy: 0.1032\n",
            "Epoch 57/100\n",
            "1/1 [==============================] - 2s 2s/step - loss: 0.0000e+00 - accuracy: 1.0000 - val_loss: 45.3872 - val_accuracy: 0.1032\n",
            "Epoch 58/100\n",
            "1/1 [==============================] - 2s 2s/step - loss: 0.0000e+00 - accuracy: 1.0000 - val_loss: 45.4239 - val_accuracy: 0.1032\n",
            "Epoch 59/100\n",
            "1/1 [==============================] - 3s 3s/step - loss: 0.0000e+00 - accuracy: 1.0000 - val_loss: 45.4573 - val_accuracy: 0.1032\n",
            "Epoch 60/100\n",
            "1/1 [==============================] - 2s 2s/step - loss: 0.0000e+00 - accuracy: 1.0000 - val_loss: 45.4875 - val_accuracy: 0.1032\n",
            "Epoch 61/100\n",
            "1/1 [==============================] - 2s 2s/step - loss: 0.0000e+00 - accuracy: 1.0000 - val_loss: 45.5150 - val_accuracy: 0.1032\n",
            "Epoch 62/100\n",
            "1/1 [==============================] - 2s 2s/step - loss: 0.0000e+00 - accuracy: 1.0000 - val_loss: 45.5399 - val_accuracy: 0.1032\n",
            "Epoch 63/100\n",
            "1/1 [==============================] - 2s 2s/step - loss: 0.0000e+00 - accuracy: 1.0000 - val_loss: 45.5626 - val_accuracy: 0.1032\n",
            "Epoch 64/100\n",
            "1/1 [==============================] - 2s 2s/step - loss: 0.0000e+00 - accuracy: 1.0000 - val_loss: 45.5831 - val_accuracy: 0.1032\n",
            "Epoch 65/100\n",
            "1/1 [==============================] - 2s 2s/step - loss: 0.0000e+00 - accuracy: 1.0000 - val_loss: 45.6017 - val_accuracy: 0.1032\n",
            "Epoch 66/100\n",
            "1/1 [==============================] - 2s 2s/step - loss: 0.0000e+00 - accuracy: 1.0000 - val_loss: 45.6186 - val_accuracy: 0.1032\n",
            "Epoch 67/100\n",
            "1/1 [==============================] - 2s 2s/step - loss: 0.0000e+00 - accuracy: 1.0000 - val_loss: 45.6339 - val_accuracy: 0.1032\n",
            "Epoch 68/100\n",
            "1/1 [==============================] - 2s 2s/step - loss: 0.0000e+00 - accuracy: 1.0000 - val_loss: 45.6478 - val_accuracy: 0.1032\n",
            "Epoch 69/100\n",
            "1/1 [==============================] - 2s 2s/step - loss: 0.0000e+00 - accuracy: 1.0000 - val_loss: 45.6603 - val_accuracy: 0.1032\n",
            "Epoch 70/100\n",
            "1/1 [==============================] - 2s 2s/step - loss: 0.0000e+00 - accuracy: 1.0000 - val_loss: 45.6718 - val_accuracy: 0.1032\n",
            "Epoch 71/100\n",
            "1/1 [==============================] - 2s 2s/step - loss: 0.0000e+00 - accuracy: 1.0000 - val_loss: 45.6821 - val_accuracy: 0.1032\n",
            "Epoch 72/100\n",
            "1/1 [==============================] - 2s 2s/step - loss: 0.0000e+00 - accuracy: 1.0000 - val_loss: 45.6915 - val_accuracy: 0.1032\n",
            "Epoch 73/100\n",
            "1/1 [==============================] - 2s 2s/step - loss: 0.0000e+00 - accuracy: 1.0000 - val_loss: 45.6999 - val_accuracy: 0.1032\n",
            "Epoch 74/100\n",
            "1/1 [==============================] - 2s 2s/step - loss: 0.0000e+00 - accuracy: 1.0000 - val_loss: 45.7076 - val_accuracy: 0.1032\n",
            "Epoch 75/100\n",
            "1/1 [==============================] - 2s 2s/step - loss: 0.0000e+00 - accuracy: 1.0000 - val_loss: 45.7146 - val_accuracy: 0.1032\n",
            "Epoch 76/100\n",
            "1/1 [==============================] - 2s 2s/step - loss: 0.0000e+00 - accuracy: 1.0000 - val_loss: 45.7209 - val_accuracy: 0.1032\n",
            "Epoch 77/100\n",
            "1/1 [==============================] - 3s 3s/step - loss: 0.0000e+00 - accuracy: 1.0000 - val_loss: 45.7266 - val_accuracy: 0.1032\n",
            "Epoch 78/100\n",
            "1/1 [==============================] - 2s 2s/step - loss: 0.0000e+00 - accuracy: 1.0000 - val_loss: 45.7317 - val_accuracy: 0.1032\n",
            "Epoch 79/100\n",
            "1/1 [==============================] - 2s 2s/step - loss: 0.0000e+00 - accuracy: 1.0000 - val_loss: 45.7364 - val_accuracy: 0.1032\n",
            "Epoch 80/100\n",
            "1/1 [==============================] - 2s 2s/step - loss: 0.0000e+00 - accuracy: 1.0000 - val_loss: 45.7406 - val_accuracy: 0.1032\n",
            "Epoch 81/100\n",
            "1/1 [==============================] - 2s 2s/step - loss: 0.0000e+00 - accuracy: 1.0000 - val_loss: 45.7444 - val_accuracy: 0.1032\n",
            "Epoch 82/100\n",
            "1/1 [==============================] - 2s 2s/step - loss: 0.0000e+00 - accuracy: 1.0000 - val_loss: 45.7479 - val_accuracy: 0.1032\n",
            "Epoch 83/100\n",
            "1/1 [==============================] - 2s 2s/step - loss: 0.0000e+00 - accuracy: 1.0000 - val_loss: 45.7510 - val_accuracy: 0.1032\n",
            "Epoch 84/100\n",
            "1/1 [==============================] - 3s 3s/step - loss: 0.0000e+00 - accuracy: 1.0000 - val_loss: 45.7538 - val_accuracy: 0.1032\n",
            "Epoch 85/100\n",
            "1/1 [==============================] - 2s 2s/step - loss: 0.0000e+00 - accuracy: 1.0000 - val_loss: 45.7564 - val_accuracy: 0.1032\n",
            "Epoch 86/100\n",
            "1/1 [==============================] - 2s 2s/step - loss: 0.0000e+00 - accuracy: 1.0000 - val_loss: 45.7587 - val_accuracy: 0.1032\n",
            "Epoch 87/100\n",
            "1/1 [==============================] - 2s 2s/step - loss: 0.0000e+00 - accuracy: 1.0000 - val_loss: 45.7607 - val_accuracy: 0.1032\n",
            "Epoch 88/100\n",
            "1/1 [==============================] - 2s 2s/step - loss: 0.0000e+00 - accuracy: 1.0000 - val_loss: 45.7626 - val_accuracy: 0.1032\n",
            "Epoch 89/100\n",
            "1/1 [==============================] - 2s 2s/step - loss: 0.0000e+00 - accuracy: 1.0000 - val_loss: 45.7643 - val_accuracy: 0.1032\n",
            "Epoch 90/100\n",
            "1/1 [==============================] - 2s 2s/step - loss: 0.0000e+00 - accuracy: 1.0000 - val_loss: 45.7658 - val_accuracy: 0.1032\n",
            "Epoch 91/100\n",
            "1/1 [==============================] - 3s 3s/step - loss: 0.0000e+00 - accuracy: 1.0000 - val_loss: 45.7672 - val_accuracy: 0.1032\n",
            "Epoch 92/100\n",
            "1/1 [==============================] - 3s 3s/step - loss: 0.0000e+00 - accuracy: 1.0000 - val_loss: 45.7684 - val_accuracy: 0.1032\n",
            "Epoch 93/100\n",
            "1/1 [==============================] - 2s 2s/step - loss: 0.0000e+00 - accuracy: 1.0000 - val_loss: 45.7695 - val_accuracy: 0.1032\n",
            "Epoch 94/100\n",
            "1/1 [==============================] - 2s 2s/step - loss: 0.0000e+00 - accuracy: 1.0000 - val_loss: 45.7705 - val_accuracy: 0.1032\n",
            "Epoch 95/100\n",
            "1/1 [==============================] - 2s 2s/step - loss: 0.0000e+00 - accuracy: 1.0000 - val_loss: 45.7714 - val_accuracy: 0.1032\n",
            "Epoch 96/100\n",
            "1/1 [==============================] - 3s 3s/step - loss: 0.0000e+00 - accuracy: 1.0000 - val_loss: 45.7722 - val_accuracy: 0.1032\n",
            "Epoch 97/100\n",
            "1/1 [==============================] - 3s 3s/step - loss: 0.0000e+00 - accuracy: 1.0000 - val_loss: 45.7730 - val_accuracy: 0.1032\n",
            "Epoch 98/100\n",
            "1/1 [==============================] - 2s 2s/step - loss: 0.0000e+00 - accuracy: 1.0000 - val_loss: 45.7736 - val_accuracy: 0.1032\n",
            "Epoch 99/100\n",
            "1/1 [==============================] - 3s 3s/step - loss: 0.0000e+00 - accuracy: 1.0000 - val_loss: 45.7742 - val_accuracy: 0.1032\n",
            "Epoch 100/100\n",
            "1/1 [==============================] - 2s 2s/step - loss: 0.0000e+00 - accuracy: 1.0000 - val_loss: 45.7747 - val_accuracy: 0.1032\n"
          ],
          "name": "stdout"
        }
      ]
    },
    {
      "cell_type": "code",
      "metadata": {
        "id": "aT63oouAGNsP",
        "colab_type": "code",
        "outputId": "6ccb001e-aa69-4a0d-a4ba-3bb821a3e44a",
        "colab": {
          "base_uri": "https://localhost:8080/",
          "height": 241
        }
      },
      "source": [
        "plot_accuracy_and_loss(cnn_history, 'CNN model using Data Augmentation')"
      ],
      "execution_count": 0,
      "outputs": [
        {
          "output_type": "display_data",
          "data": {
            "image/png": "[encoded data removed]",
            "text/plain": [
              "<Figure size 720x216 with 2 Axes>"
            ]
          },
          "metadata": {
            "tags": []
          }
        }
      ]
    },
    {
      "cell_type": "markdown",
      "metadata": {
        "id": "dURBwf1CJU-m",
        "colab_type": "text"
      },
      "source": [
        "## Synthetic Data"
      ]
    },
    {
      "cell_type": "markdown",
      "metadata": {
        "id": "UbaAWf21JV8q",
        "colab_type": "text"
      },
      "source": [
        "A great way to create an environment where we control everything is\n",
        "to train on our own data, which we generate on demand. Then we can\n",
        "make the data we want, rather than search for something out there\n",
        "that comes close.\n",
        "\n",
        "We use the phrase synthetic data to describe data that we create ourselves,\n",
        "usually on the fly with an algorithm.\n",
        "\n",
        "The great thing about generating synthetic data is that we can make as\n",
        "much of it as we want or need, and then train with it as usual.\n",
        "\n",
        "It’s conceptually easy to do this. We just hook our data-generating program\n",
        "into a variation of the ImageDataGenerator object.\n",
        "\n",
        "The trick here is to modify the flow() routine inside our\n",
        "ImageDataGenerator object. Normally, flow() pulls the next sample\n",
        "out of the training set, and then applies our requested transformations\n",
        "to it. We can modify that step so that instead of pulling a sample from\n",
        "the training set, it calls a routine to create a brand-new new sample\n",
        "and its label. Then that new sample gets transformed and returned, as\n",
        "usual.\n",
        "\n",
        "To demonstrate the idea, we’ve written a little routine that draws an\n",
        "image in a 64 by 64 square. There are five types of images: a Z shape, a\n",
        "plus sign, three vertical lines, a squared U, and a circle. Each time we\n",
        "draw one of these shapes we wiggle the points around a little, so that\n",
        "no two shapes are the same. The function returns the image it drew\n",
        "and the label. The label is a number from 0 to 4 that identifies which\n",
        "type of shape is in the image."
      ]
    },
    {
      "cell_type": "code",
      "metadata": {
        "id": "L-szxRZTb5v5",
        "colab_type": "code",
        "colab": {}
      },
      "source": [
        "from numpy.random import randint, uniform\n",
        "from keras.preprocessing.image import img_to_array\n",
        "import cv2\n",
        "import math\n",
        "\n",
        "def makeSyntheticImage():\n",
        "  # Create a black image\n",
        "  half_size = int(image_size/2.0)\n",
        "  img = np.zeros((image_size, image_size, 3), np.uint8)\n",
        "  img_type = randint(0, number_of_classes)\n",
        "  if img_type == 0: # circle\n",
        "      cx = 32\n",
        "      cy = 32\n",
        "      r = half_size * uniform(.6, .9)\n",
        "      cv2.circle(img, (wub(cx), wub(cy)), int(wub(r)), (255,255,255), 2)\n",
        "  elif img_type == 1: # plus sign\n",
        "      cv2.line(img, (wub(32), wub(10)),(wub(32), wub(54)), (255,255,255), 2)\n",
        "      cv2.line(img, (wub(10), wub(32)),(wub(60), wub(32)), (255,255,255), 2)\n",
        "  elif img_type == 2: # three  lines\n",
        "      cv2.line(img,(wub(15), wub(10)), (wub(15), wub(54)), (255,255,255), 2)\n",
        "      cv2.line(img,(wub(33), wub(10)), (wub(33), wub(54)), (255,255,255), 2)\n",
        "      cv2.line(img,(wub(51), wub(10)), (wub(51), wub(54)), (255,255,255), 2)\n",
        "  elif img_type == 3: # Z\n",
        "      x1 = wub(54)\n",
        "      y1 = wub(10)\n",
        "      x2 = wub(10)\n",
        "      y2 = wub(54)\n",
        "      cv2.line(img, (wub(10), wub(10)), (x1,y1), (255,255,255), 2)\n",
        "      cv2.line(img, (x1, y1), (x2, y2), (255, 255, 255), 2)\n",
        "      cv2.line(img, (x2, y2), (wub(54), wub(54)), (255, 255, 255), 2)\n",
        "  else: # U\n",
        "      x1 = wub(10)\n",
        "      y1 = wub(54)\n",
        "      x2 = wub(54)\n",
        "      y2 = wub(54)\n",
        "      cv2.line(img, (wub(10), wub(10)), (x1,y1), (255,255,255), 2)\n",
        "      cv2.line(img, (x1, y1), (x2, y2), (255, 255, 255), 2)\n",
        "      cv2.line(img, (x2, y2), (wub(54), wub(10)), (255, 255, 255), 2)\n",
        "  sample = img_to_array(img)\n",
        "  sample = sample[:,:,0]/255.0\n",
        "  sample = sample.reshape((sample.shape[0], sample.shape[1], 1))\n",
        "\n",
        "  return (sample, img_type)\n",
        "\n",
        "# create a little wubble (a uniform, or symmetrical, wobble)\n",
        "def wub(p):\n",
        "  range = 5\n",
        "  return randint(p - range, p + range + 1)"
      ],
      "execution_count": 0,
      "outputs": []
    },
    {
      "cell_type": "code",
      "metadata": {
        "id": "BSVffQGpciY_",
        "colab_type": "code",
        "colab": {
          "base_uri": "https://localhost:8080/",
          "height": 424
        },
        "outputId": "8297628f-09d9-4473-b951-92511e19041a"
      },
      "source": [
        "# Show a grid of random synthetic images\n",
        "np.random.seed(5)\n",
        "num_rows = 5\n",
        "num_columns = 10\n",
        "plt.figure(figsize=(10,6))\n",
        "for y in range(num_rows):\n",
        "    for x in range(num_columns):\n",
        "        index = (y*num_columns)+x\n",
        "        plt.subplot(num_rows, num_columns, 1 + index)\n",
        "        (img, label) = makeSyntheticImage()\n",
        "        img = img.reshape(64, 64)\n",
        "        plt.imshow(img, cmap=plt.get_cmap('gray'))\n",
        "        plt.xticks([],[])\n",
        "        plt.yticks([],[])\n",
        "plt.tight_layout()\n",
        "plt.show()"
      ],
      "execution_count": 25,
      "outputs": [
        {
          "output_type": "display_data",
          "data": {
            "image/png": "[encoded data removed]",
            "text/plain": [
              "<Figure size 720x432 with 50 Axes>"
            ]
          },
          "metadata": {
            "tags": []
          }
        }
      ]
    },
    {
      "cell_type": "markdown",
      "metadata": {
        "id": "tqJTN4G3eVhk",
        "colab_type": "text"
      },
      "source": [
        "## Build the ImageDataGenerator"
      ]
    },
    {
      "cell_type": "markdown",
      "metadata": {
        "id": "_ajHJ5Feeiim",
        "colab_type": "text"
      },
      "source": [
        "Reference: https://www.kaggle.com/hexietufts/easy-to-use-keras-imagedatagenerator"
      ]
    },
    {
      "cell_type": "code",
      "metadata": {
        "id": "cimbWgnddSRE",
        "colab_type": "code",
        "colab": {}
      },
      "source": [
        "import os\n",
        "from keras.preprocessing.image import ImageDataGenerator, array_to_img, img_to_array, load_img, Iterator, NumpyArrayIterator\n",
        "\n",
        "class SyntheticImageGenerator(ImageDataGenerator):\n",
        "\n",
        "  def __init__(self, batch_size=1, shuffle=True, seed=None):\n",
        "    X = np.zeros(shape=(1, 64, 64, 1))   # 1 instance, of shape (64,64) with 1 channel\n",
        "    self.batch_size = batch_size \n",
        "    super(SyntheticImageGenerator, self).__init__(X.shape[0], batch_size, shuffle, seed)\n",
        "\n",
        "  # this is why we're here - override the old flow()\n",
        "  def flow(self, X, y=None, batch_size=32, shuffle=True, seed=None, save_to_dir=None, save_prefix='', save_format='jpeg'):\n",
        "    return SyntheticIterator(X, y, self, batch_size=batch_size, shuffle=shuffle, seed=seed,\n",
        "                             save_to_dir=save_to_dir, save_prefix=save_prefix, save_format=save_format)\n",
        "    \n",
        "class SyntheticIterator(NumpyArrayIterator):\n",
        "\n",
        "  def __init__(self, X, y, image_data_generator, batch_size=32, shuffle=False, seed=None, save_to_dir=None, save_prefix='', save_format='jpeg'):\n",
        "    if len(X) != len(y):\n",
        "        raise Exception('X (images tensor) and y (labels) '\n",
        "                        'should have the same length. '\n",
        "                        'Found: X.shape = %s, y.shape = %s' % (np.asarray(X).shape, np.asarray(y).shape))\n",
        "    self.X = X\n",
        "    self.y = y\n",
        "    self.image_data_generator = image_data_generator\n",
        "    self.save_to_dir = save_to_dir\n",
        "    self.save_prefix = save_prefix\n",
        "    self.save_format = save_format\n",
        "    super(NumpyArrayIterator, self).__init__(X.shape[0], batch_size, shuffle, seed)\n",
        "\n",
        "  def next(self):\n",
        "    # for python 2.x.\n",
        "    # Keeps under lock only the mechanism which advances\n",
        "    # the indexing of each batch\n",
        "    # see http://anandology.com/blog/using-iterators-and-generators/\n",
        "    with self.lock:\n",
        "        index_array, current_index, current_batch_size = next(self.index_generator)\n",
        "    # The transformation of images is not under thread lock so it can be done in parallel\n",
        "    batch_x = np.zeros(tuple([current_batch_size] + list(self.X.shape)[1:]))\n",
        "    batch_y = np.zeros(tuple([current_batch_size] + list(self.y.shape)[1:]))\n",
        "    for i, j in enumerate(index_array):\n",
        "        (sample, label) = self._drawImage()\n",
        "        batch_x[i] = sample\n",
        "        batch_y[i] = np_utils.to_categorical([label], number_of_classes)\n",
        "\n",
        "    if self.save_to_dir:\n",
        "        for i in range(current_batch_size):\n",
        "            img = array_to_img(batch_x[i], scale=True)\n",
        "            fname = '{prefix}_{index}_{hash}.{format}'.format(prefix=self.save_prefix,\n",
        "                                                              index=current_index + i,\n",
        "                                                              hash=np.random.randint(1e4),\n",
        "                                                              format=self.save_format)\n",
        "            img.save(os.path.join(self.save_to_dir, fname))\n",
        "    return batch_x, batch_y\n",
        "\n",
        "  def _drawImage(self):\n",
        "    return makeSyntheticImage()"
      ],
      "execution_count": 0,
      "outputs": []
    },
    {
      "cell_type": "code",
      "metadata": {
        "id": "gbnJ8G3RhGMa",
        "colab_type": "code",
        "colab": {}
      },
      "source": [
        "# Make a dataset so that we have something to test again when fitting,\n",
        "# and come up with a validation accuracy and loss.\n",
        "def make_dataset(number_of_images):\n",
        "  X = np.zeros(shape=(number_of_images, image_height, image_width, 1))\n",
        "  y = np.zeros(shape=(number_of_images), dtype='uint8')\n",
        "  for i in range(number_of_images):\n",
        "    (sample, label) = makeSyntheticImage()\n",
        "    X[i] = sample\n",
        "    y[i] = label\n",
        "  return (X, y)"
      ],
      "execution_count": 0,
      "outputs": []
    },
    {
      "cell_type": "markdown",
      "metadata": {
        "id": "tp2klHYnjGU4",
        "colab_type": "text"
      },
      "source": [
        "## Synthetic CNN model using Image Data Generator"
      ]
    },
    {
      "cell_type": "markdown",
      "metadata": {
        "id": "pQM_Bz4FjHHg",
        "colab_type": "text"
      },
      "source": [
        "We used a version of ImageDataGenerator modified as above to train\n",
        "the simple convnet.\n",
        "\n",
        "<img src='https://github.com/rahiakela/img-repo/blob/master/data-gen-cnn-model.PNG?raw=1' width='800'/>\n",
        "\n",
        "A simple convnet for classifying our synthetic data."
      ]
    },
    {
      "cell_type": "code",
      "metadata": {
        "id": "WEMMoCn4hz2w",
        "colab_type": "code",
        "colab": {}
      },
      "source": [
        "def make_synthetic_model():\n",
        "  model = Sequential()\n",
        "  model.add(Conv2D(32, (3, 3), activation='relu', padding='same', input_shape=(image_height, image_width, 1)))\n",
        "  model.add(Flatten())\n",
        "  model.add(Dense(number_of_classes, activation='softmax'))\n",
        "\n",
        "  model.compile(loss='categorical_crossentropy', optimizer='adam', metrics=['accuracy'])\n",
        "\n",
        "  return model"
      ],
      "execution_count": 0,
      "outputs": []
    },
    {
      "cell_type": "code",
      "metadata": {
        "id": "0omWesP1kXbQ",
        "colab_type": "code",
        "colab": {
          "base_uri": "https://localhost:8080/",
          "height": 390
        },
        "outputId": "92fe16e8-b2b7-4e59-f88f-a648321ebdb0"
      },
      "source": [
        "from keras.utils import np_utils\n",
        "np.random.seed(random_seed)\n",
        "\n",
        "batch_size=256\n",
        "\n",
        "# make validation data\n",
        "(X_test, y_test) = make_dataset(10*batch_size)\n",
        "y_test = np_utils.to_categorical(y_test, number_of_classes)\n",
        "\n",
        "datagen = SyntheticImageGenerator()\n",
        "dummy_X_train = np.zeros(shape=(batch_size, image_height, image_width, 1))\n",
        "dummy_y_train = np.zeros(shape=(batch_size, number_of_classes))\n",
        "\n",
        "synthetic_cnn_model = make_synthetic_model()\n",
        "synthetic_cnn_history = synthetic_cnn_model.fit_generator(datagen.flow(dummy_X_train, dummy_y_train, batch_size=256, save_to_dir='.'),\n",
        "                                          validation_data=(X_test, y_test), epochs=100, steps_per_epoch=len(dummy_X_train) // 256, verbose=1)"
      ],
      "execution_count": 29,
      "outputs": [
        {
          "output_type": "error",
          "ename": "TypeError",
          "evalue": "ignored",
          "traceback": [
            "\u001b[0;31m---------------------------------------------------------------------------\u001b[0m",
            "\u001b[0;31mTypeError\u001b[0m                                 Traceback (most recent call last)",
            "\u001b[0;32m<ipython-input-29-1990d6636f9a>\u001b[0m in \u001b[0;36m<module>\u001b[0;34m()\u001b[0m\n\u001b[1;32m     13\u001b[0m \u001b[0;34m\u001b[0m\u001b[0m\n\u001b[1;32m     14\u001b[0m \u001b[0msynthetic_cnn_model\u001b[0m \u001b[0;34m=\u001b[0m \u001b[0mmake_synthetic_model\u001b[0m\u001b[0;34m(\u001b[0m\u001b[0;34m)\u001b[0m\u001b[0;34m\u001b[0m\u001b[0;34m\u001b[0m\u001b[0m\n\u001b[0;32m---> 15\u001b[0;31m synthetic_cnn_history = synthetic_cnn_model.fit_generator(datagen.flow(dummy_X_train, dummy_y_train, batch_size=256, save_to_dir='.'),\n\u001b[0m\u001b[1;32m     16\u001b[0m                                           validation_data=(X_test, y_test), epochs=100, steps_per_epoch=len(dummy_X_train) // 256, verbose=1)\n",
            "\u001b[0;32m<ipython-input-26-51c1cd1e32e9>\u001b[0m in \u001b[0;36mflow\u001b[0;34m(self, X, y, batch_size, shuffle, seed, save_to_dir, save_prefix, save_format)\u001b[0m\n\u001b[1;32m     12\u001b[0m   \u001b[0;32mdef\u001b[0m \u001b[0mflow\u001b[0m\u001b[0;34m(\u001b[0m\u001b[0mself\u001b[0m\u001b[0;34m,\u001b[0m \u001b[0mX\u001b[0m\u001b[0;34m,\u001b[0m \u001b[0my\u001b[0m\u001b[0;34m=\u001b[0m\u001b[0;32mNone\u001b[0m\u001b[0;34m,\u001b[0m \u001b[0mbatch_size\u001b[0m\u001b[0;34m=\u001b[0m\u001b[0;36m32\u001b[0m\u001b[0;34m,\u001b[0m \u001b[0mshuffle\u001b[0m\u001b[0;34m=\u001b[0m\u001b[0;32mTrue\u001b[0m\u001b[0;34m,\u001b[0m \u001b[0mseed\u001b[0m\u001b[0;34m=\u001b[0m\u001b[0;32mNone\u001b[0m\u001b[0;34m,\u001b[0m \u001b[0msave_to_dir\u001b[0m\u001b[0;34m=\u001b[0m\u001b[0;32mNone\u001b[0m\u001b[0;34m,\u001b[0m \u001b[0msave_prefix\u001b[0m\u001b[0;34m=\u001b[0m\u001b[0;34m''\u001b[0m\u001b[0;34m,\u001b[0m \u001b[0msave_format\u001b[0m\u001b[0;34m=\u001b[0m\u001b[0;34m'jpeg'\u001b[0m\u001b[0;34m)\u001b[0m\u001b[0;34m:\u001b[0m\u001b[0;34m\u001b[0m\u001b[0;34m\u001b[0m\u001b[0m\n\u001b[1;32m     13\u001b[0m     return SyntheticIterator(X, y, self, batch_size=batch_size, shuffle=shuffle, seed=seed,\n\u001b[0;32m---> 14\u001b[0;31m                              save_to_dir=save_to_dir, save_prefix=save_prefix, save_format=save_format)\n\u001b[0m\u001b[1;32m     15\u001b[0m \u001b[0;34m\u001b[0m\u001b[0m\n\u001b[1;32m     16\u001b[0m \u001b[0;32mclass\u001b[0m \u001b[0mSyntheticIterator\u001b[0m\u001b[0;34m(\u001b[0m\u001b[0mNumpyArrayIterator\u001b[0m\u001b[0;34m)\u001b[0m\u001b[0;34m:\u001b[0m\u001b[0;34m\u001b[0m\u001b[0;34m\u001b[0m\u001b[0m\n",
            "\u001b[0;32m<ipython-input-26-51c1cd1e32e9>\u001b[0m in \u001b[0;36m__init__\u001b[0;34m(self, X, y, image_data_generator, batch_size, shuffle, seed, save_to_dir, save_prefix, save_format)\u001b[0m\n\u001b[1;32m     27\u001b[0m     \u001b[0mself\u001b[0m\u001b[0;34m.\u001b[0m\u001b[0msave_prefix\u001b[0m \u001b[0;34m=\u001b[0m \u001b[0msave_prefix\u001b[0m\u001b[0;34m\u001b[0m\u001b[0;34m\u001b[0m\u001b[0m\n\u001b[1;32m     28\u001b[0m     \u001b[0mself\u001b[0m\u001b[0;34m.\u001b[0m\u001b[0msave_format\u001b[0m \u001b[0;34m=\u001b[0m \u001b[0msave_format\u001b[0m\u001b[0;34m\u001b[0m\u001b[0;34m\u001b[0m\u001b[0m\n\u001b[0;32m---> 29\u001b[0;31m     \u001b[0msuper\u001b[0m\u001b[0;34m(\u001b[0m\u001b[0mNumpyArrayIterator\u001b[0m\u001b[0;34m,\u001b[0m \u001b[0mself\u001b[0m\u001b[0;34m)\u001b[0m\u001b[0;34m.\u001b[0m\u001b[0m__init__\u001b[0m\u001b[0;34m(\u001b[0m\u001b[0mX\u001b[0m\u001b[0;34m.\u001b[0m\u001b[0mshape\u001b[0m\u001b[0;34m[\u001b[0m\u001b[0;36m0\u001b[0m\u001b[0;34m]\u001b[0m\u001b[0;34m,\u001b[0m \u001b[0mbatch_size\u001b[0m\u001b[0;34m,\u001b[0m \u001b[0mshuffle\u001b[0m\u001b[0;34m,\u001b[0m \u001b[0mseed\u001b[0m\u001b[0;34m)\u001b[0m\u001b[0;34m\u001b[0m\u001b[0;34m\u001b[0m\u001b[0m\n\u001b[0m\u001b[1;32m     30\u001b[0m \u001b[0;34m\u001b[0m\u001b[0m\n\u001b[1;32m     31\u001b[0m   \u001b[0;32mdef\u001b[0m \u001b[0mnext\u001b[0m\u001b[0;34m(\u001b[0m\u001b[0mself\u001b[0m\u001b[0;34m)\u001b[0m\u001b[0;34m:\u001b[0m\u001b[0;34m\u001b[0m\u001b[0;34m\u001b[0m\u001b[0m\n",
            "\u001b[0;32m/tensorflow-2.1.0/python3.6/keras_preprocessing/image/numpy_array_iterator.py\u001b[0m in \u001b[0;36m__init__\u001b[0;34m(self, x, y, image_data_generator, batch_size, shuffle, sample_weight, seed, data_format, save_to_dir, save_prefix, save_format, subset, dtype)\u001b[0m\n\u001b[1;32m     74\u001b[0m             \u001b[0mx_misc\u001b[0m \u001b[0;34m=\u001b[0m \u001b[0;34m[\u001b[0m\u001b[0;34m]\u001b[0m\u001b[0;34m\u001b[0m\u001b[0;34m\u001b[0m\u001b[0m\n\u001b[1;32m     75\u001b[0m \u001b[0;34m\u001b[0m\u001b[0m\n\u001b[0;32m---> 76\u001b[0;31m         \u001b[0;32mif\u001b[0m \u001b[0my\u001b[0m \u001b[0;32mis\u001b[0m \u001b[0;32mnot\u001b[0m \u001b[0;32mNone\u001b[0m \u001b[0;32mand\u001b[0m \u001b[0mlen\u001b[0m\u001b[0;34m(\u001b[0m\u001b[0mx\u001b[0m\u001b[0;34m)\u001b[0m \u001b[0;34m!=\u001b[0m \u001b[0mlen\u001b[0m\u001b[0;34m(\u001b[0m\u001b[0my\u001b[0m\u001b[0;34m)\u001b[0m\u001b[0;34m:\u001b[0m\u001b[0;34m\u001b[0m\u001b[0;34m\u001b[0m\u001b[0m\n\u001b[0m\u001b[1;32m     77\u001b[0m             raise ValueError('`x` (images tensor) and `y` (labels) '\n\u001b[1;32m     78\u001b[0m                              \u001b[0;34m'should have the same length. '\u001b[0m\u001b[0;34m\u001b[0m\u001b[0;34m\u001b[0m\u001b[0m\n",
            "\u001b[0;31mTypeError\u001b[0m: object of type 'int' has no len()"
          ]
        }
      ]
    },
    {
      "cell_type": "code",
      "metadata": {
        "id": "EhL_yk0FmhiN",
        "colab_type": "code",
        "colab": {}
      },
      "source": [
        "plot_accuracy_and_loss(synthetic_cnn_history, 'Synthetic CNN')"
      ],
      "execution_count": 0,
      "outputs": []
    },
    {
      "cell_type": "markdown",
      "metadata": {
        "id": "loT808GOqoEo",
        "colab_type": "text"
      },
      "source": [
        "Despite being about as tiny as a classifier convnet can be, the network\n",
        "manages impressive accuracy on the test data, without obvious\n",
        "overfitting."
      ]
    }
  ]
}