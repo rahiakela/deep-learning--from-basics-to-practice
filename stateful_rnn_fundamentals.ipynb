{
  "nbformat": 4,
  "nbformat_minor": 0,
  "metadata": {
    "colab": {
      "name": "stateful-rnn-fundamentals.ipynb",
      "provenance": [],
      "toc_visible": true,
      "authorship_tag": "ABX9TyMUSKcV8wGUrrpKb+hjWcxs",
      "include_colab_link": true
    },
    "kernelspec": {
      "name": "python3",
      "display_name": "Python 3"
    }
  },
  "cells": [
    {
      "cell_type": "markdown",
      "metadata": {
        "id": "view-in-github",
        "colab_type": "text"
      },
      "source": [
        "<a href=\"https://colab.research.google.com/github/rahiakela/deep-learning--from-basics-to-practice/blob/24-keras-part-2/stateful_rnn_fundamentals.ipynb\" target=\"_parent\"><img src=\"https://colab.research.google.com/assets/colab-badge.svg\" alt=\"Open In Colab\"/></a>"
      ]
    },
    {
      "cell_type": "markdown",
      "metadata": {
        "id": "NRXPewUonB3c",
        "colab_type": "text"
      },
      "source": [
        "# Stateful RNN Fundamentals"
      ]
    },
    {
      "cell_type": "markdown",
      "metadata": {
        "id": "umw_N_0Onbws",
        "colab_type": "text"
      },
      "source": [
        "We’ve been focusing on one sample at a time, but in practice we usually\n",
        "train in mini-batches. This poses an interesting question for RNNs,\n",
        "since their internal memory is always influenced by previous inputs.\n",
        "When should we clear that memory and let the RNN start over?\n",
        "\n",
        "The usual approach is to clear the internal memory at the start of a\n",
        "new batch, or mini-batch. We don’t clear or reset the weights belonging\n",
        "to the neurons inside the RNN, since those tell it how to do its job.\n",
        "We only clear its changing memory that holds the inputs it’s recently\n",
        "seen. \n",
        "\n",
        "The thinking is that when a new batch begins we’ll possibly be\n",
        "getting data that isn’t a continuation of the most recent samples, so we\n",
        "don’t want to remember stuff from back then.\n",
        "\n",
        "Usually, we shuffle our samples between epochs, so they arrive in an\n",
        "unpredictable order each time. \n",
        "\n",
        "But we can keep their order consistent from epoch to epoch, if we want to. We do this when we call fit() to train our model, setting the optional argument shuffle to False (the default is True).\n",
        "\n",
        "When the data is always arriving in sequence, there’s no reason to reset\n",
        "the memory at the start of each batch, because those samples follow\n",
        "the samples in the previous batch. \n",
        "\n",
        "In other words, the batching just breaks up the grouping of the samples, and not their sequence. In that situation, we can tell Keras to not reset the memory at the start of each batch. This sometimes can help us train a little faster.\n",
        "\n",
        "In Keras, when we take over the responsibility for clearing the memory\n",
        "we say that the RNN is in the stateful mode. In this mode, Keras\n",
        "only resets the internal state when we tell it to. Usually this is at the\n",
        "start (or end) of each epoch.\n",
        "\n",
        "Stateful mode can make training go a little faster, but it comes with\n",
        "limitations. The batch size must be determined in advance, and it\n",
        "becomes a part of the model. The dataset must be a multiple of this\n",
        "batch size.\n",
        "\n",
        "For instance, if the batch size is 100, the dataset must be\n",
        "100, 200, 300, and so on samples long. If it’s 130 or 271 samples, we’ll\n",
        "get an error.\n",
        "\n",
        "When we later give new data to the model for it to evaluate, that data\n",
        "also has to come in batches of the same size we used when we trained.\n",
        "If we want only one prediction, but our batch size is 100, then we can\n",
        "either pad out our one request with 99 more copies of itself, or just\n",
        "load up all the unused entries in the batch with 0’s. We’ll still end up\n",
        "waiting for the network to evaluate all those samples, though.\n",
        "\n",
        "To make a stateful network, we need to do four things.\n",
        "\n",
        "* First, we need to include the optional argument stateful to each RNN\n",
        "(such as an LSTM or GRU) and set it to True. This tells Keras that\n",
        "we’re taking care of when to reset the cell’s state.\n",
        "\n",
        "* Second, we need to include the argument batch_size to the first RNN\n",
        "we make, and set it to the batch size that we’re going to use during\n",
        "training.\n",
        "\n",
        "* Third, when we call fit() we need to set shuffle to False.\n",
        "\n",
        "* Finally, when we want to reset the state, we need to explicitly call\n",
        "reset_states() on our model."
      ]
    },
    {
      "cell_type": "markdown",
      "metadata": {
        "id": "BU4qO05mpKLj",
        "colab_type": "text"
      },
      "source": [
        "## Setup"
      ]
    },
    {
      "cell_type": "code",
      "metadata": {
        "id": "lptonCfVpLok",
        "colab_type": "code",
        "colab": {
          "base_uri": "https://localhost:8080/",
          "height": 33
        },
        "outputId": "40725a17-a196-4fab-d8e9-321a8526839a"
      },
      "source": [
        "from __future__ import absolute_import, division, print_function, unicode_literals\n",
        "\n",
        "try:\n",
        "  # %tensorflow_version only exists in Colab.\n",
        "  %tensorflow_version 2.x\n",
        "except Exception:\n",
        "  pass\n",
        "import tensorflow as tf\n",
        "from tensorflow import keras\n",
        "import numpy as np\n",
        "import pandas as pd\n",
        "\n",
        "import matplotlib.pyplot as plt\n",
        "\n",
        "from tensorflow.keras import backend as keras_backend\n",
        "from tensorflow.keras.utils import to_categorical\n",
        "\n",
        "from tensorflow.keras.models import Sequential\n",
        "from tensorflow.keras.layers import Dense, LSTM\n",
        "\n",
        "keras_backend.set_image_data_format('channels_last')"
      ],
      "execution_count": 1,
      "outputs": [
        {
          "output_type": "stream",
          "text": [
            "TensorFlow 2.x selected.\n"
          ],
          "name": "stdout"
        }
      ]
    },
    {
      "cell_type": "markdown",
      "metadata": {
        "id": "I-L7PFTVunxZ",
        "colab_type": "text"
      },
      "source": [
        "## Creating the Training Dataset"
      ]
    },
    {
      "cell_type": "markdown",
      "metadata": {
        "id": "gakw0f2uuohY",
        "colab_type": "text"
      },
      "source": [
        "First, let’s generates uniform random data between -amp and +amp and of length xn.\n",
        "\n",
        "Reference: https://github.com/keras-team/keras/blob/master/examples/lstm_stateful.py"
      ]
    },
    {
      "cell_type": "code",
      "metadata": {
        "id": "_Nv7Yd2fz3bZ",
        "colab_type": "code",
        "colab": {}
      },
      "source": [
        "# ----------------------------------------------------------\n",
        "# EDITABLE PARAMETERS\n",
        "# ----------------------------------------------------------\n",
        "\n",
        "# length of input\n",
        "input_len = 1000\n",
        "\n",
        "# The window length of the moving average used to generate\n",
        "# the output from the input in the input/output pair used\n",
        "# to train the LSTM\n",
        "# e.g. if tsteps=2 and input=[1, 2, 3, 4, 5],\n",
        "#      then output=[1.5, 2.5, 3.5, 4.5]\n",
        "tsteps = 2\n",
        "\n",
        "# The input sequence length that the LSTM is trained on for each output point\n",
        "lahead = 1\n",
        "\n",
        "# training parameters passed to \"model.fit(...)\"\n",
        "batch_size = 1\n",
        "epochs = 10"
      ],
      "execution_count": 0,
      "outputs": []
    },
    {
      "cell_type": "code",
      "metadata": {
        "id": "D_BlAt14ze7h",
        "colab_type": "code",
        "colab": {}
      },
      "source": [
        "def gen_uniform_amp(amp=1, xn=10000):\n",
        "    \"\"\"Generates uniform random data between\n",
        "    -amp and +amp\n",
        "    and of length xn\n",
        "    # Arguments\n",
        "        amp: maximum/minimum range of uniform data\n",
        "        xn: length of series\n",
        "    \"\"\"\n",
        "    data_input = np.random.uniform(-1 * amp, +1 * amp, xn)\n",
        "    data_input = pd.DataFrame(data_input)\n",
        "    return data_input"
      ],
      "execution_count": 0,
      "outputs": []
    },
    {
      "cell_type": "code",
      "metadata": {
        "id": "erfA0-B5zvqv",
        "colab_type": "code",
        "colab": {}
      },
      "source": [
        "to_drop = max(tsteps - 1, lahead - 1)\n",
        "data_input = gen_uniform_amp(amp=0.1, xn=input_len + to_drop)\n",
        "\n",
        "# set the target to be a N-point average of the input\n",
        "expected_output = data_input.rolling(window=tsteps, center=False).mean()\n",
        "\n",
        "# when lahead > 1, need to convert the input to \"rolling window view\"\n",
        "# https://docs.scipy.org/doc/numpy/reference/generated/numpy.repeat.html\n",
        "if lahead > 1:\n",
        "    data_input = np.repeat(data_input.values, repeats=lahead, axis=1)\n",
        "    data_input = pd.DataFrame(data_input)\n",
        "    for i, c in enumerate(data_input.columns):\n",
        "        data_input[c] = data_input[c].shift(i)\n",
        "\n",
        "# drop the nan\n",
        "expected_output = expected_output[to_drop:]\n",
        "data_input = data_input[to_drop:]"
      ],
      "execution_count": 0,
      "outputs": []
    },
    {
      "cell_type": "code",
      "metadata": {
        "id": "Aa4GYHxTz-RG",
        "colab_type": "code",
        "colab": {
          "base_uri": "https://localhost:8080/",
          "height": 297
        },
        "outputId": "18fd0d12-ae00-4acd-d17e-ee08cf00f982"
      },
      "source": [
        "print('Plotting input and expected output')\n",
        "plt.plot(data_input[0][:10], '.')\n",
        "plt.plot(expected_output[0][:10], '-')\n",
        "plt.legend(['Input', 'Expected output'])\n",
        "plt.title('Input')\n",
        "plt.show()"
      ],
      "execution_count": 22,
      "outputs": [
        {
          "output_type": "stream",
          "text": [
            "Plotting input and expected output\n"
          ],
          "name": "stdout"
        },
        {
          "output_type": "display_data",
          "data": {
            "image/png": "[encoded data removed]",
            "text/plain": [
              "<Figure size 432x288 with 1 Axes>"
            ]
          },
          "metadata": {
            "tags": []
          }
        }
      ]
    },
    {
      "cell_type": "markdown",
      "metadata": {
        "id": "BshMUnw7wiq-",
        "colab_type": "text"
      },
      "source": [
        "## Stateful RNN Model"
      ]
    },
    {
      "cell_type": "markdown",
      "metadata": {
        "id": "H0mvHLUqwfgI",
        "colab_type": "text"
      },
      "source": [
        "Now let’s create the stateful RNN. \n",
        "\n",
        "First, we need to set stateful=True when creating every recurrent layer. \n",
        "\n",
        "Second, the stateful RNN needs to know the batch size (since it\n",
        "will preserve a state for each input sequence in the batch), so we must set the batch_input_shape argument in the first layer.\n",
        "\n",
        "Note that we can leave the second dimension unspecified, since the inputs could have any length."
      ]
    },
    {
      "cell_type": "code",
      "metadata": {
        "id": "nVNy4plnwXbt",
        "colab_type": "code",
        "colab": {}
      },
      "source": [
        "model = keras.models.Sequential([\n",
        "    keras.layers.LSTM(50, return_sequences=True, stateful=True, input_shape=(lahead, 1), batch_size=batch_size),\n",
        "    keras.layers.LSTM(50, stateful=True),\n",
        "    keras.layers.Dense(1)                             \n",
        "])"
      ],
      "execution_count": 0,
      "outputs": []
    },
    {
      "cell_type": "code",
      "metadata": {
        "id": "eE4hReBa0wPR",
        "colab_type": "code",
        "colab": {
          "base_uri": "https://localhost:8080/",
          "height": 83
        },
        "outputId": "479b2b15-3ec8-40f2-9b15-d06c661bbbda"
      },
      "source": [
        "# split train/test data\n",
        "def split_data(x, y, ratio=0.8):\n",
        "    to_train = int(input_len * ratio)\n",
        "    # tweak to match with batch_size\n",
        "    to_train -= to_train % batch_size\n",
        "\n",
        "    x_train = x[:to_train]\n",
        "    y_train = y[:to_train]\n",
        "    x_test = x[to_train:]\n",
        "    y_test = y[to_train:]\n",
        "\n",
        "    # tweak to match with batch_size\n",
        "    to_drop = x.shape[0] % batch_size\n",
        "    if to_drop > 0:\n",
        "        x_test = x_test[:-1 * to_drop]\n",
        "        y_test = y_test[:-1 * to_drop]\n",
        "\n",
        "    # some reshaping\n",
        "    reshape_3 = lambda x: x.values.reshape((x.shape[0], x.shape[1], 1))\n",
        "    x_train = reshape_3(x_train)\n",
        "    x_test = reshape_3(x_test)\n",
        "\n",
        "    reshape_2 = lambda x: x.values.reshape((x.shape[0], 1))\n",
        "    y_train = reshape_2(y_train)\n",
        "    y_test = reshape_2(y_test)\n",
        "\n",
        "    return (x_train, y_train), (x_test, y_test)\n",
        "\n",
        "\n",
        "(x_train, y_train), (x_test, y_test) = split_data(data_input, expected_output)\n",
        "print('x_train.shape: ', x_train.shape)\n",
        "print('y_train.shape: ', y_train.shape)\n",
        "print('x_test.shape: ', x_test.shape)\n",
        "print('y_test.shape: ', y_test.shape)"
      ],
      "execution_count": 24,
      "outputs": [
        {
          "output_type": "stream",
          "text": [
            "x_train.shape:  (800, 1, 1)\n",
            "y_train.shape:  (800, 1)\n",
            "x_test.shape:  (200, 1, 1)\n",
            "y_test.shape:  (200, 1)\n"
          ],
          "name": "stdout"
        }
      ]
    },
    {
      "cell_type": "markdown",
      "metadata": {
        "id": "6XYwwCi1yChF",
        "colab_type": "text"
      },
      "source": [
        "To train our model, we need to remember to tell fit() not to shuffle\n",
        "our data. Because we want to reset the state after each epoch, we don’t\n",
        "want to do the usual thing of telling fit() how many epochs to train\n",
        "for, and then walking away, because then the RNN will never be reset.\n",
        "\n",
        "Instead, we’ll tell fit() to train for only 1 epoch, and we’ll put that call\n",
        "in a loop. The loop will repeat for the number of epochs we want to\n",
        "train for. Doing it this way lets us put in a call to reset_states() at\n",
        "the end of each epoch of training."
      ]
    },
    {
      "cell_type": "code",
      "metadata": {
        "id": "zSXuHG6xxqzb",
        "colab_type": "code",
        "colab": {
          "base_uri": "https://localhost:8080/",
          "height": 1000
        },
        "outputId": "9b403103-deb1-4d43-e87e-878ff6868bf2"
      },
      "source": [
        "model.compile(loss='mse', optimizer='adam')\n",
        "\n",
        "for epoch in range(50):\n",
        "  model.fit(x_train, y_train, epochs=1, batch_size=batch_size, shuffle=False, validation_data=(x_test, y_test), verbose=1)\n",
        "  model.reset_states()"
      ],
      "execution_count": 25,
      "outputs": [
        {
          "output_type": "stream",
          "text": [
            "Train on 800 samples, validate on 200 samples\n",
            "800/800 [==============================] - 5s 7ms/sample - loss: 5.3910e-04 - val_loss: 3.0246e-04\n",
            "Train on 800 samples, validate on 200 samples\n",
            "800/800 [==============================] - 3s 3ms/sample - loss: 3.0988e-04 - val_loss: 3.0565e-04\n",
            "Train on 800 samples, validate on 200 samples\n",
            "800/800 [==============================] - 3s 3ms/sample - loss: 3.2430e-04 - val_loss: 3.1926e-04\n",
            "Train on 800 samples, validate on 200 samples\n",
            "800/800 [==============================] - 3s 3ms/sample - loss: 3.4284e-04 - val_loss: 3.3060e-04\n",
            "Train on 800 samples, validate on 200 samples\n",
            "800/800 [==============================] - 3s 4ms/sample - loss: 3.5289e-04 - val_loss: 3.1926e-04\n",
            "Train on 800 samples, validate on 200 samples\n",
            "800/800 [==============================] - 3s 4ms/sample - loss: 3.4639e-04 - val_loss: 2.9675e-04\n",
            "Train on 800 samples, validate on 200 samples\n",
            "800/800 [==============================] - 3s 4ms/sample - loss: 3.4605e-04 - val_loss: 2.8359e-04\n",
            "Train on 800 samples, validate on 200 samples\n",
            "800/800 [==============================] - 3s 3ms/sample - loss: 3.4080e-04 - val_loss: 3.1128e-04\n",
            "Train on 800 samples, validate on 200 samples\n",
            "800/800 [==============================] - 3s 3ms/sample - loss: 3.3859e-04 - val_loss: 2.9809e-04\n",
            "Train on 800 samples, validate on 200 samples\n",
            "800/800 [==============================] - 3s 3ms/sample - loss: 3.3502e-04 - val_loss: 3.0874e-04\n",
            "Train on 800 samples, validate on 200 samples\n",
            "800/800 [==============================] - 3s 3ms/sample - loss: 3.2970e-04 - val_loss: 3.3349e-04\n",
            "Train on 800 samples, validate on 200 samples\n",
            "800/800 [==============================] - 3s 3ms/sample - loss: 3.3541e-04 - val_loss: 3.4549e-04\n",
            "Train on 800 samples, validate on 200 samples\n",
            "800/800 [==============================] - 3s 3ms/sample - loss: 3.4542e-04 - val_loss: 3.4161e-04\n",
            "Train on 800 samples, validate on 200 samples\n",
            "800/800 [==============================] - 3s 3ms/sample - loss: 3.2116e-04 - val_loss: 3.1611e-04\n",
            "Train on 800 samples, validate on 200 samples\n",
            "800/800 [==============================] - 3s 3ms/sample - loss: 3.7142e-04 - val_loss: 3.1420e-04\n",
            "Train on 800 samples, validate on 200 samples\n",
            "800/800 [==============================] - 3s 3ms/sample - loss: 3.0658e-04 - val_loss: 2.6742e-04\n",
            "Train on 800 samples, validate on 200 samples\n",
            "800/800 [==============================] - 3s 3ms/sample - loss: 3.0070e-04 - val_loss: 2.4789e-04\n",
            "Train on 800 samples, validate on 200 samples\n",
            "800/800 [==============================] - 3s 3ms/sample - loss: 3.1151e-04 - val_loss: 2.6193e-04\n",
            "Train on 800 samples, validate on 200 samples\n",
            "800/800 [==============================] - 3s 3ms/sample - loss: 6.6253e-04 - val_loss: 6.7391e-04\n",
            "Train on 800 samples, validate on 200 samples\n",
            "800/800 [==============================] - 3s 3ms/sample - loss: 8.8561e-04 - val_loss: 8.1521e-04\n",
            "Train on 800 samples, validate on 200 samples\n",
            "800/800 [==============================] - 3s 3ms/sample - loss: 7.6930e-04 - val_loss: 5.8978e-04\n",
            "Train on 800 samples, validate on 200 samples\n",
            "800/800 [==============================] - 3s 3ms/sample - loss: 0.0011 - val_loss: 0.0015\n",
            "Train on 800 samples, validate on 200 samples\n",
            "800/800 [==============================] - 3s 3ms/sample - loss: 8.7488e-04 - val_loss: 7.9183e-04\n",
            "Train on 800 samples, validate on 200 samples\n",
            "800/800 [==============================] - 3s 3ms/sample - loss: 6.6053e-04 - val_loss: 1.0129e-04\n",
            "Train on 800 samples, validate on 200 samples\n",
            "800/800 [==============================] - 3s 3ms/sample - loss: 1.0486e-04 - val_loss: 1.1068e-04\n",
            "Train on 800 samples, validate on 200 samples\n",
            "800/800 [==============================] - 3s 3ms/sample - loss: 1.3075e-04 - val_loss: 1.5470e-04\n",
            "Train on 800 samples, validate on 200 samples\n",
            "800/800 [==============================] - 3s 3ms/sample - loss: 2.1321e-04 - val_loss: 4.5564e-04\n",
            "Train on 800 samples, validate on 200 samples\n",
            "800/800 [==============================] - 3s 3ms/sample - loss: 2.0355e-04 - val_loss: 1.8025e-04\n",
            "Train on 800 samples, validate on 200 samples\n",
            "800/800 [==============================] - 3s 3ms/sample - loss: 1.6154e-04 - val_loss: 1.7620e-04\n",
            "Train on 800 samples, validate on 200 samples\n",
            "800/800 [==============================] - 3s 3ms/sample - loss: 1.4684e-04 - val_loss: 1.5565e-04\n",
            "Train on 800 samples, validate on 200 samples\n",
            "800/800 [==============================] - 3s 3ms/sample - loss: 1.3803e-04 - val_loss: 1.3300e-04\n",
            "Train on 800 samples, validate on 200 samples\n",
            "800/800 [==============================] - 3s 3ms/sample - loss: 1.2509e-04 - val_loss: 1.3685e-04\n",
            "Train on 800 samples, validate on 200 samples\n",
            "800/800 [==============================] - 3s 3ms/sample - loss: 1.2769e-04 - val_loss: 2.0100e-04\n",
            "Train on 800 samples, validate on 200 samples\n",
            "800/800 [==============================] - 3s 4ms/sample - loss: 1.1569e-04 - val_loss: 1.4810e-04\n",
            "Train on 800 samples, validate on 200 samples\n",
            "800/800 [==============================] - 3s 4ms/sample - loss: 9.3585e-05 - val_loss: 1.3789e-04\n",
            "Train on 800 samples, validate on 200 samples\n",
            "800/800 [==============================] - 3s 3ms/sample - loss: 1.0130e-04 - val_loss: 1.3595e-04\n",
            "Train on 800 samples, validate on 200 samples\n",
            "800/800 [==============================] - 3s 3ms/sample - loss: 8.7222e-05 - val_loss: 1.1050e-04\n",
            "Train on 800 samples, validate on 200 samples\n",
            "800/800 [==============================] - 3s 3ms/sample - loss: 8.4141e-05 - val_loss: 7.8921e-05\n",
            "Train on 800 samples, validate on 200 samples\n",
            "800/800 [==============================] - 3s 3ms/sample - loss: 6.3264e-05 - val_loss: 9.8497e-05\n",
            "Train on 800 samples, validate on 200 samples\n",
            "800/800 [==============================] - 3s 3ms/sample - loss: 7.2972e-05 - val_loss: 8.3556e-05\n",
            "Train on 800 samples, validate on 200 samples\n",
            "800/800 [==============================] - 3s 3ms/sample - loss: 8.6427e-05 - val_loss: 8.0636e-05\n",
            "Train on 800 samples, validate on 200 samples\n",
            "800/800 [==============================] - 3s 3ms/sample - loss: 8.0292e-05 - val_loss: 7.5773e-05\n",
            "Train on 800 samples, validate on 200 samples\n",
            "800/800 [==============================] - 3s 3ms/sample - loss: 7.8641e-05 - val_loss: 7.8586e-05\n",
            "Train on 800 samples, validate on 200 samples\n",
            "800/800 [==============================] - 3s 3ms/sample - loss: 7.8574e-05 - val_loss: 7.9136e-05\n",
            "Train on 800 samples, validate on 200 samples\n",
            "800/800 [==============================] - 3s 3ms/sample - loss: 7.8653e-05 - val_loss: 7.8439e-05\n",
            "Train on 800 samples, validate on 200 samples\n",
            "800/800 [==============================] - 3s 3ms/sample - loss: 7.9383e-05 - val_loss: 8.1190e-05\n",
            "Train on 800 samples, validate on 200 samples\n",
            "800/800 [==============================] - 3s 3ms/sample - loss: 8.0545e-05 - val_loss: 8.5178e-05\n",
            "Train on 800 samples, validate on 200 samples\n",
            "800/800 [==============================] - 3s 3ms/sample - loss: 8.2053e-05 - val_loss: 8.6992e-05\n",
            "Train on 800 samples, validate on 200 samples\n",
            "800/800 [==============================] - 3s 3ms/sample - loss: 8.4403e-05 - val_loss: 8.9446e-05\n",
            "Train on 800 samples, validate on 200 samples\n",
            "800/800 [==============================] - 3s 3ms/sample - loss: 8.5355e-05 - val_loss: 9.1609e-05\n"
          ],
          "name": "stdout"
        }
      ]
    }
  ]
}