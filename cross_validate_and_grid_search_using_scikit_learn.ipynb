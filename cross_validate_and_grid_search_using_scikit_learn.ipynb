{
  "nbformat": 4,
  "nbformat_minor": 0,
  "metadata": {
    "colab": {
      "name": "cross-validate-and-grid-search-using-scikit-learn.ipynb",
      "provenance": [],
      "toc_visible": true,
      "include_colab_link": true
    },
    "kernelspec": {
      "name": "python3",
      "display_name": "Python 3"
    }
  },
  "cells": [
    {
      "cell_type": "markdown",
      "metadata": {
        "id": "view-in-github",
        "colab_type": "text"
      },
      "source": [
        "<a href=\"https://colab.research.google.com/github/rahiakela/deep-learning--from-basics-to-practice/blob/24-keras-part-2/cross_validate_and_grid_search_using_scikit_learn.ipynb\" target=\"_parent\"><img src=\"https://colab.research.google.com/assets/colab-badge.svg\" alt=\"Open In Colab\"/></a>"
      ]
    },
    {
      "cell_type": "markdown",
      "metadata": {
        "id": "uJaJDh8FPaCa",
        "colab_type": "text"
      },
      "source": [
        "# Cross-validate and Grid-search using Scikit-Learn"
      ]
    },
    {
      "cell_type": "markdown",
      "metadata": {
        "id": "WtUV7FVUPkuh",
        "colab_type": "text"
      },
      "source": [
        "So far we’ve been searching our hyperparameters by hand. It’s been\n",
        "illuminating, but it also required a lot of manual effort.\n",
        "\n",
        "The scikit-learn library offers us routines to\n",
        "cross-validate our model (to estimate how good it is), and grid-search\n",
        "its hyperparameters (to find the best-performing combination).\n",
        "\n",
        "Keras doesn’t offer either of these tools directly, because it offers a way\n",
        "to use the ones already in scikit-learn.\n",
        "\n",
        "A popular approach is to extract a tiny piece of the data set, carefully\n",
        "selected to be representative of the whole, and search on that. Then\n",
        "each training run will be much faster.\n",
        "\n",
        "By cross-validating and grid-searching one or more of these little proxy\n",
        "databases, we can get some guidance for what models and hyperparameters\n",
        "are worth exploring on a larger scale. Then we can take that\n",
        "knowledge and work with larger and larger pieces of the dataset, tuning\n",
        "the hyperparameters at each step."
      ]
    },
    {
      "cell_type": "markdown",
      "metadata": {
        "id": "QFVvmT61QD2_",
        "colab_type": "text"
      },
      "source": [
        "## Setup"
      ]
    },
    {
      "cell_type": "code",
      "metadata": {
        "id": "MbR1F-52QFGH",
        "colab_type": "code",
        "outputId": "90ef2862-9f78-4111-9bbb-7a24e57d30c8",
        "colab": {
          "base_uri": "https://localhost:8080/",
          "height": 35
        }
      },
      "source": [
        "from __future__ import absolute_import, division, print_function, unicode_literals\n",
        "\n",
        "try:\n",
        "  # %tensorflow_version only exists in Colab.\n",
        "  %tensorflow_version 2.x\n",
        "except Exception:\n",
        "  pass\n",
        "import tensorflow as tf\n",
        "from tensorflow import keras\n",
        "import numpy as np\n",
        "import pandas as pd\n",
        "\n",
        "import matplotlib.pyplot as plt\n",
        "\n",
        "from tensorflow.keras.datasets import mnist\n",
        "from tensorflow.keras import backend as keras_backend\n",
        "from tensorflow.keras.utils import to_categorical\n",
        "from tensorflow.keras.models import Sequential\n",
        "from tensorflow.keras.layers import Dense, Dropout\n",
        "from tensorflow.keras.constraints import max_norm\n",
        "from tensorflow.keras.wrappers.scikit_learn import KerasClassifier\n",
        "\n",
        "keras_backend.set_image_data_format('channels_last')"
      ],
      "execution_count": 1,
      "outputs": [
        {
          "output_type": "stream",
          "text": [
            "TensorFlow 2.x selected.\n"
          ],
          "name": "stdout"
        }
      ]
    },
    {
      "cell_type": "markdown",
      "metadata": {
        "id": "HAKka4YRXwbo",
        "colab_type": "text"
      },
      "source": [
        "## Load and process the MNIST data"
      ]
    },
    {
      "cell_type": "code",
      "metadata": {
        "id": "qYCe3VWFXxKF",
        "colab_type": "code",
        "outputId": "586d7f7b-e618-499f-96d2-8291e6bc3d9b",
        "colab": {
          "base_uri": "https://localhost:8080/",
          "height": 52
        }
      },
      "source": [
        "# load MNIST data and save sizes\n",
        "(X_train, y_train), (X_test, y_test) = mnist.load_data()\n",
        "\n",
        "image_height = X_train.shape[1]\n",
        "image_width = X_train.shape[2]\n",
        "number_of_pixels = image_height * image_width\n",
        "\n",
        "\n",
        "# convert to floating-point\n",
        "X_train = keras_backend.cast_to_floatx(X_train)\n",
        "X_test = keras_backend.cast_to_floatx(X_test)\n",
        "\n",
        "\n",
        "# scale data to range [0, 1]\n",
        "X_train /= 255.0\n",
        "X_test /= 255.0\n",
        "\n",
        "\n",
        "# save the original y_train and y_test\n",
        "original_y_train = y_train\n",
        "original_y_test = y_test\n",
        "\n",
        "# replace label data with one-hot encoded versions\n",
        "number_of_classes = 1 + max(np.append(y_train, y_test)).astype(np.int32)\n",
        "\n",
        "# encode each list into one-hot arrays of the size we just found\n",
        "y_train = to_categorical(y_train, num_classes=number_of_classes)\n",
        "y_test = to_categorical(y_test, num_classes=number_of_classes)\n",
        "\n",
        "# reshape samples to 2D grid, one line per image\n",
        "X_train = X_train.reshape([X_train.shape[0], number_of_pixels])\n",
        "X_test = X_test.reshape([X_test.shape[0], number_of_pixels])"
      ],
      "execution_count": 2,
      "outputs": [
        {
          "output_type": "stream",
          "text": [
            "Downloading data from https://storage.googleapis.com/tensorflow/tf-keras-datasets/mnist.npz\n",
            "11493376/11490434 [==============================] - 0s 0us/step\n"
          ],
          "name": "stdout"
        }
      ]
    },
    {
      "cell_type": "markdown",
      "metadata": {
        "id": "w9kF53jaQFZs",
        "colab_type": "text"
      },
      "source": [
        "## Keras Wrappers"
      ]
    },
    {
      "cell_type": "markdown",
      "metadata": {
        "id": "mLnsyk6tQGtI",
        "colab_type": "text"
      },
      "source": [
        "It would be nice to use scikit-learn’s cross-validation and grid-search\n",
        "tools directly on our Keras models. But Keras is a library that sits “on\n",
        "top” of scikit-learn. This means that scikit-learn doesn’t know anything\n",
        "about Keras and its models. But it also means that Keras knows\n",
        "everything about scikit-learn.\n",
        "\n",
        "Let us place a Keras model into scikit-learn,\n",
        "and then do cross-validation, grid search, or any other operation we\n",
        "like. From scikit-learn’s perspective, this object is just some custom\n",
        "estimator that we wrote and gave to it. It doesn’t know that there’s a\n",
        "deep network hiding inside.\n",
        "\n",
        "We pull off this trick by embedding our Keras model in an object of\n",
        "type KerasClassifier or KerasRegressor, depending on the job it\n",
        "does. These objects are called wrappers, since they “wrap” our Keras\n",
        "model in a disguise that makes it look and act like a scikit-learn estimator.\n",
        "\n",
        "Since both wrappers work identically, we’ll choose KerasClassifier\n",
        "as an example so we can stick with the MNIST classifiers we’ve been\n",
        "discussing so far.\n",
        "\n",
        "Let’s dig in, starting with the model-making function.\n",
        "\n",
        "This argument is named build_fn, short for “build function.” Its value\n",
        "is a function that we’ve written which will construct, compile, and\n",
        "return a Keras model.\n",
        "\n",
        "This model making-function will be called automatically\n",
        "by scikit-learn when the model is required. When we’re grid\n",
        "searching, the model will usually be built over and over again at the\n",
        "start of each new step of the search.\n",
        "\n",
        "So we have our model-making function that takes arguments, and a\n",
        "wrapper, and scikit-learn which is going to call our function. How do\n",
        "we get scikit-learn to include the arguments we want when it calls the\n",
        "model-making function?\n",
        "\n",
        "Happily, the mechanism is easy. The trick is in the naming of our\n",
        "arguments. when we create a search using\n",
        "scikit-learn, we provide it with a dictionary that names each parameter\n",
        "we want it to search on as a key, with values to be tried as the value.\n",
        "\n",
        "To see this in action, let’s start with a model-making function that\n",
        "takes parameters."
      ]
    },
    {
      "cell_type": "code",
      "metadata": {
        "id": "HULpO2HgZNX8",
        "colab_type": "code",
        "colab": {}
      },
      "source": [
        "# Build a network of any number of (dense+ dropout) layers of the given size\n",
        "def make_model(number_of_layers=2, neurons_per_layer=32, dropout_ratio=0.2, optimizer='adam'):\n",
        "  model = Sequential()\n",
        "\n",
        "  # first layer is special, because it sets input_shape\n",
        "  model.add(Dense(neurons_per_layer, activation='relu', input_shape=[number_of_pixels], kernel_constraint=max_norm(3)))\n",
        "  model.add(Dropout(dropout_ratio))\n",
        "\n",
        "  # now add in all the rest of the dense-dropout layers\n",
        "  for layer in range(number_of_layers - 1):\n",
        "    model.add(Dense(neurons_per_layer, activation='relu', kernel_constraint=max_norm(3)))\n",
        "    model.add(Dropout(dropout_ratio))\n",
        "\n",
        "  # finish up with a softmax layer with 10 outputs\n",
        "  model.add(Dense(number_of_classes, activation='softmax'))\n",
        "\n",
        "  # compile the model and return it\n",
        "  model.compile(loss='categorical_crossentropy', optimizer=optimizer, metrics=['accuracy'])\n",
        "\n",
        "  return model"
      ],
      "execution_count": 0,
      "outputs": []
    },
    {
      "cell_type": "markdown",
      "metadata": {
        "id": "Al1PvD12hioY",
        "colab_type": "text"
      },
      "source": [
        "## Wrap up make_model() function in KerasClassifier."
      ]
    },
    {
      "cell_type": "markdown",
      "metadata": {
        "id": "Zj2qN-QohoL_",
        "colab_type": "text"
      },
      "source": [
        "Wrap up our model-making function into a KerasClassifier, which\n",
        "will make it behave like a standard scikit-learn estimator.  We'll\n",
        "give all the arguments defaults which we can override later when\n",
        "we build the model as part of cross-validation or grid search.\n",
        "\n",
        "For instance, we will provide a value to number_of_layers, so this\n",
        "value will be passed to number_of_layers when make_model() is called."
      ]
    },
    {
      "cell_type": "code",
      "metadata": {
        "id": "NFvX4fx8hFlJ",
        "colab_type": "code",
        "colab": {}
      },
      "source": [
        "kc_model = KerasClassifier(build_fn=make_model, \n",
        "                           number_of_layers=2, neurons_per_layer=32, optimizer='adam',  # parameters for the model-making function \n",
        "                           epochs=100, batch_size=256, verbose=0  # parameters for scikit-learn\n",
        "                           )"
      ],
      "execution_count": 0,
      "outputs": []
    },
    {
      "cell_type": "markdown",
      "metadata": {
        "id": "9tl4Rn_Zi1pM",
        "colab_type": "text"
      },
      "source": [
        "In effect, the wrapper just takes the values we provide to it and passes\n",
        "them to the model-making function arguments of the same name. The\n",
        "syntax is a little confusing because it looks like KerasClassifier is\n",
        "taking these arguments for itself, but this is a funky bit of Python that\n",
        "doesn’t follow the common rules.\n",
        "\n",
        "If we hand kc_model to scikit-learn for cross-validation, make_model()\n",
        "will be called and passed the value 2 for number_of_layers, the value\n",
        "32 for the argument neurons_per_layer, and the string ′adam′ for\n",
        "optimizer.\n",
        "\n",
        "The last set of three arguments to KerasClassifier() (epochs,\n",
        "batch_size, and verbose) are not for our model, but are intended for\n",
        "scikit-learn. They get passed to the cross-validator’s fit() routine to\n",
        "control the training process.\n",
        "\n",
        "The key thing to remember is that the wrapper is basically remembering\n",
        "what values should be used for the arguments in the model-making\n",
        "function, and it will use those by default. It also remembers a few values\n",
        "that get passed on to scikit-learn. As long as the names we’re assigning\n",
        "to in the wrapper match the names in the model-making routine,\n",
        "everything will be automatically matched up."
      ]
    },
    {
      "cell_type": "markdown",
      "metadata": {
        "id": "IMs1vjVjjXqo",
        "colab_type": "text"
      },
      "source": [
        "## Cross-Validation"
      ]
    },
    {
      "cell_type": "markdown",
      "metadata": {
        "id": "dhZYptJDja-Z",
        "colab_type": "text"
      },
      "source": [
        "Applying cross-validation may seem pointless. After all, we already\n",
        "have an excellent, large testing set. What more are we going to learn\n",
        "from cross-validation that we haven’t already seen by using our validation\n",
        "data?\n",
        "\n",
        "In this case, not much. We should expect the results of cross-validation\n",
        "to be very close to what we saw above.\n",
        "\n",
        "Another challenge of validation sets comes when we’re working with\n",
        "a small version of an original dataset. If this dataset is small,cross-validation is a great way to evaluate it without making the training set even smaller by making a dedicated validation set.\n",
        "\n",
        "Cross-validation requires training and then validating our entire\n",
        "model over and over again with slightly different data. We’ll be using\n",
        "10 folds, so each session of the cross-validator will take 10 times longer.\n",
        "\n",
        "One issue is that scikit-learn’s cross-validation function\n",
        "cross_val_score() doesn’t want the one-hot encoded version of our\n",
        "label data. It wants the original versions that contain lists of integers.\n",
        "\n",
        "The other issue has to do with what data we pass to the cross-validation\n",
        "system. As we’ve done before, we’ll simply pretend that we don’t\n",
        "have a validation set, and treat the training data as if it was our entire\n",
        "dataset. We’ll let the cross-validator manage the train-validation split\n",
        "for us.\n",
        "\n",
        "Now let’s get this cross-validation going. There are two tasks to perform.\n",
        "* First, we’ll make the object that drives the cross-validation\n",
        "process. \n",
        "* Then use StratifiedKFold() with 10 splits. \n",
        "\n",
        "We’ll shuffle the data, and we’ll set the optional\n",
        "random_state variable to the value of random_seed that we already\n",
        "have around. That’s useful for debugging."
      ]
    },
    {
      "cell_type": "code",
      "metadata": {
        "id": "jdMfI5BicdEd",
        "colab_type": "code",
        "colab": {}
      },
      "source": [
        "from sklearn.model_selection import StratifiedKFold\n",
        "\n",
        "random_seed = 42\n",
        "np.random.seed(random_seed)\n",
        "\n",
        "kfold = StratifiedKFold(n_splits=10, shuffle=True, random_state=random_seed)"
      ],
      "execution_count": 0,
      "outputs": []
    },
    {
      "cell_type": "markdown",
      "metadata": {
        "id": "sxVxxLlKelIB",
        "colab_type": "text"
      },
      "source": [
        "We just tell scikit-learn to run the cross-validator and track\n",
        "the scores by calling cross_val_score() with our model, our training\n",
        "data and original labels, and our folding object."
      ]
    },
    {
      "cell_type": "code",
      "metadata": {
        "id": "eRBySlZxi04U",
        "colab_type": "code",
        "colab": {}
      },
      "source": [
        "from sklearn.model_selection import cross_val_score\n",
        "\n",
        "results = cross_val_score(kc_model, X_train, original_y_train, cv=kfold, verbose=0)"
      ],
      "execution_count": 0,
      "outputs": []
    },
    {
      "cell_type": "code",
      "metadata": {
        "id": "3ubXCU5iicsV",
        "colab_type": "code",
        "outputId": "993f71fc-0f46-40be-925f-b03c79278654",
        "colab": {
          "base_uri": "https://localhost:8080/",
          "height": 70
        }
      },
      "source": [
        "print(f'results = {str(results)} \\n results.mean = {str(results.mean())}')"
      ],
      "execution_count": 8,
      "outputs": [
        {
          "output_type": "stream",
          "text": [
            "results = [0.96203798 0.96235216 0.96450591 0.96249998 0.96316665 0.96632773\n",
            " 0.96332723 0.96549428 0.968651   0.96397597] \n",
            " results.mean = 0.9642338871955871\n"
          ],
          "name": "stdout"
        }
      ]
    },
    {
      "cell_type": "markdown",
      "metadata": {
        "id": "hP5BYhOSfOJq",
        "colab_type": "text"
      },
      "source": [
        "Putting it all together."
      ]
    },
    {
      "cell_type": "code",
      "metadata": {
        "id": "cehqy47fe74s",
        "colab_type": "code",
        "colab": {}
      },
      "source": [
        "from sklearn.model_selection import StratifiedKFold\n",
        "from sklearn.model_selection import cross_val_score\n",
        "\n",
        "random_seed = 42\n",
        "np.random.seed(random_seed)\n",
        "\n",
        "# Build a network of any number of (dense+ dropout) layers of the given size\n",
        "def make_model(number_of_layers=2, neurons_per_layer=32, dropout_ratio=0.2, optimizer='adam'):\n",
        "  model = Sequential()\n",
        "\n",
        "  # first layer is special, because it sets input_shape\n",
        "  model.add(Dense(neurons_per_layer, activation='relu', input_shape=[number_of_pixels], kernel_constraint=max_norm(3)))\n",
        "  model.add(Dropout(dropout_ratio))\n",
        "\n",
        "  # now add in all the rest of the dense-dropout layers\n",
        "  for layer in range(number_of_layers - 1):\n",
        "    model.add(Dense(neurons_per_layer, activation='relu', kernel_constraint=max_norm(3)))\n",
        "    model.add(Dropout(dropout_ratio))\n",
        "\n",
        "  # finish up with a softmax layer with 10 outputs\n",
        "  model.add(Dense(number_of_classes, activation='softmax'))\n",
        "\n",
        "  # compile the model and return it\n",
        "  model.compile(loss='categorical_crossentropy', optimizer=optimizer, metrics=['accuracy'])\n",
        "\n",
        "  return model\n",
        "\n",
        "# make the model and wrap it up for scikit-learn\n",
        "kc_model = KerasClassifier(build_fn=make_model, \n",
        "                           number_of_layers=2, neurons_per_layer=32, optimizer='adam',  # parameters for the model-making function \n",
        "                           epochs=100, batch_size=256, verbose=0  # parameters for scikit-learn\n",
        "                           )\n",
        "\n",
        "# create cross-validator\n",
        "kfold = StratifiedKFold(n_splits=10, shuffle=True, random_state=random_seed)\n",
        "results = cross_val_score(kc_model, X_train, original_y_train, cv=kfold, verbose=0)\n",
        "print(f'results = {str(results)} \\n results.mean = {str(results.mean())}')"
      ],
      "execution_count": 0,
      "outputs": []
    },
    {
      "cell_type": "markdown",
      "metadata": {
        "id": "KrQYoWXnggXM",
        "colab_type": "text"
      },
      "source": [
        "So the cross-validation run is telling us that on the original dataset of\n",
        "60,000 images, we got a performance of a bit more than 95% accuracy.\n",
        "That’s a just about the same as what we saw graphically for this\n",
        "model way back in Figure 24.13, where the validation accuracy was\n",
        "just a smidge better than 96%.\n",
        "\n",
        "That’s reassuring. It says that this whole wrapping and cross-validating\n",
        "scheme is producing the same results that we got when we trained\n",
        "and tested the model ourselves."
      ]
    },
    {
      "cell_type": "markdown",
      "metadata": {
        "id": "gDLnL5k2gzvL",
        "colab_type": "text"
      },
      "source": [
        "## Cross-Validation with Normalization"
      ]
    },
    {
      "cell_type": "markdown",
      "metadata": {
        "id": "K88_lRxsg2cW",
        "colab_type": "text"
      },
      "source": [
        "Because we already normalized the training data to the range [0,1] when we divided it by 255. So when cross-validation grabs a random 90% of these samples and trains on them, it’s likely to get samples that run from 0 to 1.\n",
        "\n",
        "In general, the data that’s going to get chosen from our database and used for cross-validation won’t be normalized to the range [0,1]. It’s up to us to get that normalization in there, and then apply that same transform to the part of the data that was set aside for testing in that run.\n",
        "\n",
        "We can normalize the particular piece of training\n",
        "data that’s built for each pass through cross-validation by building\n",
        "a Pipeline object composed of two steps: a normalizer followed by\n",
        "our model.\n",
        "\n",
        "Let’s do this by first making our objects, and then assembling them\n",
        "into a Pipeline object. For demonstration purposes our pipeline will\n",
        "contain a MinMaxScaler from scikit-learn, followed by our model."
      ]
    },
    {
      "cell_type": "code",
      "metadata": {
        "id": "kq_QNiuGiwD1",
        "colab_type": "code",
        "colab": {}
      },
      "source": [
        "from sklearn.pipeline import Pipeline, make_pipeline\n",
        "from sklearn.preprocessing import MinMaxScaler\n",
        "\n",
        "estimators = []\n",
        "estimators.append(('normalize_step', MinMaxScaler()))\n",
        "estimators.append(('model_step', kc_model))\n",
        "pipeline = Pipeline(estimators)"
      ],
      "execution_count": 0,
      "outputs": []
    },
    {
      "cell_type": "markdown",
      "metadata": {
        "id": "8TRAFBFUmaeo",
        "colab_type": "text"
      },
      "source": [
        "Constructing a pipeline this way is useful when we want to later refer\n",
        "to the individual steps. We’ll need to do that soon when we use grid\n",
        "searching.\n",
        "\n",
        "But for this cross-validation step, we don’t need that kind of access.\n",
        "We’ll often see code that builds the pipeline in one line, using the shortcut\n",
        "make_pipeline() function."
      ]
    },
    {
      "cell_type": "code",
      "metadata": {
        "id": "tq9THq0QmUXb",
        "colab_type": "code",
        "colab": {}
      },
      "source": [
        "pipeline = make_pipeline(MinMaxScaler(), kc_model)"
      ],
      "execution_count": 0,
      "outputs": []
    },
    {
      "cell_type": "markdown",
      "metadata": {
        "id": "_Lt0rTQAnW1w",
        "colab_type": "text"
      },
      "source": [
        "These two pipeline objects are the same. The only difference is that\n",
        "we’ve given our own names to the steps in the first version.\n",
        "\n",
        "To use our pipeline object, we just give it to cross_val_score() in\n",
        "place of a model (or wrapped model). Scikit-learn will recognize that\n",
        "it’s a pipeline and take care of all the rest."
      ]
    },
    {
      "cell_type": "code",
      "metadata": {
        "id": "k3iE50I1ng8v",
        "colab_type": "code",
        "colab": {}
      },
      "source": [
        "results = cross_val_score(pipeline, X_train, original_y_train, cv=kfold, verbose=0)"
      ],
      "execution_count": 0,
      "outputs": []
    },
    {
      "cell_type": "markdown",
      "metadata": {
        "id": "8M7LnhJTolVj",
        "colab_type": "text"
      },
      "source": [
        "Putting these new lines together."
      ]
    },
    {
      "cell_type": "code",
      "metadata": {
        "id": "AFUwKirKomMr",
        "colab_type": "code",
        "outputId": "9d0a53f6-df25-4439-f152-077bbf5f29de",
        "colab": {
          "base_uri": "https://localhost:8080/",
          "height": 70
        }
      },
      "source": [
        "from sklearn.pipeline import Pipeline, make_pipeline\n",
        "from sklearn.preprocessing import MinMaxScaler\n",
        "\n",
        "# make the model and wrap it up for scikit-learn\n",
        "kc_model = KerasClassifier(build_fn=make_model, \n",
        "                           number_of_layers=2, neurons_per_layer=32, optimizer='adam',  # parameters for the model-making function \n",
        "                           epochs=100, batch_size=256, verbose=0  # parameters for scikit-learn\n",
        "                           )\n",
        "\n",
        "# create pipeline\n",
        "pipeline = make_pipeline(MinMaxScaler(), kc_model)\n",
        "\n",
        "# create cross-validator\n",
        "kfold = StratifiedKFold(n_splits=10, shuffle=True, random_state=random_seed)\n",
        "\n",
        "# execute cross validation using pipeline and k-fold cross-validator\n",
        "results2 = cross_val_score(pipeline, X_train, original_y_train, cv=kfold, verbose=0)\n",
        "print(f'results = {str(results2)} \\n results.mean = {str(results2.mean())}')"
      ],
      "execution_count": 0,
      "outputs": [
        {
          "output_type": "stream",
          "text": [
            "results = [0.96120548 0.96002001 0.96400601 0.96216667 0.96216667 0.96682781\n",
            " 0.96266043 0.96449411 0.96631652 0.95980656] \n",
            " results.mean = 0.9629670262336731\n"
          ],
          "name": "stdout"
        }
      ]
    },
    {
      "cell_type": "markdown",
      "metadata": {
        "id": "apuM3HIGpyXy",
        "colab_type": "text"
      },
      "source": [
        "Cross-validation is a great way to get a handle on the quality of our\n",
        "model. It’s not so great when training times start to push our patience,\n",
        "since every fold is essentially a brand-new full-length training and\n",
        "testing process. Using 10 folds requires training and then testing our\n",
        "model 10 times in a row."
      ]
    },
    {
      "cell_type": "markdown",
      "metadata": {
        "id": "FU_h7x4McBqf",
        "colab_type": "text"
      },
      "source": [
        "## Hyperparameter Searching"
      ]
    },
    {
      "cell_type": "markdown",
      "metadata": {
        "id": "leISLjZBcCpd",
        "colab_type": "text"
      },
      "source": [
        "We can use the grid searching algorithms offered by scikit-learn to\n",
        "help us out. With those routines, we can automatically try out all the\n",
        "different combinations of multiple settings for multiple parameters.\n",
        "We could do this ourselves with some nested loops, but it’s easier to\n",
        "relax and let scikit-learn do the driving.\n",
        "\n",
        "The grid searching object GridSearchCV will try out every combination\n",
        "of the parameters we give it, and measure each model’s performance\n",
        "using cross-validation. By default, it uses 3 folds to save time, but we\n",
        "can increase that with an optional argument.\n",
        "\n",
        "We think of this as “searching” because we imagine that each combination\n",
        "of parameters is a point in some very high-dimensional space,\n",
        "called the search space. Each point in search space represents some\n",
        "combination of parameters, and the value of that combination (that\n",
        "is, the accuracy or loss that results from training a model with those\n",
        "parameters) is the value associated with that point. The intuition is that we’re searching through this space, wandering from point to\n",
        "point and region to region, looking for the point that has the highest\n",
        "performance.\n",
        "\n",
        "when we prepare a pipeline for grid searching,\n",
        "we need to tell GridSearchCV where each parameter it’s searching\n",
        "through ought to be routed. This means we need to identify different\n",
        "steps in the pipeline. That’s easy if we use the pipeline-building\n",
        "method, where we give a name to each step.\n",
        "\n",
        "Let’s build a dictionary to search through three of our model’s parameters"
      ]
    },
    {
      "cell_type": "code",
      "metadata": {
        "id": "a61vyt6rdGAj",
        "colab_type": "code",
        "colab": {}
      },
      "source": [
        "param_grid = dict(model_step__number_of_layers=[2, 3, 4],\n",
        "                  model_step__neurons_per_layer=[20, 30, 40],\n",
        "                  model_step__optimizer=['adam', 'adadelta'])"
      ],
      "execution_count": 0,
      "outputs": []
    },
    {
      "cell_type": "markdown",
      "metadata": {
        "id": "Ad_73UkgfoGx",
        "colab_type": "text"
      },
      "source": [
        "We can use our dictionary with the pipeline."
      ]
    },
    {
      "cell_type": "code",
      "metadata": {
        "id": "03XT3h7OfpK8",
        "colab_type": "code",
        "colab": {}
      },
      "source": [
        "from sklearn.model_selection import GridSearchCV\n",
        "\n",
        "estimators = []\n",
        "estimators.append(('normalize_step', MinMaxScaler()))\n",
        "estimators.append(('model_step', kc_model))\n",
        "pipeline = Pipeline(estimators)\n",
        "\n",
        "grid_searcher = GridSearchCV(estimator=pipeline, param_grid=param_grid, verbose=2)"
      ],
      "execution_count": 0,
      "outputs": []
    },
    {
      "cell_type": "markdown",
      "metadata": {
        "id": "VzJhVS_ZgaWy",
        "colab_type": "text"
      },
      "source": [
        "Now we’re ready to roll. We just call the searcher’s fit() routine with\n",
        "our data, and let it run."
      ]
    },
    {
      "cell_type": "code",
      "metadata": {
        "id": "TQYk0pvCfjT8",
        "colab_type": "code",
        "colab": {
          "base_uri": "https://localhost:8080/",
          "height": 1000
        },
        "outputId": "07f8b9a9-5265-411d-9c65-611498e0053b"
      },
      "source": [
        "search_results = grid_searcher.fit(X_train, original_y_train)"
      ],
      "execution_count": 25,
      "outputs": [
        {
          "output_type": "stream",
          "text": [
            "/usr/local/lib/python3.6/dist-packages/sklearn/model_selection/_split.py:1978: FutureWarning: The default value of cv will change from 3 to 5 in version 0.22. Specify it explicitly to silence this warning.\n",
            "  warnings.warn(CV_WARNING, FutureWarning)\n",
            "[Parallel(n_jobs=1)]: Using backend SequentialBackend with 1 concurrent workers.\n"
          ],
          "name": "stderr"
        },
        {
          "output_type": "stream",
          "text": [
            "Fitting 3 folds for each of 18 candidates, totalling 54 fits\n",
            "[CV] model_step__neurons_per_layer=20, model_step__number_of_layers=2, model_step__optimizer=adam \n",
            "[CV]  model_step__neurons_per_layer=20, model_step__number_of_layers=2, model_step__optimizer=adam, total=  50.7s\n",
            "[CV] model_step__neurons_per_layer=20, model_step__number_of_layers=2, model_step__optimizer=adam \n"
          ],
          "name": "stdout"
        },
        {
          "output_type": "stream",
          "text": [
            "[Parallel(n_jobs=1)]: Done   1 out of   1 | elapsed:   50.7s remaining:    0.0s\n"
          ],
          "name": "stderr"
        },
        {
          "output_type": "stream",
          "text": [
            "[CV]  model_step__neurons_per_layer=20, model_step__number_of_layers=2, model_step__optimizer=adam, total=  50.2s\n",
            "[CV] model_step__neurons_per_layer=20, model_step__number_of_layers=2, model_step__optimizer=adam \n",
            "[CV]  model_step__neurons_per_layer=20, model_step__number_of_layers=2, model_step__optimizer=adam, total=  49.5s\n",
            "[CV] model_step__neurons_per_layer=20, model_step__number_of_layers=2, model_step__optimizer=adadelta \n",
            "[CV]  model_step__neurons_per_layer=20, model_step__number_of_layers=2, model_step__optimizer=adadelta, total=  49.7s\n",
            "[CV] model_step__neurons_per_layer=20, model_step__number_of_layers=2, model_step__optimizer=adadelta \n",
            "[CV]  model_step__neurons_per_layer=20, model_step__number_of_layers=2, model_step__optimizer=adadelta, total=  48.9s\n",
            "[CV] model_step__neurons_per_layer=20, model_step__number_of_layers=2, model_step__optimizer=adadelta \n",
            "[CV]  model_step__neurons_per_layer=20, model_step__number_of_layers=2, model_step__optimizer=adadelta, total=  48.4s\n",
            "[CV] model_step__neurons_per_layer=20, model_step__number_of_layers=3, model_step__optimizer=adam \n",
            "[CV]  model_step__neurons_per_layer=20, model_step__number_of_layers=3, model_step__optimizer=adam, total=  53.0s\n",
            "[CV] model_step__neurons_per_layer=20, model_step__number_of_layers=3, model_step__optimizer=adam \n",
            "[CV]  model_step__neurons_per_layer=20, model_step__number_of_layers=3, model_step__optimizer=adam, total=  53.0s\n",
            "[CV] model_step__neurons_per_layer=20, model_step__number_of_layers=3, model_step__optimizer=adam \n",
            "[CV]  model_step__neurons_per_layer=20, model_step__number_of_layers=3, model_step__optimizer=adam, total=  54.1s\n",
            "[CV] model_step__neurons_per_layer=20, model_step__number_of_layers=3, model_step__optimizer=adadelta \n",
            "[CV]  model_step__neurons_per_layer=20, model_step__number_of_layers=3, model_step__optimizer=adadelta, total=  54.2s\n",
            "[CV] model_step__neurons_per_layer=20, model_step__number_of_layers=3, model_step__optimizer=adadelta \n",
            "[CV]  model_step__neurons_per_layer=20, model_step__number_of_layers=3, model_step__optimizer=adadelta, total=  52.6s\n",
            "[CV] model_step__neurons_per_layer=20, model_step__number_of_layers=3, model_step__optimizer=adadelta \n",
            "[CV]  model_step__neurons_per_layer=20, model_step__number_of_layers=3, model_step__optimizer=adadelta, total=  54.5s\n",
            "[CV] model_step__neurons_per_layer=20, model_step__number_of_layers=4, model_step__optimizer=adam \n",
            "[CV]  model_step__neurons_per_layer=20, model_step__number_of_layers=4, model_step__optimizer=adam, total=  57.8s\n",
            "[CV] model_step__neurons_per_layer=20, model_step__number_of_layers=4, model_step__optimizer=adam \n",
            "[CV]  model_step__neurons_per_layer=20, model_step__number_of_layers=4, model_step__optimizer=adam, total=  56.6s\n",
            "[CV] model_step__neurons_per_layer=20, model_step__number_of_layers=4, model_step__optimizer=adam \n",
            "[CV]  model_step__neurons_per_layer=20, model_step__number_of_layers=4, model_step__optimizer=adam, total=  57.1s\n",
            "[CV] model_step__neurons_per_layer=20, model_step__number_of_layers=4, model_step__optimizer=adadelta \n",
            "[CV]  model_step__neurons_per_layer=20, model_step__number_of_layers=4, model_step__optimizer=adadelta, total=  56.0s\n",
            "[CV] model_step__neurons_per_layer=20, model_step__number_of_layers=4, model_step__optimizer=adadelta \n",
            "[CV]  model_step__neurons_per_layer=20, model_step__number_of_layers=4, model_step__optimizer=adadelta, total=  55.6s\n",
            "[CV] model_step__neurons_per_layer=20, model_step__number_of_layers=4, model_step__optimizer=adadelta \n",
            "[CV]  model_step__neurons_per_layer=20, model_step__number_of_layers=4, model_step__optimizer=adadelta, total=  56.2s\n",
            "[CV] model_step__neurons_per_layer=30, model_step__number_of_layers=2, model_step__optimizer=adam \n",
            "[CV]  model_step__neurons_per_layer=30, model_step__number_of_layers=2, model_step__optimizer=adam, total= 1.1min\n",
            "[CV] model_step__neurons_per_layer=30, model_step__number_of_layers=2, model_step__optimizer=adam \n",
            "[CV]  model_step__neurons_per_layer=30, model_step__number_of_layers=2, model_step__optimizer=adam, total= 1.1min\n",
            "[CV] model_step__neurons_per_layer=30, model_step__number_of_layers=2, model_step__optimizer=adam \n",
            "[CV]  model_step__neurons_per_layer=30, model_step__number_of_layers=2, model_step__optimizer=adam, total= 1.1min\n",
            "[CV] model_step__neurons_per_layer=30, model_step__number_of_layers=2, model_step__optimizer=adadelta \n",
            "[CV]  model_step__neurons_per_layer=30, model_step__number_of_layers=2, model_step__optimizer=adadelta, total=  59.4s\n",
            "[CV] model_step__neurons_per_layer=30, model_step__number_of_layers=2, model_step__optimizer=adadelta \n",
            "[CV]  model_step__neurons_per_layer=30, model_step__number_of_layers=2, model_step__optimizer=adadelta, total=  59.0s\n",
            "[CV] model_step__neurons_per_layer=30, model_step__number_of_layers=2, model_step__optimizer=adadelta \n",
            "[CV]  model_step__neurons_per_layer=30, model_step__number_of_layers=2, model_step__optimizer=adadelta, total=  56.4s\n",
            "[CV] model_step__neurons_per_layer=30, model_step__number_of_layers=3, model_step__optimizer=adam \n",
            "[CV]  model_step__neurons_per_layer=30, model_step__number_of_layers=3, model_step__optimizer=adam, total= 1.1min\n",
            "[CV] model_step__neurons_per_layer=30, model_step__number_of_layers=3, model_step__optimizer=adam \n",
            "[CV]  model_step__neurons_per_layer=30, model_step__number_of_layers=3, model_step__optimizer=adam, total= 1.1min\n",
            "[CV] model_step__neurons_per_layer=30, model_step__number_of_layers=3, model_step__optimizer=adam \n",
            "[CV]  model_step__neurons_per_layer=30, model_step__number_of_layers=3, model_step__optimizer=adam, total= 1.1min\n",
            "[CV] model_step__neurons_per_layer=30, model_step__number_of_layers=3, model_step__optimizer=adadelta \n",
            "[CV]  model_step__neurons_per_layer=30, model_step__number_of_layers=3, model_step__optimizer=adadelta, total= 1.0min\n",
            "[CV] model_step__neurons_per_layer=30, model_step__number_of_layers=3, model_step__optimizer=adadelta \n",
            "[CV]  model_step__neurons_per_layer=30, model_step__number_of_layers=3, model_step__optimizer=adadelta, total= 1.0min\n",
            "[CV] model_step__neurons_per_layer=30, model_step__number_of_layers=3, model_step__optimizer=adadelta \n",
            "[CV]  model_step__neurons_per_layer=30, model_step__number_of_layers=3, model_step__optimizer=adadelta, total= 1.0min\n",
            "[CV] model_step__neurons_per_layer=30, model_step__number_of_layers=4, model_step__optimizer=adam \n",
            "[CV]  model_step__neurons_per_layer=30, model_step__number_of_layers=4, model_step__optimizer=adam, total= 1.2min\n",
            "[CV] model_step__neurons_per_layer=30, model_step__number_of_layers=4, model_step__optimizer=adam \n",
            "[CV]  model_step__neurons_per_layer=30, model_step__number_of_layers=4, model_step__optimizer=adam, total= 1.2min\n",
            "[CV] model_step__neurons_per_layer=30, model_step__number_of_layers=4, model_step__optimizer=adam \n",
            "[CV]  model_step__neurons_per_layer=30, model_step__number_of_layers=4, model_step__optimizer=adam, total= 1.2min\n",
            "[CV] model_step__neurons_per_layer=30, model_step__number_of_layers=4, model_step__optimizer=adadelta \n",
            "[CV]  model_step__neurons_per_layer=30, model_step__number_of_layers=4, model_step__optimizer=adadelta, total= 1.1min\n",
            "[CV] model_step__neurons_per_layer=30, model_step__number_of_layers=4, model_step__optimizer=adadelta \n",
            "[CV]  model_step__neurons_per_layer=30, model_step__number_of_layers=4, model_step__optimizer=adadelta, total= 1.1min\n",
            "[CV] model_step__neurons_per_layer=30, model_step__number_of_layers=4, model_step__optimizer=adadelta \n",
            "[CV]  model_step__neurons_per_layer=30, model_step__number_of_layers=4, model_step__optimizer=adadelta, total= 1.0min\n",
            "[CV] model_step__neurons_per_layer=40, model_step__number_of_layers=2, model_step__optimizer=adam \n",
            "[CV]  model_step__neurons_per_layer=40, model_step__number_of_layers=2, model_step__optimizer=adam, total=  58.2s\n",
            "[CV] model_step__neurons_per_layer=40, model_step__number_of_layers=2, model_step__optimizer=adam \n",
            "[CV]  model_step__neurons_per_layer=40, model_step__number_of_layers=2, model_step__optimizer=adam, total=  58.0s\n",
            "[CV] model_step__neurons_per_layer=40, model_step__number_of_layers=2, model_step__optimizer=adam \n",
            "[CV]  model_step__neurons_per_layer=40, model_step__number_of_layers=2, model_step__optimizer=adam, total=  57.9s\n",
            "[CV] model_step__neurons_per_layer=40, model_step__number_of_layers=2, model_step__optimizer=adadelta \n",
            "[CV]  model_step__neurons_per_layer=40, model_step__number_of_layers=2, model_step__optimizer=adadelta, total=  56.1s\n",
            "[CV] model_step__neurons_per_layer=40, model_step__number_of_layers=2, model_step__optimizer=adadelta \n",
            "[CV]  model_step__neurons_per_layer=40, model_step__number_of_layers=2, model_step__optimizer=adadelta, total=  57.1s\n",
            "[CV] model_step__neurons_per_layer=40, model_step__number_of_layers=2, model_step__optimizer=adadelta \n",
            "[CV]  model_step__neurons_per_layer=40, model_step__number_of_layers=2, model_step__optimizer=adadelta, total=  55.0s\n",
            "[CV] model_step__neurons_per_layer=40, model_step__number_of_layers=3, model_step__optimizer=adam \n",
            "[CV]  model_step__neurons_per_layer=40, model_step__number_of_layers=3, model_step__optimizer=adam, total= 1.1min\n",
            "[CV] model_step__neurons_per_layer=40, model_step__number_of_layers=3, model_step__optimizer=adam \n",
            "[CV]  model_step__neurons_per_layer=40, model_step__number_of_layers=3, model_step__optimizer=adam, total= 1.1min\n",
            "[CV] model_step__neurons_per_layer=40, model_step__number_of_layers=3, model_step__optimizer=adam \n",
            "[CV]  model_step__neurons_per_layer=40, model_step__number_of_layers=3, model_step__optimizer=adam, total= 1.1min\n",
            "[CV] model_step__neurons_per_layer=40, model_step__number_of_layers=3, model_step__optimizer=adadelta \n",
            "[CV]  model_step__neurons_per_layer=40, model_step__number_of_layers=3, model_step__optimizer=adadelta, total= 1.1min\n",
            "[CV] model_step__neurons_per_layer=40, model_step__number_of_layers=3, model_step__optimizer=adadelta \n",
            "[CV]  model_step__neurons_per_layer=40, model_step__number_of_layers=3, model_step__optimizer=adadelta, total= 1.1min\n",
            "[CV] model_step__neurons_per_layer=40, model_step__number_of_layers=3, model_step__optimizer=adadelta \n",
            "[CV]  model_step__neurons_per_layer=40, model_step__number_of_layers=3, model_step__optimizer=adadelta, total= 1.1min\n",
            "[CV] model_step__neurons_per_layer=40, model_step__number_of_layers=4, model_step__optimizer=adam \n",
            "[CV]  model_step__neurons_per_layer=40, model_step__number_of_layers=4, model_step__optimizer=adam, total= 1.3min\n",
            "[CV] model_step__neurons_per_layer=40, model_step__number_of_layers=4, model_step__optimizer=adam \n",
            "[CV]  model_step__neurons_per_layer=40, model_step__number_of_layers=4, model_step__optimizer=adam, total= 1.3min\n",
            "[CV] model_step__neurons_per_layer=40, model_step__number_of_layers=4, model_step__optimizer=adam \n",
            "[CV]  model_step__neurons_per_layer=40, model_step__number_of_layers=4, model_step__optimizer=adam, total= 1.3min\n",
            "[CV] model_step__neurons_per_layer=40, model_step__number_of_layers=4, model_step__optimizer=adadelta \n",
            "[CV]  model_step__neurons_per_layer=40, model_step__number_of_layers=4, model_step__optimizer=adadelta, total= 1.2min\n",
            "[CV] model_step__neurons_per_layer=40, model_step__number_of_layers=4, model_step__optimizer=adadelta \n",
            "[CV]  model_step__neurons_per_layer=40, model_step__number_of_layers=4, model_step__optimizer=adadelta, total= 1.2min\n",
            "[CV] model_step__neurons_per_layer=40, model_step__number_of_layers=4, model_step__optimizer=adadelta \n",
            "[CV]  model_step__neurons_per_layer=40, model_step__number_of_layers=4, model_step__optimizer=adadelta, total= 1.2min\n"
          ],
          "name": "stdout"
        },
        {
          "output_type": "stream",
          "text": [
            "[Parallel(n_jobs=1)]: Done  54 out of  54 | elapsed: 55.1min finished\n"
          ],
          "name": "stderr"
        }
      ]
    },
    {
      "cell_type": "markdown",
      "metadata": {
        "id": "giMA_IMTnoe3",
        "colab_type": "text"
      },
      "source": [
        "The variable search_results we get back contains a lot of information.\n",
        "One of the objects in search_results1 is a dictionary called\n",
        "cv_results_ (recall that all of scikit-learn’s internal variables are\n",
        "suffixed with an underscore). The cv_results_ dictionary contains\n",
        "detailed information on the cross-validation results.\n",
        "\n",
        "Since we’re interested in finding the best combination of parameters,\n",
        "two dictionary items are of particular interest. The ′params′\n",
        "item tells us which set of parameters corresponds to each score. The\n",
        "′mean_test_score′ item tells us the average value that came out of\n",
        "the cross-validation for each set of parameters."
      ]
    },
    {
      "cell_type": "code",
      "metadata": {
        "id": "m7abL3X0gpAc",
        "colab_type": "code",
        "colab": {
          "base_uri": "https://localhost:8080/",
          "height": 977
        },
        "outputId": "78328a2e-8c76-46c9-ddf9-c939a0d06e19"
      },
      "source": [
        "search_results.cv_results_['params']"
      ],
      "execution_count": 26,
      "outputs": [
        {
          "output_type": "execute_result",
          "data": {
            "text/plain": [
              "[{'model_step__neurons_per_layer': 20,\n",
              "  'model_step__number_of_layers': 2,\n",
              "  'model_step__optimizer': 'adam'},\n",
              " {'model_step__neurons_per_layer': 20,\n",
              "  'model_step__number_of_layers': 2,\n",
              "  'model_step__optimizer': 'adadelta'},\n",
              " {'model_step__neurons_per_layer': 20,\n",
              "  'model_step__number_of_layers': 3,\n",
              "  'model_step__optimizer': 'adam'},\n",
              " {'model_step__neurons_per_layer': 20,\n",
              "  'model_step__number_of_layers': 3,\n",
              "  'model_step__optimizer': 'adadelta'},\n",
              " {'model_step__neurons_per_layer': 20,\n",
              "  'model_step__number_of_layers': 4,\n",
              "  'model_step__optimizer': 'adam'},\n",
              " {'model_step__neurons_per_layer': 20,\n",
              "  'model_step__number_of_layers': 4,\n",
              "  'model_step__optimizer': 'adadelta'},\n",
              " {'model_step__neurons_per_layer': 30,\n",
              "  'model_step__number_of_layers': 2,\n",
              "  'model_step__optimizer': 'adam'},\n",
              " {'model_step__neurons_per_layer': 30,\n",
              "  'model_step__number_of_layers': 2,\n",
              "  'model_step__optimizer': 'adadelta'},\n",
              " {'model_step__neurons_per_layer': 30,\n",
              "  'model_step__number_of_layers': 3,\n",
              "  'model_step__optimizer': 'adam'},\n",
              " {'model_step__neurons_per_layer': 30,\n",
              "  'model_step__number_of_layers': 3,\n",
              "  'model_step__optimizer': 'adadelta'},\n",
              " {'model_step__neurons_per_layer': 30,\n",
              "  'model_step__number_of_layers': 4,\n",
              "  'model_step__optimizer': 'adam'},\n",
              " {'model_step__neurons_per_layer': 30,\n",
              "  'model_step__number_of_layers': 4,\n",
              "  'model_step__optimizer': 'adadelta'},\n",
              " {'model_step__neurons_per_layer': 40,\n",
              "  'model_step__number_of_layers': 2,\n",
              "  'model_step__optimizer': 'adam'},\n",
              " {'model_step__neurons_per_layer': 40,\n",
              "  'model_step__number_of_layers': 2,\n",
              "  'model_step__optimizer': 'adadelta'},\n",
              " {'model_step__neurons_per_layer': 40,\n",
              "  'model_step__number_of_layers': 3,\n",
              "  'model_step__optimizer': 'adam'},\n",
              " {'model_step__neurons_per_layer': 40,\n",
              "  'model_step__number_of_layers': 3,\n",
              "  'model_step__optimizer': 'adadelta'},\n",
              " {'model_step__neurons_per_layer': 40,\n",
              "  'model_step__number_of_layers': 4,\n",
              "  'model_step__optimizer': 'adam'},\n",
              " {'model_step__neurons_per_layer': 40,\n",
              "  'model_step__number_of_layers': 4,\n",
              "  'model_step__optimizer': 'adadelta'}]"
            ]
          },
          "metadata": {
            "tags": []
          },
          "execution_count": 26
        }
      ]
    },
    {
      "cell_type": "markdown",
      "metadata": {
        "id": "g3fx2rS5qA0g",
        "colab_type": "text"
      },
      "source": [
        "The numerical data that describes our cross-validation test performance\n",
        "is in mean_test_score."
      ]
    },
    {
      "cell_type": "code",
      "metadata": {
        "id": "Zj2PuLIUqBtU",
        "colab_type": "code",
        "colab": {
          "base_uri": "https://localhost:8080/",
          "height": 88
        },
        "outputId": "e644e9e5-eb94-4eeb-ed35-d659bb0a093c"
      },
      "source": [
        "search_results.cv_results_['mean_test_score']"
      ],
      "execution_count": 27,
      "outputs": [
        {
          "output_type": "execute_result",
          "data": {
            "text/plain": [
              "array([0.94604999, 0.41956667, 0.93736668, 0.35583333, 0.92976667,\n",
              "       0.29188334, 0.95735   , 0.57238332, 0.95508333, 0.47536666,\n",
              "       0.95338333, 0.33581667, 0.96316667, 0.6476    , 0.96323333,\n",
              "       0.50271666, 0.96065001, 0.44295001])"
            ]
          },
          "metadata": {
            "tags": []
          },
          "execution_count": 27
        }
      ]
    },
    {
      "cell_type": "markdown",
      "metadata": {
        "id": "aX-mfuLpqHy9",
        "colab_type": "text"
      },
      "source": [
        "Using NumPy’s utility argmax() we can find the index of the largest\n",
        "value in this list, and then extract the corresponding element from the\n",
        "′params′ item, so we can see which set of parameters gave us the best\n",
        "score."
      ]
    },
    {
      "cell_type": "code",
      "metadata": {
        "id": "ijgtUb_D3cCC",
        "colab_type": "code",
        "colab": {
          "base_uri": "https://localhost:8080/",
          "height": 88
        },
        "outputId": "ef7079ce-197a-4a12-cf40-a6e045b25add"
      },
      "source": [
        "best_index = np.argmax(search_results.cv_results_['mean_test_score'])\n",
        "print(f'best set of parameters:\\n index {str(best_index)}\\n {str(search_results.cv_results_[\"params\"][best_index])}\\n′.')"
      ],
      "execution_count": 29,
      "outputs": [
        {
          "output_type": "stream",
          "text": [
            "best set of parameters:\n",
            " index 14\n",
            " {'model_step__neurons_per_layer': 40, 'model_step__number_of_layers': 3, 'model_step__optimizer': 'adam'}\n",
            "′.\n"
          ],
          "name": "stdout"
        }
      ]
    },
    {
      "cell_type": "markdown",
      "metadata": {
        "id": "-AjL7mq94Lh3",
        "colab_type": "text"
      },
      "source": [
        "So our best combination used 2 layers, with 40 neurons per layer, and\n",
        "the Adam optimizer. But how much better was this than the other combinations?\n",
        "Let’s plot all the values of mean_test_scores so we can see\n",
        "how every combination performed."
      ]
    },
    {
      "cell_type": "code",
      "metadata": {
        "id": "1XPDHShy36m_",
        "colab_type": "code",
        "colab": {
          "base_uri": "https://localhost:8080/",
          "height": 326
        },
        "outputId": "db4eda64-1b6c-43ac-f585-2be3d0226c50"
      },
      "source": [
        "params = search_results.cv_results_['params']\n",
        "dict_vals = [params[i].values() for i in range(len(params))]\n",
        "name_list =[[str(v) for v in dv] for dv in dict_vals]\n",
        "xlabels = ['-'.join(name_list[i]) for i in range(len(name_list))]\n",
        "\n",
        "plt.plot(search_results.cv_results_['mean_test_score'], 'r')\n",
        "plt.xticks(np.arange(len(xlabels)), xlabels, rotation='vertical')\n",
        "\n",
        "plt.show()"
      ],
      "execution_count": 30,
      "outputs": [
        {
          "output_type": "display_data",
          "data": {
            "image/png": "[encoded data removed]",
            "text/plain": [
              "<Figure size 432x288 with 1 Axes>"
            ]
          },
          "metadata": {
            "tags": []
          }
        }
      ]
    },
    {
      "cell_type": "markdown",
      "metadata": {
        "id": "93TiNLC348U3",
        "colab_type": "text"
      },
      "source": [
        "Each of these innermost pairs slopes downwards, so we can say that\n",
        "Adam consistently outperformed Adadelta.\n",
        "\n",
        "The general trend in each second-level group is also downwards, so\n",
        "adding more layers usually caused a loss of performance.\n",
        "\n",
        "The general trend in the largest groups is going upwards, suggesting\n",
        "that more neurons are better than fewer.\n",
        "\n",
        "It’s interesting to note that the worst performance by far was the result\n",
        "of 4 dense-dropout layers of 20 neurons each. So that’s a structure to\n",
        "avoid for this data.\n",
        "\n",
        "Keep in mind that we’re always referring to “layers” as our combination\n",
        "of dense and dropout layers, using our default dropout rate of 0.2.\n",
        "\n",
        "There’s no hard and fast rule for making these choices. We need to use\n",
        "our judgment based on our knowledge of our model and data, coupled\n",
        "with the results of our experiments, to guide our search strategy. If\n",
        "we search with too fine a grid we can waste a lot of time, but if we use\n",
        "too coarse a grid we could miss a big spike in performance. Generally\n",
        "speaking, searching for performance is a task that rewards both intuition\n",
        "and analysis."
      ]
    },
    {
      "cell_type": "code",
      "metadata": {
        "id": "f1yLFRDJ4tO_",
        "colab_type": "code",
        "colab": {
          "base_uri": "https://localhost:8080/",
          "height": 997
        },
        "outputId": "0db996cf-6df7-4e45-cba0-ee9e3930fb1d"
      },
      "source": [
        "from tensorflow.keras import backend\n",
        "\n",
        "backend.clear_session()\n",
        "\n",
        "param_grid2 = dict(model_step__number_of_layers=[1, 2], model_step__neurons_per_layer=[50, 80, 110, 170])\n",
        "\n",
        "grid_searcher2 = GridSearchCV(estimator=pipeline, param_grid=param_grid2, verbose=2)\n",
        "search_results2 = grid_searcher2.fit(X_train, original_y_train)"
      ],
      "execution_count": 34,
      "outputs": [
        {
          "output_type": "stream",
          "text": [
            "/usr/local/lib/python3.6/dist-packages/sklearn/model_selection/_split.py:1978: FutureWarning: The default value of cv will change from 3 to 5 in version 0.22. Specify it explicitly to silence this warning.\n",
            "  warnings.warn(CV_WARNING, FutureWarning)\n",
            "[Parallel(n_jobs=1)]: Using backend SequentialBackend with 1 concurrent workers.\n"
          ],
          "name": "stderr"
        },
        {
          "output_type": "stream",
          "text": [
            "Fitting 3 folds for each of 8 candidates, totalling 24 fits\n",
            "[CV] model_step__neurons_per_layer=50, model_step__number_of_layers=1 \n",
            "[CV]  model_step__neurons_per_layer=50, model_step__number_of_layers=1, total= 1.1min\n",
            "[CV] model_step__neurons_per_layer=50, model_step__number_of_layers=1 \n"
          ],
          "name": "stdout"
        },
        {
          "output_type": "stream",
          "text": [
            "[Parallel(n_jobs=1)]: Done   1 out of   1 | elapsed:  1.1min remaining:    0.0s\n"
          ],
          "name": "stderr"
        },
        {
          "output_type": "stream",
          "text": [
            "[CV]  model_step__neurons_per_layer=50, model_step__number_of_layers=1, total= 1.1min\n",
            "[CV] model_step__neurons_per_layer=50, model_step__number_of_layers=1 \n",
            "[CV]  model_step__neurons_per_layer=50, model_step__number_of_layers=1, total= 1.1min\n",
            "[CV] model_step__neurons_per_layer=50, model_step__number_of_layers=2 \n",
            "[CV]  model_step__neurons_per_layer=50, model_step__number_of_layers=2, total= 1.2min\n",
            "[CV] model_step__neurons_per_layer=50, model_step__number_of_layers=2 \n",
            "[CV]  model_step__neurons_per_layer=50, model_step__number_of_layers=2, total= 1.2min\n",
            "[CV] model_step__neurons_per_layer=50, model_step__number_of_layers=2 \n",
            "[CV]  model_step__neurons_per_layer=50, model_step__number_of_layers=2, total= 1.2min\n",
            "[CV] model_step__neurons_per_layer=80, model_step__number_of_layers=1 \n",
            "[CV]  model_step__neurons_per_layer=80, model_step__number_of_layers=1, total= 1.3min\n",
            "[CV] model_step__neurons_per_layer=80, model_step__number_of_layers=1 \n",
            "[CV]  model_step__neurons_per_layer=80, model_step__number_of_layers=1, total= 1.3min\n",
            "[CV] model_step__neurons_per_layer=80, model_step__number_of_layers=1 \n",
            "[CV]  model_step__neurons_per_layer=80, model_step__number_of_layers=1, total= 1.2min\n",
            "[CV] model_step__neurons_per_layer=80, model_step__number_of_layers=2 \n",
            "[CV]  model_step__neurons_per_layer=80, model_step__number_of_layers=2, total= 1.5min\n",
            "[CV] model_step__neurons_per_layer=80, model_step__number_of_layers=2 \n",
            "[CV]  model_step__neurons_per_layer=80, model_step__number_of_layers=2, total= 1.5min\n",
            "[CV] model_step__neurons_per_layer=80, model_step__number_of_layers=2 \n",
            "[CV]  model_step__neurons_per_layer=80, model_step__number_of_layers=2, total= 1.4min\n",
            "[CV] model_step__neurons_per_layer=110, model_step__number_of_layers=1 \n",
            "[CV]  model_step__neurons_per_layer=110, model_step__number_of_layers=1, total= 1.5min\n",
            "[CV] model_step__neurons_per_layer=110, model_step__number_of_layers=1 \n",
            "[CV]  model_step__neurons_per_layer=110, model_step__number_of_layers=1, total= 1.5min\n",
            "[CV] model_step__neurons_per_layer=110, model_step__number_of_layers=1 \n",
            "[CV]  model_step__neurons_per_layer=110, model_step__number_of_layers=1, total= 1.5min\n",
            "[CV] model_step__neurons_per_layer=110, model_step__number_of_layers=2 \n",
            "[CV]  model_step__neurons_per_layer=110, model_step__number_of_layers=2, total= 1.8min\n",
            "[CV] model_step__neurons_per_layer=110, model_step__number_of_layers=2 \n",
            "[CV]  model_step__neurons_per_layer=110, model_step__number_of_layers=2, total= 1.8min\n",
            "[CV] model_step__neurons_per_layer=110, model_step__number_of_layers=2 \n",
            "[CV]  model_step__neurons_per_layer=110, model_step__number_of_layers=2, total= 1.8min\n",
            "[CV] model_step__neurons_per_layer=170, model_step__number_of_layers=1 \n",
            "[CV]  model_step__neurons_per_layer=170, model_step__number_of_layers=1, total= 1.8min\n",
            "[CV] model_step__neurons_per_layer=170, model_step__number_of_layers=1 \n",
            "[CV]  model_step__neurons_per_layer=170, model_step__number_of_layers=1, total= 1.8min\n",
            "[CV] model_step__neurons_per_layer=170, model_step__number_of_layers=1 \n",
            "[CV]  model_step__neurons_per_layer=170, model_step__number_of_layers=1, total= 1.8min\n",
            "[CV] model_step__neurons_per_layer=170, model_step__number_of_layers=2 \n",
            "[CV]  model_step__neurons_per_layer=170, model_step__number_of_layers=2, total= 2.4min\n",
            "[CV] model_step__neurons_per_layer=170, model_step__number_of_layers=2 \n",
            "[CV]  model_step__neurons_per_layer=170, model_step__number_of_layers=2, total= 2.5min\n",
            "[CV] model_step__neurons_per_layer=170, model_step__number_of_layers=2 \n",
            "[CV]  model_step__neurons_per_layer=170, model_step__number_of_layers=2, total= 2.5min\n"
          ],
          "name": "stdout"
        },
        {
          "output_type": "stream",
          "text": [
            "[Parallel(n_jobs=1)]: Done  24 out of  24 | elapsed: 37.9min finished\n"
          ],
          "name": "stderr"
        }
      ]
    },
    {
      "cell_type": "code",
      "metadata": {
        "id": "iiqQCWP06H_r",
        "colab_type": "code",
        "colab": {
          "base_uri": "https://localhost:8080/",
          "height": 88
        },
        "outputId": "eac8ba68-9e8a-4323-edd9-201873f9be0b"
      },
      "source": [
        "best_index2 = np.argmax(search_results2.cv_results_['mean_test_score'])\n",
        "print(f'best set of parameters:\\n index {str(best_index2)}\\n {str(search_results2.cv_results_[\"params\"][best_index2])}\\n′.')"
      ],
      "execution_count": 35,
      "outputs": [
        {
          "output_type": "stream",
          "text": [
            "best set of parameters:\n",
            " index 7\n",
            " {'model_step__neurons_per_layer': 170, 'model_step__number_of_layers': 2}\n",
            "′.\n"
          ],
          "name": "stdout"
        }
      ]
    },
    {
      "cell_type": "code",
      "metadata": {
        "id": "1ScOMxN-6Je-",
        "colab_type": "code",
        "colab": {
          "base_uri": "https://localhost:8080/",
          "height": 284
        },
        "outputId": "4a98ff4a-6fae-46dc-a9c9-542fda689707"
      },
      "source": [
        "params2 = search_results2.cv_results_['params']\n",
        "dict_vals = [params2[i].values() for i in range(len(params2))]\n",
        "name_list =[[str(v) for v in dv] for dv in dict_vals]\n",
        "xlabels = ['-'.join(name_list[i]) for i in range(len(name_list))]\n",
        "\n",
        "plt.plot(search_results2.cv_results_['mean_test_score'], 'r')\n",
        "plt.xticks(np.arange(len(xlabels)), xlabels, rotation='vertical')\n",
        "\n",
        "plt.show()"
      ],
      "execution_count": 36,
      "outputs": [
        {
          "output_type": "display_data",
          "data": {
            "image/png": "[encoded data removed]",
            "text/plain": [
              "<Figure size 432x288 with 1 Axes>"
            ]
          },
          "metadata": {
            "tags": []
          }
        }
      ]
    },
    {
      "cell_type": "markdown",
      "metadata": {
        "id": "nT9SP9Jal7XV",
        "colab_type": "text"
      },
      "source": [
        "Let’s crank up both the number of neurons and the search range quite\n",
        "a bit."
      ]
    },
    {
      "cell_type": "code",
      "metadata": {
        "id": "uDS6y4I_O5gp",
        "colab_type": "code",
        "colab": {
          "base_uri": "https://localhost:8080/",
          "height": 997
        },
        "outputId": "65962639-6b12-4200-94d4-797f63ade9b0"
      },
      "source": [
        "backend.clear_session()\n",
        "\n",
        "param_grid3 = dict(model_step__number_of_layers=[1, 2], model_step__neurons_per_layer=[180, 280, 380, 580])\n",
        "\n",
        "grid_searcher3 = GridSearchCV(estimator=pipeline, param_grid=param_grid3, verbose=2)\n",
        "search_results3 = grid_searcher3.fit(X_train, original_y_train)"
      ],
      "execution_count": 37,
      "outputs": [
        {
          "output_type": "stream",
          "text": [
            "/usr/local/lib/python3.6/dist-packages/sklearn/model_selection/_split.py:1978: FutureWarning: The default value of cv will change from 3 to 5 in version 0.22. Specify it explicitly to silence this warning.\n",
            "  warnings.warn(CV_WARNING, FutureWarning)\n",
            "[Parallel(n_jobs=1)]: Using backend SequentialBackend with 1 concurrent workers.\n"
          ],
          "name": "stderr"
        },
        {
          "output_type": "stream",
          "text": [
            "Fitting 3 folds for each of 8 candidates, totalling 24 fits\n",
            "[CV] model_step__neurons_per_layer=180, model_step__number_of_layers=1 \n",
            "[CV]  model_step__neurons_per_layer=180, model_step__number_of_layers=1, total= 1.8min\n",
            "[CV] model_step__neurons_per_layer=180, model_step__number_of_layers=1 \n"
          ],
          "name": "stdout"
        },
        {
          "output_type": "stream",
          "text": [
            "[Parallel(n_jobs=1)]: Done   1 out of   1 | elapsed:  1.8min remaining:    0.0s\n"
          ],
          "name": "stderr"
        },
        {
          "output_type": "stream",
          "text": [
            "[CV]  model_step__neurons_per_layer=180, model_step__number_of_layers=1, total= 1.9min\n",
            "[CV] model_step__neurons_per_layer=180, model_step__number_of_layers=1 \n",
            "[CV]  model_step__neurons_per_layer=180, model_step__number_of_layers=1, total= 1.9min\n",
            "[CV] model_step__neurons_per_layer=180, model_step__number_of_layers=2 \n",
            "[CV]  model_step__neurons_per_layer=180, model_step__number_of_layers=2, total= 2.5min\n",
            "[CV] model_step__neurons_per_layer=180, model_step__number_of_layers=2 \n",
            "[CV]  model_step__neurons_per_layer=180, model_step__number_of_layers=2, total= 2.5min\n",
            "[CV] model_step__neurons_per_layer=180, model_step__number_of_layers=2 \n",
            "[CV]  model_step__neurons_per_layer=180, model_step__number_of_layers=2, total= 2.5min\n",
            "[CV] model_step__neurons_per_layer=280, model_step__number_of_layers=1 \n",
            "[CV]  model_step__neurons_per_layer=280, model_step__number_of_layers=1, total= 2.5min\n",
            "[CV] model_step__neurons_per_layer=280, model_step__number_of_layers=1 \n",
            "[CV]  model_step__neurons_per_layer=280, model_step__number_of_layers=1, total= 2.5min\n",
            "[CV] model_step__neurons_per_layer=280, model_step__number_of_layers=1 \n",
            "[CV]  model_step__neurons_per_layer=280, model_step__number_of_layers=1, total= 2.4min\n",
            "[CV] model_step__neurons_per_layer=280, model_step__number_of_layers=2 \n",
            "[CV]  model_step__neurons_per_layer=280, model_step__number_of_layers=2, total= 3.8min\n",
            "[CV] model_step__neurons_per_layer=280, model_step__number_of_layers=2 \n",
            "[CV]  model_step__neurons_per_layer=280, model_step__number_of_layers=2, total= 3.6min\n",
            "[CV] model_step__neurons_per_layer=280, model_step__number_of_layers=2 \n",
            "[CV]  model_step__neurons_per_layer=280, model_step__number_of_layers=2, total= 3.6min\n",
            "[CV] model_step__neurons_per_layer=380, model_step__number_of_layers=1 \n",
            "[CV]  model_step__neurons_per_layer=380, model_step__number_of_layers=1, total= 3.2min\n",
            "[CV] model_step__neurons_per_layer=380, model_step__number_of_layers=1 \n",
            "[CV]  model_step__neurons_per_layer=380, model_step__number_of_layers=1, total= 3.2min\n",
            "[CV] model_step__neurons_per_layer=380, model_step__number_of_layers=1 \n",
            "[CV]  model_step__neurons_per_layer=380, model_step__number_of_layers=1, total= 3.1min\n",
            "[CV] model_step__neurons_per_layer=380, model_step__number_of_layers=2 \n",
            "[CV]  model_step__neurons_per_layer=380, model_step__number_of_layers=2, total= 5.0min\n",
            "[CV] model_step__neurons_per_layer=380, model_step__number_of_layers=2 \n",
            "[CV]  model_step__neurons_per_layer=380, model_step__number_of_layers=2, total= 5.0min\n",
            "[CV] model_step__neurons_per_layer=380, model_step__number_of_layers=2 \n",
            "[CV]  model_step__neurons_per_layer=380, model_step__number_of_layers=2, total= 5.0min\n",
            "[CV] model_step__neurons_per_layer=580, model_step__number_of_layers=1 \n",
            "[CV]  model_step__neurons_per_layer=580, model_step__number_of_layers=1, total= 4.4min\n",
            "[CV] model_step__neurons_per_layer=580, model_step__number_of_layers=1 \n",
            "[CV]  model_step__neurons_per_layer=580, model_step__number_of_layers=1, total= 4.4min\n",
            "[CV] model_step__neurons_per_layer=580, model_step__number_of_layers=1 \n",
            "[CV]  model_step__neurons_per_layer=580, model_step__number_of_layers=1, total= 4.5min\n",
            "[CV] model_step__neurons_per_layer=580, model_step__number_of_layers=2 \n",
            "[CV]  model_step__neurons_per_layer=580, model_step__number_of_layers=2, total= 8.3min\n",
            "[CV] model_step__neurons_per_layer=580, model_step__number_of_layers=2 \n",
            "[CV]  model_step__neurons_per_layer=580, model_step__number_of_layers=2, total= 8.2min\n",
            "[CV] model_step__neurons_per_layer=580, model_step__number_of_layers=2 \n",
            "[CV]  model_step__neurons_per_layer=580, model_step__number_of_layers=2, total= 8.2min\n"
          ],
          "name": "stdout"
        },
        {
          "output_type": "stream",
          "text": [
            "[Parallel(n_jobs=1)]: Done  24 out of  24 | elapsed: 93.8min finished\n"
          ],
          "name": "stderr"
        }
      ]
    },
    {
      "cell_type": "code",
      "metadata": {
        "id": "CKeW3ag7mJpA",
        "colab_type": "code",
        "colab": {
          "base_uri": "https://localhost:8080/",
          "height": 88
        },
        "outputId": "673547fe-075e-4362-d7ec-8c981987f7f5"
      },
      "source": [
        "best_index3 = np.argmax(search_results3.cv_results_['mean_test_score'])\n",
        "print(f'best set of parameters:\\n index {str(best_index3)}\\n {str(search_results3.cv_results_[\"params\"][best_index3])}\\n′.')"
      ],
      "execution_count": 38,
      "outputs": [
        {
          "output_type": "stream",
          "text": [
            "best set of parameters:\n",
            " index 5\n",
            " {'model_step__neurons_per_layer': 380, 'model_step__number_of_layers': 2}\n",
            "′.\n"
          ],
          "name": "stdout"
        }
      ]
    },
    {
      "cell_type": "code",
      "metadata": {
        "id": "mW1dKDiJmQrO",
        "colab_type": "code",
        "colab": {
          "base_uri": "https://localhost:8080/",
          "height": 286
        },
        "outputId": "973560b7-7046-4793-e616-383a24678a52"
      },
      "source": [
        "params3 = search_results3.cv_results_['params']\n",
        "dict_vals = [params3[i].values() for i in range(len(params3))]\n",
        "name_list =[[str(v) for v in dv] for dv in dict_vals]\n",
        "xlabels = ['-'.join(name_list[i]) for i in range(len(name_list))]\n",
        "\n",
        "plt.plot(search_results3.cv_results_['mean_test_score'], 'r')\n",
        "plt.xticks(np.arange(len(xlabels)), xlabels, rotation='vertical')\n",
        "\n",
        "plt.show()"
      ],
      "execution_count": 39,
      "outputs": [
        {
          "output_type": "display_data",
          "data": {
            "image/png": "[encoded data removed]",
            "text/plain": [
              "<Figure size 432x288 with 1 Axes>"
            ]
          },
          "metadata": {
            "tags": []
          }
        }
      ]
    },
    {
      "cell_type": "markdown",
      "metadata": {
        "id": "3fyPRGur1AXj",
        "colab_type": "text"
      },
      "source": [
        "We’ll stop searching here, but we could continue to try different values\n",
        "for all of these parameters, or some we didn’t even try (like any\n",
        "of the Normalization object’s parameters, or dropout_ratio in our\n",
        "own model).\n",
        "\n",
        "A good strategy is to start with searches that cover broad ranges with\n",
        "just a few values. When we see where the model is performing best,\n",
        "we can then run another, denser search to explore the area around\n",
        "that zone. This is called multiresolution searching, and it’s just an\n",
        "algorithmic version of what we do when we look for something in the\n",
        "real world.\n",
        "\n",
        "A useful alternative to the exhaustive search performed by the grid\n",
        "searcher is provided by scikit-learn’s RandomizedSearchCV algorithm."
      ]
    }
  ]
}