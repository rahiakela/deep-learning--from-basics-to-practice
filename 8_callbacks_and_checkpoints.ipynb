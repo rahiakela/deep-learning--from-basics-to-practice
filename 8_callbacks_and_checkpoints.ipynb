{
  "nbformat": 4,
  "nbformat_minor": 0,
  "metadata": {
    "colab": {
      "name": "8-callbacks-and-checkpoints.ipynb",
      "provenance": [],
      "toc_visible": true,
      "include_colab_link": true
    },
    "kernelspec": {
      "name": "python3",
      "display_name": "Python 3"
    }
  },
  "cells": [
    {
      "cell_type": "markdown",
      "metadata": {
        "id": "view-in-github",
        "colab_type": "text"
      },
      "source": [
        "<a href=\"https://colab.research.google.com/github/rahiakela/deep-learning--from-basics-to-practice/blob/23-keras-part-1/8_callbacks_and_checkpoints.ipynb\" target=\"_parent\"><img src=\"https://colab.research.google.com/assets/colab-badge.svg\" alt=\"Open In Colab\"/></a>"
      ]
    },
    {
      "cell_type": "markdown",
      "metadata": {
        "id": "FN6bxZgY_5E1",
        "colab_type": "text"
      },
      "source": [
        "# Callbacks and Checkpoints"
      ]
    },
    {
      "cell_type": "markdown",
      "metadata": {
        "id": "85ooaPvq_7lf",
        "colab_type": "text"
      },
      "source": [
        "## Setup"
      ]
    },
    {
      "cell_type": "code",
      "metadata": {
        "id": "sOKS_spA_-0F",
        "colab_type": "code",
        "colab": {
          "base_uri": "https://localhost:8080/",
          "height": 82
        },
        "outputId": "acc031a9-ba82-480a-e7b0-22bb72edb0a9"
      },
      "source": [
        "from keras.datasets import mnist\n",
        "from keras import backend as Keras_backend\n",
        "from keras.utils.np_utils import to_categorical\n",
        "import matplotlib.pyplot as plt\n",
        "\n",
        "import numpy as np\n",
        "\n",
        "from keras import backend as keras_backend\n",
        "keras_backend.set_image_data_format('channels_last')"
      ],
      "execution_count": 1,
      "outputs": [
        {
          "output_type": "stream",
          "text": [
            "Using TensorFlow backend.\n"
          ],
          "name": "stderr"
        },
        {
          "output_type": "display_data",
          "data": {
            "text/html": [
              "<p style=\"color: red;\">\n",
              "The default version of TensorFlow in Colab will soon switch to TensorFlow 2.x.<br>\n",
              "We recommend you <a href=\"https://www.tensorflow.org/guide/migrate\" target=\"_blank\">upgrade</a> now \n",
              "or ensure your notebook will continue to use TensorFlow 1.x via the <code>%tensorflow_version 1.x</code> magic:\n",
              "<a href=\"https://colab.research.google.com/notebooks/tensorflow_version.ipynb\" target=\"_blank\">more info</a>.</p>\n"
            ],
            "text/plain": [
              "<IPython.core.display.HTML object>"
            ]
          },
          "metadata": {
            "tags": []
          }
        }
      ]
    },
    {
      "cell_type": "code",
      "metadata": {
        "id": "vRascEAfAYoA",
        "colab_type": "code",
        "colab": {}
      },
      "source": [
        "from keras.datasets import mnist\n",
        "from keras import backend as keras_backend\n",
        "from keras.models import Sequential\n",
        "from keras.layers import Dense\n",
        "\n",
        "# load MNIST data and save sizes\n",
        "(X_train, y_train), (X_test, y_test) = mnist.load_data()\n",
        "\n",
        "image_height = X_train.shape[1]\n",
        "image_width = X_train.shape[2]\n",
        "number_of_pixels = image_height * image_width\n",
        "\n",
        "\n",
        "# convert to floating-point\n",
        "X_train = keras_backend.cast_to_floatx(X_train)\n",
        "X_test = keras_backend.cast_to_floatx(X_test)\n",
        "\n",
        "\n",
        "# scale data to range [0, 1]\n",
        "X_train /= 255.0\n",
        "X_test /= 255.0\n",
        "\n",
        "\n",
        "# save the original y_train and y_test\n",
        "original_y_train = y_train\n",
        "original_y_test = y_test\n",
        "\n",
        "# replace label data with one-hot encoded versions\n",
        "number_of_classes = 1 + max(np.append(y_train, y_test)).astype(np.int32)\n",
        "\n",
        "# encode each list into one-hot arrays of the size we just found\n",
        "y_train = to_categorical(y_train, num_classes=number_of_classes)\n",
        "y_test = to_categorical(y_test, num_classes=number_of_classes)\n",
        "\n",
        "# reshape samples to 2D grid, one line per image\n",
        "X_train = X_train.reshape([X_train.shape[0], number_of_pixels])\n",
        "X_test = X_test.reshape([X_test.shape[0], number_of_pixels])\n",
        "\n",
        "def make_one_hidden_layer_model():\n",
        "\n",
        "  # create an empty model\n",
        "  model = Sequential()\n",
        "\n",
        "  # add a fully-connected hidden layer with #nodes = #pixels\n",
        "  model.add(Dense(number_of_pixels, activation='relu', input_shape=[number_of_pixels]))\n",
        "\n",
        "  # add an output layer with softmax activation\n",
        "  model.add(Dense(number_of_classes, activation='softmax'))\n",
        "\n",
        "  return model\n",
        "\n",
        "def compile_one_hidden_layer_model():\n",
        "\n",
        "  # create an empty model\n",
        "  model = Sequential()\n",
        "\n",
        "  # add a fully-connected hidden layer with #nodes = #pixels\n",
        "  model.add(Dense(number_of_pixels, activation='relu', input_shape=[number_of_pixels]))\n",
        "\n",
        "  # add an output layer with softmax activation\n",
        "  model.add(Dense(number_of_classes, activation='softmax'))\n",
        "\n",
        "  # compile the model to turn it from specification to code\n",
        "  model.compile(loss='categorical_crossentropy', optimizer='adam', metrics=['accuracy'])\n",
        "\n",
        "  return model"
      ],
      "execution_count": 0,
      "outputs": []
    },
    {
      "cell_type": "markdown",
      "metadata": {
        "id": "EutSG-HWCcC3",
        "colab_type": "text"
      },
      "source": [
        "## Introduction"
      ]
    },
    {
      "cell_type": "markdown",
      "metadata": {
        "id": "RgZU3LLtCf8X",
        "colab_type": "text"
      },
      "source": [
        "After each epoch it computes values such as loss and accuracy, as well\n",
        "as the values we asked for in the metrics argument. It also consults\n",
        "a list of callback procedures that we supply. Keras then calls each of\n",
        "those procedures for us, and they can do anything we want.\n",
        "\n",
        "We tell Keras what functions to call by handing them to fit() as the\n",
        "value of an optional argument called callbacks. These callbacks can\n",
        "be a combination of functions we’ve written ourselves, and functions\n",
        "built into Keras.\n",
        "\n",
        "In this section, we’ll focus on three of the callbacks provided to us by\n",
        "Keras: \n",
        "* one to checkpoint (or save the weights), \n",
        "* one to control the learning rate over time, \n",
        "* and one to perform early stopping (or cease training when we appear to start overfitting)."
      ]
    },
    {
      "cell_type": "markdown",
      "metadata": {
        "id": "9KkvnEVeC4tP",
        "colab_type": "text"
      },
      "source": [
        "## Checkpoints"
      ]
    },
    {
      "cell_type": "markdown",
      "metadata": {
        "id": "ikAKDp6sC5kr",
        "colab_type": "text"
      },
      "source": [
        "A popular use for callbacks is to checkpoint our model during training.\n",
        "This means saving out the model (or, if we prefer, just the weights)\n",
        "to a file. We can save a checkpoint after every epoch if we like, but usually\n",
        "we only do this after every few epochs.\n",
        "\n",
        "Having checkpoints means that if we’re training a system that takes\n",
        "hours or days, and we lose power or for any other reason the training\n",
        "stops, we can pick up again by loading the most recently saved model\n",
        "file.\n",
        "\n",
        "To tell Keras to make checkpoints we’ll create a ModelCheckpoint\n",
        "object, and then hand it to Keras when we call fit().\n",
        "\n",
        "The first argument to ModelCheckpoint, which is mandatory and\n",
        "unnamed, is the path to the file that will be written. This file is in the\n",
        "HDF5 format, so we typically give it an extension of either .h5 or .hdf5."
      ]
    },
    {
      "cell_type": "code",
      "metadata": {
        "id": "MlCqLE3fGJ_T",
        "colab_type": "code",
        "colab": {}
      },
      "source": [
        "from keras.callbacks import ModelCheckpoint\n",
        "\n",
        "# make the model\n",
        "model = compile_one_hidden_layer_model()  \n",
        "\n",
        "# {epoch:03d} will be replaced by a 3-digit decimal number holding the current epoch.\n",
        "# {val_loss:0.3f} will be replaced with a 3-digit floating-point value of the current loss\n",
        "filename = 'model-weights-{epoch:02d}-{val_loss:.03f}.h5'\n",
        "\n",
        "checkpointer = ModelCheckpoint(filename)\n",
        "\n",
        "# call fit() to train the model, and save the history\n",
        "model.fit(X_train, y_train, validation_data=(X_test, y_test), epochs=100, batch_size=256, verbose=2, callbacks=[checkpointer])"
      ],
      "execution_count": 0,
      "outputs": []
    },
    {
      "cell_type": "markdown",
      "metadata": {
        "id": "Q-XWWzRrJuLk",
        "colab_type": "text"
      },
      "source": [
        "Writing out the complete model after every epoch may take up more\n",
        "disk space (and computer time) than we want to use. We can cut down\n",
        "on the size of the file by saving just the weights. To do this, set the\n",
        "optional argument save_weights_only to True (the default is False,\n",
        "so every files contains both the architecture and the weights).\n",
        "\n",
        "We might not need even the weights written out after every epoch. We\n",
        "can tell it to write out a file only periodically by setting the optional\n",
        "argument period to some value (the default is 1, meaning the file is\n",
        "written after every epoch). For example, if we set period to 5, then the\n",
        "file is only produced every 5th epoch.\n",
        "\n",
        "By default, the value that Keras can insert into the file name is the validation\n",
        "loss, val_loss. But we can ask it to use the validation error\n",
        "val_err, the training loss loss, or the training error err. We just use\n",
        "the name we want in the checkpoint file."
      ]
    },
    {
      "cell_type": "code",
      "metadata": {
        "id": "WvEmiVVbIrkD",
        "colab_type": "code",
        "colab": {}
      },
      "source": [
        "# make the model\n",
        "model_2 = compile_one_hidden_layer_model()  \n",
        "\n",
        "# {epoch:03d} will be replaced by a 3-digit decimal number holding the current epoch.\n",
        "# {val_loss:0.3f} will be replaced with a 3-digit floating-point value of the current loss\n",
        "filename = 'model-weights-epoch-{epoch:02d}-acc-{acc:0.3f}.h5'\n",
        "\n",
        "checkpointer = ModelCheckpoint(filename, monitor='acc', save_weights_only=True, period=10)\n",
        "\n",
        "# call fit() to train the model, and save the history\n",
        "model_2.fit(X_train, y_train, validation_data=(X_test, y_test), epochs=100, batch_size=256, verbose=2, callbacks=[checkpointer])"
      ],
      "execution_count": 0,
      "outputs": []
    },
    {
      "cell_type": "markdown",
      "metadata": {
        "id": "YFF7kJRYMniB",
        "colab_type": "text"
      },
      "source": [
        "## Learning Rate"
      ]
    },
    {
      "cell_type": "markdown",
      "metadata": {
        "id": "f4obiiuuMo0E",
        "colab_type": "text"
      },
      "source": [
        "Another popular use of callbacks is to change the learning rate over\n",
        "time.\n",
        "\n",
        "Many modern optimizers automatically\n",
        "adjust the learning rate adaptively (they usually have names that begin\n",
        "with “Ada” for “adaptive learning rate”). But if we choose to use something\n",
        "like SGD, then we’ll need to manage the learning rate ourselves.\n",
        "\n",
        "We might start with a large learning rate,\n",
        "and then shrink it either on every epoch, or in stair step fashion after\n",
        "each group of some fixed number of epochs. To pull off these strategies,\n",
        "or any others we might prefer, we use the built-in callback routine\n",
        "named LearningRateScheduler().\n",
        "\n",
        "The LearningRateScheduler callback is really just a little connection\n",
        "function between Keras and a function that we write. The\n",
        "LearningRateScheduler calls our function, and it returns the value\n",
        "that our function returns. The function we write must take one argument:\n",
        "an integer with the epoch number that just finished as an input\n",
        "(this starts at 0). It must return a new floating-point learning rate as\n",
        "an output.\n",
        "\n",
        "We start by compiling the model with the\n",
        "non-adaptive SGD optimizer. We’ve written a little scheduling routine\n",
        "that we’ve called simpleSchedule(). If we wanted to use checkpointing\n",
        "here as well, we could create a ModelCheckpoint object as in the\n",
        "last section, and include it in the list we provide to callbacks. The\n",
        "order in which the callback routines are named in this list makes no\n",
        "difference."
      ]
    },
    {
      "cell_type": "code",
      "metadata": {
        "id": "v8CS-YweL2yO",
        "colab_type": "code",
        "colab": {}
      },
      "source": [
        "from keras.callbacks import LearningRateScheduler\n",
        "from keras.optimizers import SGD\n",
        "\n",
        "# make the model\n",
        "model_3 = make_one_hidden_layer_model()\n",
        "\n",
        "sgd = SGD(lr=0.0, momentum=0.9, decay=0.0, nesterov=False)\n",
        "model_3.compile(loss='binary_crossentropy', optimizer=sgd, metrics=['accuracy'])\n",
        "\n",
        "def simpleSchedule(epoch_number):\n",
        "  # start at 1 and drop to 0.1\n",
        "  return max(.1, 1 - (0.01 * epoch_number))\n",
        "\n",
        "lr_scheduler = LearningRateScheduler(simpleSchedule) \n",
        "\n",
        "history = model_3.fit(X_train, y_train, validation_data=(X_test, y_test), epochs=100, batch_size=256, verbose=2, callbacks=[lr_scheduler, checkpointer])"
      ],
      "execution_count": 0,
      "outputs": []
    },
    {
      "cell_type": "markdown",
      "metadata": {
        "id": "_TxaEXLATFnP",
        "colab_type": "text"
      },
      "source": [
        "## Early Stopping"
      ]
    },
    {
      "cell_type": "markdown",
      "metadata": {
        "id": "EEmpPj9hTIPW",
        "colab_type": "text"
      },
      "source": [
        "Another popular use of callbacks is to implement early stopping.This involves watching the performance of our network and looking for signs of overfitting. When we see overfitting, we stop training.\n",
        "\n",
        "So we stop “early” in the sense that we probably would have kept going\n",
        "if not for this intervention, but in fact we’re stopping at the right time\n",
        "to prevent overfitting.\n",
        "\n",
        "The built-in routine provided by Keras implements this idea by monitoring\n",
        "a statistic of our choice. When that value stops improving, it\n",
        "stops training.\n",
        "\n",
        "Early stopping is often used with checkpointing. We might tell our system\n",
        "to train for a ridiculous number of epochs, like 100,000 of them,\n",
        "and then go to lunch (or to sleep), leaving the computer to run, checkpointing\n",
        "the model every few epochs (or saving the best one according\n",
        "to some measurement). We count on the early stopping callback to stop\n",
        "training when our monitored statistic stops improving. Then when we\n",
        "return to the computer, we look through our saved files. Since the most\n",
        "recently-written file is usually the best-trained model, that’s the one\n",
        "we use from then on.\n",
        "\n",
        "Our callback is made by creating an instance of an EarlyStopping\n",
        "object. Let’s look at four of its useful options.\n",
        "* First, we tell the system which value it should be watching. As usual,\n",
        "we can specify the training accuracy ′acc′, training loss ′loss′, validation\n",
        "accuracy ′val_acc′, or validation loss ′val_loss′. We hand\n",
        "our choice to the parameter named monitor.\n",
        "* Second, we provide a value to a floating-point parameter called\n",
        "min_delta.In this case,\n",
        "min_delta is the minimum amount of change to the monitored value\n",
        "for EarlyStopping() to notice. Any change less than this amount is\n",
        "ignored. By default, this value is 0, so every time the monitored value\n",
        "changes, EarlyStopping() checks to see if we need to stop. That\n",
        "default is usually a good place to start. We can increase this value if\n",
        "we’re getting way too many files.\n",
        "* Third, we provide a value to an integer called patience. As the system\n",
        "watches our chosen parameter from one epoch to the next, there\n",
        "might be some ranges of time where it doesn’t improve, or even gets a\n",
        "little worse.The value we assign to patience tells the routine how\n",
        "long the “long term” is. It’s the number of epochs to wait for things to\n",
        "get better before deciding that fit() should stop training. The default\n",
        "value of patience is 0, which is usually too aggressive. This is a parameter\n",
        "that’s best set after a bit of experimentation to see how noisy the\n",
        "results are.\n",
        "* Finally, we can also set a value to verbose to have it print out a line\n",
        "of text if it decides to stop training, so we can look at the output and\n",
        "know that it intervened."
      ]
    },
    {
      "cell_type": "code",
      "metadata": {
        "id": "jbrDJrhHOoXv",
        "colab_type": "code",
        "colab": {
          "base_uri": "https://localhost:8080/",
          "height": 835
        },
        "outputId": "7c49f15c-9105-4b79-8b5e-563fd96f5d63"
      },
      "source": [
        "from keras.callbacks import EarlyStopping\n",
        "from keras.optimizers import SGD\n",
        "\n",
        "# make the model\n",
        "model_4 = compile_one_hidden_layer_model()\n",
        "\n",
        "early_stopper = EarlyStopping(monitor='val_loss', patience=10, verbose=1)\n",
        "\n",
        "history = model_4.fit(X_train, y_train, validation_data=(X_test, y_test), epochs=100, batch_size=256, verbose=2, \n",
        "                      callbacks=[early_stopper])"
      ],
      "execution_count": 14,
      "outputs": [
        {
          "output_type": "stream",
          "text": [
            "Train on 60000 samples, validate on 10000 samples\n",
            "Epoch 1/100\n",
            " - 5s - loss: 0.3034 - acc: 0.9132 - val_loss: 0.1556 - val_acc: 0.9556\n",
            "Epoch 2/100\n",
            " - 4s - loss: 0.1237 - acc: 0.9641 - val_loss: 0.0998 - val_acc: 0.9708\n",
            "Epoch 3/100\n",
            " - 4s - loss: 0.0807 - acc: 0.9767 - val_loss: 0.0860 - val_acc: 0.9724\n",
            "Epoch 4/100\n",
            " - 4s - loss: 0.0572 - acc: 0.9837 - val_loss: 0.0702 - val_acc: 0.9781\n",
            "Epoch 5/100\n",
            " - 4s - loss: 0.0435 - acc: 0.9878 - val_loss: 0.0646 - val_acc: 0.9798\n",
            "Epoch 6/100\n",
            " - 4s - loss: 0.0319 - acc: 0.9916 - val_loss: 0.0645 - val_acc: 0.9800\n",
            "Epoch 7/100\n",
            " - 4s - loss: 0.0240 - acc: 0.9940 - val_loss: 0.0586 - val_acc: 0.9819\n",
            "Epoch 8/100\n",
            " - 4s - loss: 0.0189 - acc: 0.9955 - val_loss: 0.0595 - val_acc: 0.9813\n",
            "Epoch 9/100\n",
            " - 4s - loss: 0.0140 - acc: 0.9969 - val_loss: 0.0585 - val_acc: 0.9813\n",
            "Epoch 10/100\n",
            " - 4s - loss: 0.0108 - acc: 0.9980 - val_loss: 0.0559 - val_acc: 0.9828\n",
            "Epoch 11/100\n",
            " - 4s - loss: 0.0082 - acc: 0.9987 - val_loss: 0.0600 - val_acc: 0.9815\n",
            "Epoch 12/100\n",
            " - 4s - loss: 0.0063 - acc: 0.9992 - val_loss: 0.0545 - val_acc: 0.9839\n",
            "Epoch 13/100\n",
            " - 4s - loss: 0.0046 - acc: 0.9996 - val_loss: 0.0556 - val_acc: 0.9828\n",
            "Epoch 14/100\n",
            " - 4s - loss: 0.0033 - acc: 0.9998 - val_loss: 0.0579 - val_acc: 0.9823\n",
            "Epoch 15/100\n",
            " - 4s - loss: 0.0029 - acc: 0.9999 - val_loss: 0.0584 - val_acc: 0.9836\n",
            "Epoch 16/100\n",
            " - 4s - loss: 0.0023 - acc: 0.9999 - val_loss: 0.0567 - val_acc: 0.9838\n",
            "Epoch 17/100\n",
            " - 4s - loss: 0.0022 - acc: 0.9997 - val_loss: 0.0625 - val_acc: 0.9831\n",
            "Epoch 18/100\n",
            " - 4s - loss: 0.0042 - acc: 0.9992 - val_loss: 0.0722 - val_acc: 0.9807\n",
            "Epoch 19/100\n",
            " - 4s - loss: 0.0178 - acc: 0.9939 - val_loss: 0.0700 - val_acc: 0.9799\n",
            "Epoch 20/100\n",
            " - 4s - loss: 0.0060 - acc: 0.9982 - val_loss: 0.0706 - val_acc: 0.9806\n",
            "Epoch 21/100\n",
            " - 4s - loss: 0.0029 - acc: 0.9995 - val_loss: 0.0627 - val_acc: 0.9828\n",
            "Epoch 22/100\n",
            " - 4s - loss: 8.6979e-04 - acc: 1.0000 - val_loss: 0.0653 - val_acc: 0.9825\n",
            "Epoch 00022: early stopping\n"
          ],
          "name": "stdout"
        }
      ]
    },
    {
      "cell_type": "code",
      "metadata": {
        "id": "wcUPs40XWV0D",
        "colab_type": "code",
        "colab": {
          "base_uri": "https://localhost:8080/",
          "height": 241
        },
        "outputId": "acaa773b-d53b-42b4-a464-de3738a968e2"
      },
      "source": [
        "xs = range(len(history.history['acc']))\n",
        "\n",
        "plt.figure(figsize=(10,3))\n",
        "plt.subplot(1, 2, 1)\n",
        "plt.plot(xs, history.history['acc'], label='train')\n",
        "plt.plot(xs, history.history['val_acc'], label='validation')\n",
        "plt.legend(loc='lower right')\n",
        "plt.xlabel('epochs')\n",
        "plt.ylabel('accuracy')\n",
        "plt.title('accuracy')\n",
        "\n",
        "plt.subplot(1, 2, 2)\n",
        "plt.plot(xs, history.history['loss'], label='train')\n",
        "plt.plot(xs, history.history['val_loss'], label='validation')\n",
        "plt.legend(loc='upper right')\n",
        "plt.xlabel('epochs')\n",
        "plt.ylabel('loss')\n",
        "plt.title('loss')\n",
        "\n",
        "plt.show()"
      ],
      "execution_count": 15,
      "outputs": [
        {
          "output_type": "display_data",
          "data": {
            "image/png": "[encoded data removed]",
            "text/plain": [
              "<Figure size 720x216 with 2 Axes>"
            ]
          },
          "metadata": {
            "tags": []
          }
        }
      ]
    },
    {
      "cell_type": "markdown",
      "metadata": {
        "id": "qOqwm3jWWh0A",
        "colab_type": "text"
      },
      "source": [
        "Early stopping is the solution we promised earlier to the problem of\n",
        "picking the wrong value for epochs when calling fit(). With early\n",
        "stopping in place, we can always pick a ridiculously large number for\n",
        "epochs, and let the computer automatically stop training at the right\n",
        "time."
      ]
    }
  ]
}